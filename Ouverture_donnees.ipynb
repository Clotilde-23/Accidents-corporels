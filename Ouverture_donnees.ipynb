{
 "cells": [
  {
   "cell_type": "markdown",
   "metadata": {},
   "source": [
    "# <center >Accidents corporels de la route\n",
    "### Ouverture de la base de données"
   ]
  },
  {
   "cell_type": "markdown",
   "metadata": {},
   "source": [
    "Faire les importations nécessaires :"
   ]
  },
  {
   "cell_type": "code",
   "execution_count": 1,
   "metadata": {},
   "outputs": [],
   "source": [
    "import pandas as pd\n",
    "import numpy as np\n",
    "import matplotlib as plt\n",
    "import seaborn as sns"
   ]
  },
  {
   "cell_type": "markdown",
   "metadata": {},
   "source": [
    "Importer les 4 fichiers :"
   ]
  },
  {
   "cell_type": "code",
   "execution_count": 2,
   "metadata": {},
   "outputs": [],
   "source": [
    "df_carac = pd.read_csv(\"https://www.data.gouv.fr/fr/datasets/r/e22ba475-45a3-46ac-a0f7-9ca9ed1e283a\", sep = \";\")\n",
    "df_lieux = pd.read_csv(\"https://www.data.gouv.fr/fr/datasets/r/2ad65965-36a1-4452-9c08-61a6c874e3e6\", sep = \";\")\n",
    "df_usagers = pd.read_csv(\"https://www.data.gouv.fr/fr/datasets/r/36b1b7b3-84b4-4901-9163-59ae8a9e3028\", sep = \";\")\n",
    "df_vehicules = pd.read_csv(\"https://www.data.gouv.fr/fr/datasets/r/780cd335-5048-4bd6-a841-105b44eb2667\", sep = \";\")"
   ]
  },
  {
   "cell_type": "markdown",
   "metadata": {},
   "source": [
    "Une première sélection a été réalisée. Nous avons éliminé les variables qui ne semblaient avoir aucun lien avec la gravité de l'accident."
   ]
  },
  {
   "cell_type": "code",
   "execution_count": 3,
   "metadata": {},
   "outputs": [],
   "source": [
    "df_carac = df_carac[[\"Num_Acc\", \"jour\", \"mois\", \"an\", \"hrmn\", \"lum\", \"dep\", \"com\", \"agg\", \"int\", \"atm\", \"col\", \"lat\", \"long\"]]\n",
    "df_lieux = df_lieux[[\"Num_Acc\", \"catr\", \"circ\", \"nbv\", \"surf\", \"prof\", \"plan\", \"infra\", \"situ\", \"vma\"]] \n",
    "df_usagers = df_usagers[[\"Num_Acc\", \"id_vehicule\", \"place\", \"catu\", \"sexe\", \"grav\", \"an_nais\", \"trajet\", \"secu1\"]]\n",
    "df_vehicules = df_vehicules[[\"Num_Acc\", \"id_vehicule\", \"catv\", \"obs\", \"obsm\", \"choc\", \"occutc\"]]"
   ]
  },
  {
   "cell_type": "markdown",
   "metadata": {},
   "source": [
    "A l'aide du descriptif des modalités, nous remplaçons les modalités par leur nom complet pour une meilleure compréhension."
   ]
  },
  {
   "cell_type": "code",
   "execution_count": 4,
   "metadata": {},
   "outputs": [],
   "source": [
    "# Variables de la base Caracteristiques\n",
    "def modalite_caracteristiques(df):\n",
    "    df[\"lum\"]= df['lum'].map({1:'Plein jour',\n",
    "                        2:'Crépuscule ou aube',\n",
    "                        3: \"Nuit sans éclairage public\",\n",
    "                        4: \"Nuit avec éclairage public non allumé\",\n",
    "                        5: \"Nuit avec éclairage public allumé\"})\n",
    "    df['agglo'] = df['agg'].map({1:'Hors agglomeration',\n",
    "                             2:'Agglomeration'})\n",
    "    del df['agg']\n",
    "    \n",
    "    df['int']=df['int'].map({1:'Hors intersection',\n",
    "                        2:'Intersection en X',\n",
    "                        3:'Intersection en T',\n",
    "                        4:'Intersection en Y',\n",
    "                        5:'Intersection à plus de 4 branches',\n",
    "                        6:'Giratoire',\n",
    "                        7:\"Place\",\n",
    "                        8:'Passage à niveaux',\n",
    "                        9:'Autre'})\n",
    "    df['atm'] = df['atm'].map({1:'Normale',\n",
    "                         2:'Pluie legere',\n",
    "                         3:'Pluie forte',\n",
    "                         4:'Neige',\n",
    "                         5:'Brouillard',\n",
    "                         6:'Vent fort',\n",
    "                         7:'Eblouissant',\n",
    "                         8:'Couvert',\n",
    "                         9:'Autre'})\n",
    "    df['collision'] = df['col'].map({1:'2 - frontale',\n",
    "                                 2:'2-arriere',\n",
    "                                 3:'2-cote',\n",
    "                                 4:'3-chaine',\n",
    "                                 5:'3-multiple',\n",
    "                                 6:'autre',\n",
    "                                 7:'Sans collision'})\n",
    "    del df['col']\n",
    "\n",
    "# Variables de la base Usagers\n",
    "def modalite_usagers(df) :\n",
    "    df['catu'] = df['catu'].map({1:'Conducteur',\n",
    "                                 2:'Passager',\n",
    "                                 3:'Pieton'})\n",
    "    df['sexe'] = df['sexe'].map({1:'Homme',\n",
    "                                 2:'Femme'})\n",
    "    df['grav'] = df['grav'].map({1:'Indemne',\n",
    "                                 2:'Tue',\n",
    "                                 3:'Blesse hospitalise',\n",
    "                                 4:'Blesse leger'})\n",
    "    df['trajet'] = df['trajet'].map({1:\"Domicile-Travail\",\n",
    "                                 2:'Domicile-Ecole',\n",
    "                                 3:'Courses',\n",
    "                                 4:'Utilisation Professionnelle',\n",
    "                                 5:'Loisirs',\n",
    "                                 8:'Autre'})\n",
    "\n",
    "    # Variables de la base Lieux\n",
    "def modalite_lieux(df) :\n",
    "    df['catr'] = df['catr'].map({1:'Autoroute',\n",
    "                                 2:'Route nationale',\n",
    "                                 3:'Route départementale',\n",
    "                                 4:'Voie Communale',\n",
    "                                 5:'Hors réseau public',\n",
    "                                 6:'Parc de stationnement',\n",
    "                                 7:'Routes de métropole urbaine',\n",
    "                                 9:'Autre'})\n",
    "    df[\"circ\"]=df[\"circ\"].map({1:\"A sens unique\",\n",
    "                              2:\"Bidirectionnelle\",\n",
    "                              3:'A chaussées séparées',\n",
    "                              4:\"Avec voies d'affectation variable\"})\n",
    "    df[\"prof\"]=df[\"prof\"].map({1:\"Plat\",\n",
    "                              2:\"Pente\",\n",
    "                              3:'Sommet de côte',\n",
    "                              4:\"Bas de côte\"})\n",
    "    df[\"plan\"]=df[\"plan\"].map({1:\"Rectiligne\",\n",
    "                              2:\"En courbe à gauche\",\n",
    "                              3:'En courbe à droite',\n",
    "                              4:\"En S\"})\n",
    "    df['surf'] = df['surf'].map({1:'Normale',\n",
    "                                 2:'Mouillée',\n",
    "                                 3:'Flaques',\n",
    "                                 4:'Inondée',\n",
    "                                 5:'Enneigée',\n",
    "                                 6:'Boue',\n",
    "                                 7:'Verglecée',\n",
    "                                 8:'Corps gras - huile',\n",
    "                                 9:'Autre'})\n",
    "    df['infra'] = df['infra'].map({0:'Aucun',\n",
    "                                1:'Souterrain-tunnel',\n",
    "                                 2:'Pont',\n",
    "                                 3:'Bretelle',\n",
    "                                 4:'Voie ferrée',\n",
    "                                 5:'Carrefour aménagé',\n",
    "                                 6:'Zone piétonne',\n",
    "                                 7:'Zone de péage'})\n",
    "    df['situ'] = df['situ'].map({1:'Sur chaussée',\n",
    "                                 2:\"Sur bande d'arrêt d'urgence\",\n",
    "                                 3:'Sur accotement',\n",
    "                                 4:'Sur trottoir',\n",
    "                                 5:'Sur piste cyclable',\n",
    "                                 6:'Sur autre voie spéciale',\n",
    "                                 8:'Autre'})\n",
    "    \n",
    "\n",
    "# Variables de la base Véhicules\n",
    "def modalite_vehicules(df) :\n",
    "    df['catv'] = df['catv'].map({0:'Autre',\n",
    "                             1:'EDP',\n",
    "                             2:'Deux roues',\n",
    "                             3:'Voiture',\n",
    "                             4:'Deux roues',\n",
    "                             5:'Deux roues',\n",
    "                             6:'Autre',\n",
    "                             7:'Voiture',\n",
    "                             8:'Voiture',\n",
    "                             9:'Voiture',\n",
    "                             10:'Voiture',\n",
    "                             11:'Voiture',\n",
    "                             12:'Voiture',\n",
    "                             13:'Poids lourd',\n",
    "                             14:'Poids lourd',\n",
    "                             15:'Poids lourd',\n",
    "                             16:'Poids lourd',\n",
    "                             17:'Poids lourd',\n",
    "                             18:'Transport en commun',\n",
    "                             19:'Transport en commun',\n",
    "                             20:'Autre',\n",
    "                             21:'Autre',\n",
    "                             30:'Deux roues',\n",
    "                             31:'Deux roues',\n",
    "                             32:'Deux roues',\n",
    "                             33:'Deux roues',\n",
    "                             34:'Deux roues',\n",
    "                             35:'Autre',\n",
    "                             36:'Autre',\n",
    "                             37:'Transport en commun',\n",
    "                             38:'Transport en commun',\n",
    "                             39:'Transport en commun',\n",
    "                             40:'Transport en commun',\n",
    "                             41:'Deux roues',\n",
    "                             42:'Deux roues',\n",
    "                             43:'Deux roues',\n",
    "                             50:'EDP',\n",
    "                             60:'EDP',\n",
    "                             80:'EDP',\n",
    "                             99:'Autre'})\n",
    "    df[\"choc\"] = df[\"choc\"].map({0: 'Aucun',\n",
    "                                1:'Avant',\n",
    "                                 2:\"Avant droit\",\n",
    "                                 3:'Avant gauche',\n",
    "                                 4:'Arrière',\n",
    "                                 5:'Arrière droit',\n",
    "                                 6:'Arrière gauche',\n",
    "                                 7:'Côté droit',\n",
    "                                 8:'Côté gauche',\n",
    "                                 9:'Chocs multiples'})\n",
    "                             \n",
    "modalite_caracteristiques(df_carac)\n",
    "modalite_usagers(df_usagers)\n",
    "modalite_lieux(df_lieux)\n",
    "modalite_vehicules(df_vehicules)"
   ]
  },
  {
   "cell_type": "markdown",
   "metadata": {},
   "source": [
    "Fusionner les 4 bases de données"
   ]
  },
  {
   "cell_type": "code",
   "execution_count": 5,
   "metadata": {},
   "outputs": [],
   "source": [
    "df = df_carac.merge(df_lieux, how='left', on=['Num_Acc'])\n",
    "df = df.merge(df_vehicules, how='inner', on=['Num_Acc'])\n",
    "df = df.merge(df_usagers, how='inner', on=['Num_Acc', 'id_vehicule'])"
   ]
  },
  {
   "cell_type": "markdown",
   "metadata": {},
   "source": [
    "Au total, en 2019, il y eu 58 840 accidents corporels de route qui ont concernés au total 100 710 véhicules et 132 977 personnes. \\\n",
    "Ainsi, dans notre table globale, nous avons 132 977 observations et 36 variables."
   ]
  },
  {
   "cell_type": "markdown",
   "metadata": {},
   "source": [
    "### Appropriation du jeu de données et structure de la base"
   ]
  },
  {
   "cell_type": "code",
   "execution_count": 6,
   "metadata": {},
   "outputs": [],
   "source": [
    "#df.columns"
   ]
  },
  {
   "cell_type": "code",
   "execution_count": 7,
   "metadata": {},
   "outputs": [],
   "source": [
    "#df.head(5)"
   ]
  },
  {
   "cell_type": "code",
   "execution_count": 8,
   "metadata": {},
   "outputs": [],
   "source": [
    "#df.dtypes"
   ]
  },
  {
   "cell_type": "code",
   "execution_count": 9,
   "metadata": {},
   "outputs": [],
   "source": [
    "#print(df.describe(include='all'))"
   ]
  },
  {
   "cell_type": "markdown",
   "metadata": {},
   "source": [
    "### Etude des valeurs manquantes :"
   ]
  },
  {
   "cell_type": "markdown",
   "metadata": {},
   "source": [
    "Dans ce jeu de données, les valeurs non renseignées sont indiquées par \"-1\". \\\n",
    "La majorité des variables ne possèdent pas de valeurs manquantes. \\\n",
    "Quelques variables possèdent moins d'1% de valeurs manquantes (ex : collision, état de la surface). \\\n",
    "Plus de 33% des usagers n'ont pas renseigné le trajet qu'il faisait lors de l'accident. Concernant la variable \"Circulation\", il y a 5.06% sont des valeurs manquantes. Concernant la variable \"Infrastructure\", il y a 4.89% de valeurs manquantes."
   ]
  },
  {
   "cell_type": "code",
   "execution_count": 6,
   "metadata": {},
   "outputs": [],
   "source": [
    "var_carac = [\"lum\", \"agglo\", \"int\", \"collision\", \"atm\", 'jour', 'mois', 'hrmn', 'dep', 'com', 'lat', 'long']\n",
    "var_lieux = [\"catr\", \"circ\", \"surf\", \"prof\", \"plan\", \"infra\", \"situ\", 'nbv', 'vma']\n",
    "var_usagers = [\"place\", \"catu\", \"sexe\", \"grav\", \"an_nais\", \"trajet\"]\n",
    "var_vehicules = [\"catv\", 'obs', 'obsm', 'choc', 'occutc']\n",
    "\n",
    "def effectif_val_manquantes(df, colonne):\n",
    "    for elem in colonne :\n",
    "        eff = (df[elem].isna().sum()).round(2)\n",
    "        freq = ((df[elem].isna().sum())/len(df[elem])*100).round(2)\n",
    "        print(\"Pour la variable \" + elem + \" :  \" + freq.astype(str) + \" % \\n ce qui représente un effectif de :    \" + eff.astype(str))\n",
    "        print(\"\\n\")\n",
    "#effectif_val_manquantes(df_carac, var_carac)\n",
    "#effectif_val_manquantes(df_lieux, var_lieux)\n",
    "#effectif_val_manquantes(df_usagers, var_usagers)\n",
    "#effectif_val_manquantes(df_vehicules, var_vehicules)"
   ]
  },
  {
   "cell_type": "markdown",
   "metadata": {},
   "source": [
    "### Etude des modalités rares :"
   ]
  },
  {
   "cell_type": "code",
   "execution_count": 7,
   "metadata": {},
   "outputs": [],
   "source": [
    "var_carac_cat = [\"lum\", \"agglo\", \"int\", \"collision\", \"atm\"]\n",
    "var_lieux_cat = [\"catr\", \"circ\", \"surf\", \"prof\", \"plan\", \"infra\", \"situ\"]\n",
    "var_usagers_cat = [\"place\", \"catu\", \"sexe\", \"grav\", \"trajet\"]\n",
    "var_vehicules_cat = [\"catv\", 'choc']\n",
    "def effectif_pourcentage(df, colonne):\n",
    "    for elem in colonne :\n",
    "        print(\"Pour la variable \" + elem + \" :\")\n",
    "        print((df[elem].value_counts())/len(df[elem])*100)\n",
    "        print(\"\\n\")\n",
    "#effectif_pourcentage(df_carac, var_carac_cat)\n",
    "#effectif_pourcentage(df_lieux, var_lieux_cat)\n",
    "#effectif_pourcentage(df_usagers, var_usagers_cat)\n",
    "#effectif_pourcentage(df_vehicules, var_vehicules_cat)"
   ]
  },
  {
   "cell_type": "markdown",
   "metadata": {},
   "source": [
    "En statistique, il n'est pas souhaitable d'avoir des modalités rares qui ont un effectif inférieur à 5%. Pour cela, nous avons regroupé les modalités entre elles en suivant deux méthodes différentes. Dans un premier temps, nous avons regroupé des modalités entre elles lorsqu'elles avaient un sens proche. Par exemple, \"Intersection en X\" et \"Intersection en Y\" correspondent à la modalité commune \"Intersection\"."
   ]
  },
  {
   "cell_type": "code",
   "execution_count": 8,
   "metadata": {},
   "outputs": [],
   "source": [
    "    # Table CARACT\n",
    "# La modalité \"Avec éclairage non allumé\" devient \"Sans éclairage\"\n",
    "df_carac['lum']=df_carac['lum'].replace([\"Nuit avec éclairage public non allumé\"], \"Nuit sans éclairage public\")\n",
    "\n",
    "# Variable intersection : on regroupe tous les types d'intersections\n",
    "df_carac['int']=df_carac['int'].replace([\"Intersection en X\", \"Intersection en Y\", \"Intersection en T\"], \"Intersection\")\n",
    "\n",
    "# Varible collision :\n",
    "df_carac[\"collision\"] = df_carac[\"collision\"].replace([\"3-chaine\", \"3-multiple\"], \"3 vehicules\")\n",
    "\n",
    "    #Table USAGER :\n",
    "df_usagers[\"trajet\"] = df_usagers[\"trajet\"].replace([\"Domicile-Travail\", \"Domicile-Ecole\", \"Course\"], \"Domicile-Travail-Course\")\n",
    "    \n",
    "    # Table LIEUX\n",
    "# Variable circulation : \n",
    "df_lieux['circ']=df_lieux['circ'].replace([\"Avec voies d'affectation variable\"], \"Bidirectionnelle\")\n",
    "\n",
    "# Prof :\n",
    "df_lieux['prof'] = df_lieux['prof'].replace([\"Bas de côte\", \"Sommet de côte\"], \"Pente\")\n",
    "\n",
    "# Plan : \n",
    "df_lieux['plan'] = df_lieux['plan'].replace([\"En courbe à gauche\", \"En courbe à droite\", \"En S\"], \"Courbe\")\n",
    "\n",
    "    # Table VEHICULES\n",
    "#Choc : \n",
    "df_vehicules['choc'] = df_vehicules['choc'].replace([\"Arrière gauche\", \"Arrière droit\"], \"Arrière côté\")"
   ]
  },
  {
   "cell_type": "markdown",
   "metadata": {},
   "source": [
    "La seconde méthode est de regrouper les modalités représentant moins de 5% entre elles afin de créer une modalité \"Autre\"."
   ]
  },
  {
   "cell_type": "code",
   "execution_count": 9,
   "metadata": {},
   "outputs": [],
   "source": [
    "def regroupement_modalites(df, colonne):\n",
    "    for elem in colonne :\n",
    "        frequence = df[elem].value_counts()/len(df[elem])*100\n",
    "        for i in range(len(frequence)) :\n",
    "            if frequence[i] < 5 :\n",
    "                df.loc[df[elem]==frequence.index[i], elem] = \"Autre\"   \n",
    "                \n",
    "regroupement_modalites(df_carac, var_carac_cat)\n",
    "regroupement_modalites(df_lieux, var_lieux_cat)\n",
    "#effectif_pourcentage(df_carac, var_carac_cat)\n",
    "#effectif_pourcentage(df_lieux, var_lieux_cat)\n",
    "#effectif_pourcentage(df_vehicules, var_vehicules_cat)"
   ]
  },
  {
   "cell_type": "code",
   "execution_count": 10,
   "metadata": {},
   "outputs": [],
   "source": [
    "df_lieux['surf'] = df_lieux['surf'].replace([\"Autre\"], \"Mouillé\")"
   ]
  },
  {
   "cell_type": "markdown",
   "metadata": {},
   "source": [
    "Refusionner toutes les tables :"
   ]
  },
  {
   "cell_type": "code",
   "execution_count": 11,
   "metadata": {},
   "outputs": [],
   "source": [
    "df = df_carac.merge(df_lieux, how='left', on=['Num_Acc']).merge(df_vehicules, how='inner', on=['Num_Acc'])\n",
    "df = df.merge(df_usagers, how='inner', on=['Num_Acc', 'id_vehicule'])"
   ]
  },
  {
   "cell_type": "markdown",
   "metadata": {},
   "source": [
    "## Ajout de variables "
   ]
  },
  {
   "cell_type": "markdown",
   "metadata": {},
   "source": [
    "### Les variables Age"
   ]
  },
  {
   "cell_type": "code",
   "execution_count": 12,
   "metadata": {},
   "outputs": [],
   "source": [
    "df[\"age\"]= 2019 - df[\"an_nais\"]"
   ]
  },
  {
   "cell_type": "markdown",
   "metadata": {},
   "source": [
    "On crée une variable 'obstacle' liée à l'accident"
   ]
  },
  {
   "cell_type": "code",
   "execution_count": 13,
   "metadata": {},
   "outputs": [],
   "source": [
    "conditions_obstacle = [\n",
    "                        (df['obs']>0) & (df['obsm']>0),\n",
    "                        (df['obs']>0) & (df['obsm']<=0),\n",
    "                        (df['obs']<=0) & (df['obsm']>0),\n",
    "                        (df['obs']==0) & (df['obsm']==0)]\n",
    "\n",
    "types_obstacle = ['1 obstacle mobile et 1 obstacle fixe', '1 obstacle fixe', '1 obstacle mobile', 'Pas dobstacle']\n",
    "\n",
    "df['obstacle'] = np.select(conditions_obstacle, types_obstacle, default='NaN')"
   ]
  },
  {
   "cell_type": "markdown",
   "metadata": {},
   "source": [
    "On crée ensuite une nouvelle variable de catégorie d'âge, liée aux usagers, qu'on appelle 'age', à partir de la variable existante 'an_nais' (année de naissance)"
   ]
  },
  {
   "cell_type": "code",
   "execution_count": 14,
   "metadata": {},
   "outputs": [],
   "source": [
    "conditions_age = [\n",
    "                    (0 <= df['age']) & (df['age'] <= 15),\n",
    "                    (16 <= df['age']) & (df['age'] <= 30),\n",
    "                    (31 <= df['age']) & (df['age'] <= 65),\n",
    "                    (66 <= df['age'])]\n",
    "\n",
    "categories_age = ['enfant', 'jeune', 'adulte', 'personne agee']\n",
    "\n",
    "df['categorie_age'] = np.select(conditions_age, categories_age, default='NaN')"
   ]
  },
  {
   "cell_type": "markdown",
   "metadata": {},
   "source": [
    "### Variable gravite"
   ]
  },
  {
   "cell_type": "markdown",
   "metadata": {},
   "source": [
    "On ajoute une variable qui donne une note de gravité à chaque accident nommée \"gravite\". \n",
    "- gravite = 0 si tout le monde ressort indemne de l'accident \n",
    "- gravite = 1 si il y a au moins un blessé léger \n",
    "- gravite = 2 si il y a au moins un blessé hospitalisé ou au moins un mort "
   ]
  },
  {
   "cell_type": "code",
   "execution_count": 15,
   "metadata": {},
   "outputs": [],
   "source": [
    "def calcul_gravite(l_grav):\n",
    "    # prend en entrée la liste des grav d'un même accident l_grav\n",
    "    note = 0\n",
    "    if (('Tue' in l_grav) or ('Blesse hospitalise' in l_grav)):\n",
    "        #on check si on a un 'Tue' ou un 'Blesse hospitalise' (var grav) => note=2\n",
    "        note = 2\n",
    "        return (note) \n",
    "    elif ('Blesse leger' in l_grav):\n",
    "        #si non on check si on a un 'Blesse leger' => note = 1\n",
    "        note = 1\n",
    "        return (note)\n",
    "    # si non => note = 0\n",
    "    return(note)\n",
    "\n",
    "#TEST OK \n",
    "#calcul_gravite(['Indemne','Blesse hospitalise','Blesse leger','Tue'])\n",
    "#calcul_gravite(['Indemne','Blesse leger','Indemne'])\n",
    "#calcul_gravite(['Indemne','Indemne','Indemne'])\n",
    "#calcul_gravite([])"
   ]
  },
  {
   "cell_type": "code",
   "execution_count": 16,
   "metadata": {},
   "outputs": [
    {
     "name": "stderr",
     "output_type": "stream",
     "text": [
      "<ipython-input-16-6155fb3111bc>:14: SettingWithCopyWarning: \n",
      "A value is trying to be set on a copy of a slice from a DataFrame\n",
      "\n",
      "See the caveats in the documentation: https://pandas.pydata.org/pandas-docs/stable/user_guide/indexing.html#returning-a-view-versus-a-copy\n",
      "  df['gravite'][i] = note\n"
     ]
    }
   ],
   "source": [
    "#on veut récupérer toutes les données de gravité pour chaque personne d'un meme accident (var Num_Acc)\n",
    "#on crée une variable gravite remplie de zero dans df \n",
    "df = df.assign(gravite=0)\n",
    "\n",
    "#on récupère tous les Num_Acc distincts\n",
    "accidents = df['Num_Acc'].unique()\n",
    "\n",
    "for num in accidents: \n",
    "    #on boucle sur les Num_Acc pour récupérer toutes les valeurs de grav pour un meme accident \n",
    "    l_grav = list(df[df['Num_Acc'] == num]['grav'])\n",
    "    note = calcul_gravite(l_grav) #on applique pour chaque accident la fonction calcul_gravite \n",
    "    for i in df[df['Num_Acc'] == num].index:\n",
    "        #on insert la valeur dans chaque case de la nouvelle variable \n",
    "        df['gravite'][i] = note"
   ]
  },
  {
   "cell_type": "code",
   "execution_count": 20,
   "metadata": {},
   "outputs": [],
   "source": [
    "#print(df)"
   ]
  },
  {
   "cell_type": "markdown",
   "metadata": {},
   "source": [
    "### Variable concernant le nombre de voitures et d'usagers impliqués dans l'accident"
   ]
  },
  {
   "cell_type": "code",
   "execution_count": 17,
   "metadata": {},
   "outputs": [],
   "source": [
    "#Calculer le nombre de voitures dans un accident :\n",
    "df = df.assign(nb_voitures=0)\n",
    "nb_vehicules = df.groupby([\"Num_Acc\", 'id_vehicule']).agg({\"id_vehicule\" : \"count\"})\n",
    "nb_vehicules = nb_vehicules.assign(nb_vehicules=1)\n",
    "nb_vehicules = nb_vehicules.groupby(\"Num_Acc\").agg({\"nb_vehicules\" : \"sum\"})\n",
    "df = df.merge(nb_vehicules, how = 'inner', on=\"Num_Acc\")\n",
    "del df['nb_voitures']"
   ]
  },
  {
   "cell_type": "code",
   "execution_count": 18,
   "metadata": {},
   "outputs": [],
   "source": [
    "# Calculer le nombre d'usagers dans un accident :\n",
    "df = df.assign(nb_usagers=0)\n",
    "nb_usagers = df.groupby(\"Num_Acc\").agg({\"nb_usagers\" : \"count\"}).reset_index()\n",
    "del df[\"nb_usagers\"]\n",
    "df = df.merge(nb_usagers, how = 'inner', on=\"Num_Acc\")"
   ]
  },
  {
   "cell_type": "markdown",
   "metadata": {},
   "source": [
    "## Création d'une base globale avec une ligne par accident"
   ]
  },
  {
   "cell_type": "code",
   "execution_count": 23,
   "metadata": {},
   "outputs": [
    {
     "name": "stderr",
     "output_type": "stream",
     "text": [
      "C:\\Users\\Pauline\\AppData\\Roaming\\Python\\Python38\\site-packages\\pandas\\util\\_decorators.py:311: SettingWithCopyWarning: \n",
      "A value is trying to be set on a copy of a slice from a DataFrame\n",
      "\n",
      "See the caveats in the documentation: https://pandas.pydata.org/pandas-docs/stable/user_guide/indexing.html#returning-a-view-versus-a-copy\n",
      "  return func(*args, **kwargs)\n"
     ]
    }
   ],
   "source": [
    "df_accidents = df[[\"Num_Acc\"] + var_carac + var_lieux + [\"gravite\", \"nb_vehicules\", \"nb_usagers\"]]\n",
    "df_accidents.drop_duplicates(keep = 'first', inplace=True)\n",
    "#df_accidents.head(5)"
   ]
  }
 ],
 "metadata": {
  "kernelspec": {
   "display_name": "Python 3",
   "language": "python",
   "name": "python3"
  },
  "language_info": {
   "codemirror_mode": {
    "name": "ipython",
    "version": 3
   },
   "file_extension": ".py",
   "mimetype": "text/x-python",
   "name": "python",
   "nbconvert_exporter": "python",
   "pygments_lexer": "ipython3",
   "version": "3.8.8"
  }
 },
 "nbformat": 4,
 "nbformat_minor": 4
}
