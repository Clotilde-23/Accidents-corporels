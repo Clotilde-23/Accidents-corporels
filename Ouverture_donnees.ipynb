{
 "cells": [
  {
   "cell_type": "markdown",
   "metadata": {},
   "source": [
    "# <center >Accidents corporels de la route\n",
    "### Ouverture de la base de données et Structure des variables"
   ]
  },
  {
   "cell_type": "markdown",
   "metadata": {},
   "source": [
    "Faire les importations nécessaires :"
   ]
  },
  {
   "cell_type": "code",
   "execution_count": 1,  
   "metadata": {},
   "outputs": [
    {
     "name": "stdout",
     "output_type": "stream",
     "text": [
      "Requirement already satisfied: graphviz in c:\\users\\pauline\\documents\\anaconda\\lib\\site-packages (0.19)\n",
      "Note: you may need to restart the kernel to use updated packages.\n"
     ]
    }
   ],
   "source": [
    "pip install graphviz"
   ]
  },
  {
   "cell_type": "code",
   "execution_count": 2,
   "metadata": {},
   "outputs": [],
   "source": [
    "import pandas as pd\n",
    "import numpy as np\n",
    "import matplotlib as plt\n",
    "import graphviz\n",
    "import seaborn as sns"
   ]
  },
  {
   "cell_type": "code",
   "execution_count": 3,
   "metadata": {},
   "outputs": [],
   "source": [
    "from sklearn.linear_model import LogisticRegression\n",
    "from sklearn import tree"
   ]
  },
  {
   "cell_type": "markdown",
   "metadata": {},
   "source": [
    "Importer les 4 fichiers :"
   ]
  },
  {
   "cell_type": "code",
   "execution_count": 4,
   "metadata": {},
   "outputs": [],
   "source": [
    "df_carac = pd.read_csv(\"https://www.data.gouv.fr/fr/datasets/r/e22ba475-45a3-46ac-a0f7-9ca9ed1e283a\", sep = \";\")\n",
    "df_lieux = pd.read_csv(\"https://www.data.gouv.fr/fr/datasets/r/2ad65965-36a1-4452-9c08-61a6c874e3e6\", sep = \";\")\n",
    "df_usagers = pd.read_csv(\"https://www.data.gouv.fr/fr/datasets/r/36b1b7b3-84b4-4901-9163-59ae8a9e3028\", sep = \";\")\n",
    "df_vehicules = pd.read_csv(\"https://www.data.gouv.fr/fr/datasets/r/780cd335-5048-4bd6-a841-105b44eb2667\", sep = \";\")"
   ]
  },
  {
   "cell_type": "markdown",
   "metadata": {},
   "source": [
    "Une première sélection a été réalisée. Nous avons éliminé les variables qui ne semblaient avoir aucun lien avec la gravité de l'accident."
   ]
  },
  {
   "cell_type": "code",
   "execution_count": 5,
   "metadata": {},
   "outputs": [],
   "source": [
    "df_carac = df_carac[[\"Num_Acc\", \"jour\", \"mois\", \"an\", \"hrmn\", \"lum\", \"dep\", \"com\", \"agg\", \"int\", \"atm\", \"col\", \"lat\", \"long\"]]\n",
    "df_lieux = df_lieux[[\"Num_Acc\", \"catr\", \"circ\", \"nbv\", \"surf\", \"prof\", \"plan\", \"infra\", \"situ\", \"vma\"]] \n",
    "df_usagers = df_usagers[[\"Num_Acc\", \"id_vehicule\", \"place\", \"catu\", \"sexe\", \"grav\", \"an_nais\", \"trajet\", \"secu1\"]]\n",
    "df_vehicules = df_vehicules[[\"Num_Acc\", \"id_vehicule\", \"catv\", \"obs\", \"obsm\", \"choc\", \"occutc\"]]"
   ]
  },
  {
   "cell_type": "markdown",
   "metadata": {},
   "source": [
    "Fusionner les 4 bases de données :"
   ]
  },
  {
   "cell_type": "code",
   "execution_count": 6,
   "metadata": {},
   "outputs": [
    {
     "name": "stdout",
     "output_type": "stream",
     "text": [
      "(135017, 36)\n"
     ]
    }
   ],
   "source": [
    "df = df_carac.merge(df_lieux, how='left', on=['Num_Acc'])\n",
    "df = df.merge(df_vehicules, how='inner', on=['Num_Acc'])\n",
    "df = df.merge(df_usagers, how='left', on=['Num_Acc', 'id_vehicule'])\n",
    "print(df.shape)"
   ]
  },
  {
   "cell_type": "markdown",
   "metadata": {},
   "source": [
    "Il y a 135017 observations et 36 variables."
   ]
  },
  {
   "cell_type": "markdown",
   "metadata": {},
   "source": [
    "A l'aide du descriptif des modalités, nous remplaçons les modalités par leur nom complet pour une meilleure compréhension."
   ]
  },
  {
   "cell_type": "code",
   "execution_count": 7,
   "metadata": {},
   "outputs": [],
   "source": [
    "# Variables de la base Caracteristiques\n",
    "df[\"lum\"]= df['lum'].map({1:'Plein jour',\n",
    "                        2:'Crépuscule ou aube',\n",
    "                        3: \"Nuit sans éclairage public\",\n",
    "                        4: \"Nuit avec éclairage public non allumé\",\n",
    "                        5: \"Nuit avec éclairage public allumé\"})\n",
    "df['agglo'] = df['agg'].map({1:'Hors agglomeration',\n",
    "                             2:'Agglomeration'})\n",
    "del df['agg']\n",
    "\n",
    "\n",
    "df['int']=df['int'].map({1:'Hors intersection',\n",
    "                        2:'Intersection en X',\n",
    "                        3:'Intersection en T',\n",
    "                        4:'Intersection en Y',\n",
    "                        5:'Intersection à plus de 4 branches',\n",
    "                        6:'Giratoire',\n",
    "                        7:\"Place\",\n",
    "                        8:'Passage à niveaux',\n",
    "                        9:'Autre'})\n",
    "df['atm'] = df['atm'].map({1:'Normale',\n",
    "                             2:'Pluie legere',\n",
    "                             3:'Pluie forte',\n",
    "                             4:'Neige',\n",
    "                          5:'Brouillard',\n",
    "                          6:'Vent fort',\n",
    "                          7:'Eblouissant',\n",
    "                          8:'Couvert',\n",
    "                          9:'Autre'})\n",
    "df['collision'] = df['col'].map({1:'2 - frontale',\n",
    "                             2:'2-arriere',\n",
    "                             3:'2-cote',\n",
    "                             4:'3-chaine',\n",
    "                          5:'3-multiple',\n",
    "                          6:'autre',\n",
    "                          7:'Sans collision'})\n",
    "del df['col']\n",
    "\n",
    "\n",
    "# Variables de la base Usagers\n",
    "df['catu'] = df['catu'].map({1:'Conducteur',\n",
    "                             2:'Passager',\n",
    "                             3:'Pieton'})\n",
    "df['sexe'] = df['sexe'].map({1:'Homme',\n",
    "                             2:'Femme'})\n",
    "df['grav'] = df['grav'].map({1:'Indemne',\n",
    "                             2:'Tue',\n",
    "                             3:'Blesse hospitalise',\n",
    "                             4:'Blesse leger'})\n",
    "\n",
    "\n",
    "# Variables de la base Lieux\n",
    "df['catr'] = df['catr'].map({1:'Autoroute',\n",
    "                             2:'Route nationale',\n",
    "                             3:'Route départementale',\n",
    "                             4:'Voie Communale',\n",
    "                          5:'Hors réseau public',\n",
    "                          6:'Parc de stationnement',\n",
    "                          7:'Routes de métropole urbaine',\n",
    "                          9:'Autre'})\n",
    "df[\"circ\"]=df[\"circ\"].map({1:\"A sens unique\",\n",
    "                          2:\"Bidirectionnelle\",\n",
    "                          3:'A chaussées séparées',\n",
    "                          4:\"Avec voies d'affectation variable\"})\n",
    "df[\"prof\"]=df[\"prof\"].map({1:\"Plat\",\n",
    "                          2:\"Pente\",\n",
    "                          3:'Sommet de côte',\n",
    "                          4:\"Bas de côte\"})\n",
    "df[\"plan\"]=df[\"plan\"].map({1:\"Rectiligne\",\n",
    "                          2:\"En courbe à gauche\",\n",
    "                          3:'En courbe à droite',\n",
    "                          4:\"En S\"})\n",
    "df['surf'] = df['surf'].map({1:'Normale',\n",
    "                             2:'Mouillée',\n",
    "                             3:'Flaques',\n",
    "                             4:'Inondée',\n",
    "                          5:'Enneigée',\n",
    "                          6:'Boue',\n",
    "                          7:'Verglecée',\n",
    "                             8:'Corps gras - huile',\n",
    "                          9:'Autre'})\n",
    "df['situ'] = df['situ'].map({1:'Sur chaussée',\n",
    "                             2:\"Sur bande d'arrêt d'urgence\",\n",
    "                             3:'Sur accotement',\n",
    "                             4:'Sur trottoir',\n",
    "                          5:'Sur piste cyclable',\n",
    "                          6:'Sur autre voie spéciale',\n",
    "                          8:'Autre'})\n",
    "\n",
    "# Création de nouvelles variables\n",
    "df['age'] = 2019 - df['an_nais']"
   ]
  },
  {
   "cell_type": "markdown",
   "metadata": {},
   "source": [
    "### Appropriation du jeu de données"
   ]
  },
  {
   "cell_type": "code",
   "execution_count": 8,
   "metadata": {},
   "outputs": [
    {
     "data": {
      "text/plain": [
       "Index(['Num_Acc', 'jour', 'mois', 'an', 'hrmn', 'lum', 'dep', 'com', 'int',\n",
       "       'atm', 'lat', 'long', 'catr', 'circ', 'nbv', 'surf', 'prof', 'plan',\n",
       "       'infra', 'situ', 'vma', 'id_vehicule', 'catv', 'obs', 'obsm', 'choc',\n",
       "       'occutc', 'place', 'catu', 'sexe', 'grav', 'an_nais', 'trajet', 'secu1',\n",
       "       'agglo', 'collision', 'age'],\n",
       "      dtype='object')"
      ]
     },
     "execution_count": 8,
     "metadata": {},
     "output_type": "execute_result"
    }
   ],
   "source": [
    "df.columns"
   ]
  },
  {
   "cell_type": "code",
   "execution_count": 9,
   "metadata": {},
   "outputs": [
    {
     "data": {
      "text/html": [
       "<div>\n",
       "<style scoped>\n",
       "    .dataframe tbody tr th:only-of-type {\n",
       "        vertical-align: middle;\n",
       "    }\n",
       "\n",
       "    .dataframe tbody tr th {\n",
       "        vertical-align: top;\n",
       "    }\n",
       "\n",
       "    .dataframe thead th {\n",
       "        text-align: right;\n",
       "    }\n",
       "</style>\n",
       "<table border=\"1\" class=\"dataframe\">\n",
       "  <thead>\n",
       "    <tr style=\"text-align: right;\">\n",
       "      <th></th>\n",
       "      <th>Num_Acc</th>\n",
       "      <th>jour</th>\n",
       "      <th>mois</th>\n",
       "      <th>an</th>\n",
       "      <th>hrmn</th>\n",
       "      <th>lum</th>\n",
       "      <th>dep</th>\n",
       "      <th>com</th>\n",
       "      <th>int</th>\n",
       "      <th>atm</th>\n",
       "      <th>...</th>\n",
       "      <th>place</th>\n",
       "      <th>catu</th>\n",
       "      <th>sexe</th>\n",
       "      <th>grav</th>\n",
       "      <th>an_nais</th>\n",
       "      <th>trajet</th>\n",
       "      <th>secu1</th>\n",
       "      <th>agglo</th>\n",
       "      <th>collision</th>\n",
       "      <th>age</th>\n",
       "    </tr>\n",
       "  </thead>\n",
       "  <tbody>\n",
       "    <tr>\n",
       "      <th>0</th>\n",
       "      <td>201900000001</td>\n",
       "      <td>30</td>\n",
       "      <td>11</td>\n",
       "      <td>2019</td>\n",
       "      <td>01:30</td>\n",
       "      <td>Nuit avec éclairage public non allumé</td>\n",
       "      <td>93</td>\n",
       "      <td>93053</td>\n",
       "      <td>Hors intersection</td>\n",
       "      <td>Normale</td>\n",
       "      <td>...</td>\n",
       "      <td>2.0</td>\n",
       "      <td>Passager</td>\n",
       "      <td>Femme</td>\n",
       "      <td>Blesse leger</td>\n",
       "      <td>2002.0</td>\n",
       "      <td>0.0</td>\n",
       "      <td>1.0</td>\n",
       "      <td>Hors agglomeration</td>\n",
       "      <td>2-arriere</td>\n",
       "      <td>17.0</td>\n",
       "    </tr>\n",
       "    <tr>\n",
       "      <th>1</th>\n",
       "      <td>201900000001</td>\n",
       "      <td>30</td>\n",
       "      <td>11</td>\n",
       "      <td>2019</td>\n",
       "      <td>01:30</td>\n",
       "      <td>Nuit avec éclairage public non allumé</td>\n",
       "      <td>93</td>\n",
       "      <td>93053</td>\n",
       "      <td>Hors intersection</td>\n",
       "      <td>Normale</td>\n",
       "      <td>...</td>\n",
       "      <td>1.0</td>\n",
       "      <td>Conducteur</td>\n",
       "      <td>Femme</td>\n",
       "      <td>Blesse leger</td>\n",
       "      <td>1993.0</td>\n",
       "      <td>5.0</td>\n",
       "      <td>1.0</td>\n",
       "      <td>Hors agglomeration</td>\n",
       "      <td>2-arriere</td>\n",
       "      <td>26.0</td>\n",
       "    </tr>\n",
       "    <tr>\n",
       "      <th>2</th>\n",
       "      <td>201900000001</td>\n",
       "      <td>30</td>\n",
       "      <td>11</td>\n",
       "      <td>2019</td>\n",
       "      <td>01:30</td>\n",
       "      <td>Nuit avec éclairage public non allumé</td>\n",
       "      <td>93</td>\n",
       "      <td>93053</td>\n",
       "      <td>Hors intersection</td>\n",
       "      <td>Normale</td>\n",
       "      <td>...</td>\n",
       "      <td>1.0</td>\n",
       "      <td>Conducteur</td>\n",
       "      <td>Homme</td>\n",
       "      <td>Indemne</td>\n",
       "      <td>1959.0</td>\n",
       "      <td>0.0</td>\n",
       "      <td>1.0</td>\n",
       "      <td>Hors agglomeration</td>\n",
       "      <td>2-arriere</td>\n",
       "      <td>60.0</td>\n",
       "    </tr>\n",
       "    <tr>\n",
       "      <th>3</th>\n",
       "      <td>201900000002</td>\n",
       "      <td>30</td>\n",
       "      <td>11</td>\n",
       "      <td>2019</td>\n",
       "      <td>02:50</td>\n",
       "      <td>Nuit sans éclairage public</td>\n",
       "      <td>93</td>\n",
       "      <td>93066</td>\n",
       "      <td>Hors intersection</td>\n",
       "      <td>Normale</td>\n",
       "      <td>...</td>\n",
       "      <td>1.0</td>\n",
       "      <td>Conducteur</td>\n",
       "      <td>Femme</td>\n",
       "      <td>Blesse leger</td>\n",
       "      <td>1994.0</td>\n",
       "      <td>0.0</td>\n",
       "      <td>1.0</td>\n",
       "      <td>Hors agglomeration</td>\n",
       "      <td>autre</td>\n",
       "      <td>25.0</td>\n",
       "    </tr>\n",
       "    <tr>\n",
       "      <th>4</th>\n",
       "      <td>201900000003</td>\n",
       "      <td>28</td>\n",
       "      <td>11</td>\n",
       "      <td>2019</td>\n",
       "      <td>15:15</td>\n",
       "      <td>Plein jour</td>\n",
       "      <td>92</td>\n",
       "      <td>92036</td>\n",
       "      <td>Hors intersection</td>\n",
       "      <td>Normale</td>\n",
       "      <td>...</td>\n",
       "      <td>1.0</td>\n",
       "      <td>Conducteur</td>\n",
       "      <td>Homme</td>\n",
       "      <td>Indemne</td>\n",
       "      <td>1996.0</td>\n",
       "      <td>0.0</td>\n",
       "      <td>1.0</td>\n",
       "      <td>Hors agglomeration</td>\n",
       "      <td>3-chaine</td>\n",
       "      <td>23.0</td>\n",
       "    </tr>\n",
       "  </tbody>\n",
       "</table>\n",
       "<p>5 rows × 37 columns</p>\n",
       "</div>"
      ],
      "text/plain": [
       "        Num_Acc  jour  mois    an   hrmn  \\\n",
       "0  201900000001    30    11  2019  01:30   \n",
       "1  201900000001    30    11  2019  01:30   \n",
       "2  201900000001    30    11  2019  01:30   \n",
       "3  201900000002    30    11  2019  02:50   \n",
       "4  201900000003    28    11  2019  15:15   \n",
       "\n",
       "                                     lum dep    com                int  \\\n",
       "0  Nuit avec éclairage public non allumé  93  93053  Hors intersection   \n",
       "1  Nuit avec éclairage public non allumé  93  93053  Hors intersection   \n",
       "2  Nuit avec éclairage public non allumé  93  93053  Hors intersection   \n",
       "3             Nuit sans éclairage public  93  93066  Hors intersection   \n",
       "4                             Plein jour  92  92036  Hors intersection   \n",
       "\n",
       "       atm  ... place        catu   sexe          grav  an_nais trajet secu1  \\\n",
       "0  Normale  ...   2.0    Passager  Femme  Blesse leger   2002.0    0.0   1.0   \n",
       "1  Normale  ...   1.0  Conducteur  Femme  Blesse leger   1993.0    5.0   1.0   \n",
       "2  Normale  ...   1.0  Conducteur  Homme       Indemne   1959.0    0.0   1.0   \n",
       "3  Normale  ...   1.0  Conducteur  Femme  Blesse leger   1994.0    0.0   1.0   \n",
       "4  Normale  ...   1.0  Conducteur  Homme       Indemne   1996.0    0.0   1.0   \n",
       "\n",
       "                agglo  collision   age  \n",
       "0  Hors agglomeration  2-arriere  17.0  \n",
       "1  Hors agglomeration  2-arriere  26.0  \n",
       "2  Hors agglomeration  2-arriere  60.0  \n",
       "3  Hors agglomeration      autre  25.0  \n",
       "4  Hors agglomeration   3-chaine  23.0  \n",
       "\n",
       "[5 rows x 37 columns]"
      ]
     },
     "execution_count": 9,
     "metadata": {},
     "output_type": "execute_result"
    }
   ],
   "source": [
    "df.head(5)"
   ]
  },
  {
   "cell_type": "code",
   "execution_count": 10,
   "metadata": {},
   "outputs": [
    {
     "data": {
      "text/plain": [
       "Num_Acc          int64\n",
       "jour             int64\n",
       "mois             int64\n",
       "an               int64\n",
       "hrmn            object\n",
       "lum             object\n",
       "dep             object\n",
       "com             object\n",
       "int             object\n",
       "atm             object\n",
       "lat             object\n",
       "long            object\n",
       "catr            object\n",
       "circ            object\n",
       "nbv              int64\n",
       "surf            object\n",
       "prof            object\n",
       "plan            object\n",
       "infra            int64\n",
       "situ            object\n",
       "vma              int64\n",
       "id_vehicule     object\n",
       "catv             int64\n",
       "obs              int64\n",
       "obsm             int64\n",
       "choc             int64\n",
       "occutc         float64\n",
       "place          float64\n",
       "catu            object\n",
       "sexe            object\n",
       "grav            object\n",
       "an_nais        float64\n",
       "trajet         float64\n",
       "secu1          float64\n",
       "agglo           object\n",
       "collision       object\n",
       "age            float64\n",
       "dtype: object"
      ]
     },
     "execution_count": 10,
     "metadata": {},
     "output_type": "execute_result"
    }
   ],
   "source": [
    "df.dtypes"
   ]
  },
  {
   "cell_type": "code",
   "execution_count": 11,
   "metadata": {},
   "outputs": [],
   "source": [
    "#print(df.describe(include='all'))"
   ]
  },
  {
   "cell_type": "markdown",
   "metadata": {},
   "source": [
    "### Etude des effectifs des modalités :"
   ]
  },
  {
   "cell_type": "markdown",
   "metadata": {},
   "source": [
    "Ce jeu de données est complet. Les valeurs non renseignées sont indiquées par \"-1\"."
   ]
  },
  {
   "cell_type": "code",
   "execution_count": 12,
   "metadata": {},
   "outputs": [],
   "source": [
    "colonne = [\"lum\", \"agglo\", \"int\", \"collision\", \"atm\", \"catr\", \"circ\", \"surf\", \"prof\", \"plan\", \"infra\", \"situ\",\n",
    "           \"catu\", \"sexe\", \"choc\", \"grav\"]\n",
    "def effectif_pourcentage():\n",
    "    for elem in colonne :\n",
    "        print(\"Pour la variable \" + elem + \" :\")\n",
    "        print((df[elem].value_counts())/len(df[elem])*100)\n",
    "        print(\"\\n\")\n",
    "#effectif_pourcentage()"
   ]
  },
  {
   "cell_type": "markdown",
   "metadata": {},
   "source": [
    "**Regrouper les modalités ayant peu d'effectifs entre elles**"
   ]
  },
  {
   "cell_type": "markdown",
   "metadata": {},
   "source": [
    "On regroupe les modalités entre elles lorsqu'elles forment moins de 5% de la population totale."
   ]
  },
  {
   "cell_type": "code",
   "execution_count": 13,
   "metadata": {},
   "outputs": [],
   "source": [
    "colonne = [\"agglo\", \"sexe\", \"catr\", \"catu\", \"collision\", \"atm\", \"surf\"]\n",
    "def regroupement_modalites():\n",
    "    for elem in colonne :\n",
    "        frequence = df[elem].value_counts()/len(df[elem])*100\n",
    "        for i in range(len(frequence)) :\n",
    "            if frequence[i] < 5 :\n",
    "                df.loc[df[elem]==frequence.index[i], elem] = \"Autre\"   \n",
    "regroupement_modalites()\n",
    "#effectif_pourcentage()"
   ]
  },
  {
   "cell_type": "markdown",
   "metadata": {},
   "source": [
    "**Ajout de variables**"
   ]
  },
  {
   "cell_type": "markdown",
   "metadata": {},
   "source": [
    "On crée la variable \"obstacle\" liée à l'accident"
   ]
  },
  {
   "cell_type": "code",
   "execution_count": 21,
   "metadata": {},
   "outputs": [],
   "source": [
    "conditions_obstacle = [\n",
    "                        (df['obs']>0) & (df['obsm']>0),\n",
    "                        (df['obs']>0) & (df['obsm']<=0),\n",
    "                        (df['obs']<=0) & (df['obsm']>0),\n",
    "                        (df['obs']==0) & (df['obsm']==0)]\n",
    "\n",
    "types_obstacle = ['1 obstacle mobile et 1 obstacle fixe', '1 obstacle fixe', '1 obstacle mobile', 'Pas dobstacle']\n",
    "\n",
    "df['obstacle'] = np.select(conditions_obstacle, types_obstacle, default='-1')"
   ]
  },
  {
   "cell_type": "markdown",
   "metadata": {},
   "source": [
    "On crée ensuite une nouvelle variable de catégorie d'âge, liée aux usagers, qu'on appelle 'age', à partir de la variable existante 'an_nais' (année de naissance)"
   ]
  },
  {
   "cell_type": "code",
   "execution_count": 31,
   "metadata": {},
   "outputs": [],
   "source": [
    "conditions_age = [\n",
    "                    (0 <= 2019 - df['an_nais']) & (2019 - df['an_nais'] <= 15),\n",
    "                    (16 <= 2019 - df['an_nais']) & (2019 - df['an_nais'] <= 30),\n",
    "                    (31 <= 2019 - df['an_nais']) & (2019 - df['an_nais'] <= 65),\n",
    "                    (66 <= 2019 - df['an_nais'])]\n",
    "\n",
    "categories_age = ['enfant', 'jeune', 'adulte', 'personne agee']\n",
    "\n",
    "df['age'] = np.select(conditions_age, categories_age, default='-1')"
   ]
  }
 ],
 "metadata": {
  "kernelspec": {
   "display_name": "Python 3",
   "language": "python",
   "name": "python3"
  },
  "language_info": {
   "codemirror_mode": {
    "name": "ipython",
    "version": 3
   },
   "file_extension": ".py",
   "mimetype": "text/x-python",
   "name": "python",
   "nbconvert_exporter": "python",
   "pygments_lexer": "ipython3",
   "version": "3.8.8"
  }
 },
 "nbformat": 4,
 "nbformat_minor": 4
}
