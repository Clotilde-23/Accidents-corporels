{
 "cells": [
  {
   "cell_type": "markdown",
   "metadata": {},
   "source": [
    "# <center >Accidents corporels de la route\n",
    "### Ouverture de la base de données et Structure des variables"
   ]
  },
  {
   "cell_type": "markdown",
   "metadata": {},
   "source": [
    "Faire les importations nécessaires :"
   ]
  },
  {
   "cell_type": "code",
   "execution_count": 2,
   "metadata": {},
   "outputs": [
    {
     "name": "stdout",
     "output_type": "stream",
     "text": [
      "Collecting graphviz\n",
      "  Downloading graphviz-0.19-py3-none-any.whl (46 kB)\n",
      "     |████████████████████████████████| 46 kB 1.2 MB/s            \n",
      "\u001b[?25hInstalling collected packages: graphviz\n",
      "Successfully installed graphviz-0.19\n",
      "Note: you may need to restart the kernel to use updated packages.\n"
     ]
    }
   ],
   "source": [
    "pip install graphviz"
   ]
  },
  {
   "cell_type": "code",
   "execution_count": 4,
   "metadata": {},
   "outputs": [],
   "source": [
    "import pandas as pd\n",
    "import numpy as np\n",
    "import matplotlib as plt\n",
    "import graphviz\n",
    "import seaborn as sns"
   ]
  },
  {
   "cell_type": "code",
   "execution_count": 5,
   "metadata": {},
   "outputs": [],
   "source": [
    "from sklearn.linear_model import LogisticRegression\n",
    "from sklearn import tree"
   ]
  },
  {
   "cell_type": "markdown",
   "metadata": {},
   "source": [
    "Importer les 4 fichiers :"
   ]
  },
  {
   "cell_type": "code",
   "execution_count": 49,
   "metadata": {},
   "outputs": [],
   "source": [
    "df_carac = pd.read_csv(\"https://www.data.gouv.fr/fr/datasets/r/e22ba475-45a3-46ac-a0f7-9ca9ed1e283a\", sep = \";\")\n",
    "df_lieux = pd.read_csv(\"https://www.data.gouv.fr/fr/datasets/r/2ad65965-36a1-4452-9c08-61a6c874e3e6\", sep = \";\")\n",
    "df_usagers = pd.read_csv(\"https://www.data.gouv.fr/fr/datasets/r/36b1b7b3-84b4-4901-9163-59ae8a9e3028\", sep = \";\")"
   ]
  },
  {
   "cell_type": "markdown",
   "metadata": {},
   "source": [
    "Une première sélection a été réalisée. Nous avons éliminé les variables qui ne semblaient avoir aucun lien avec la gravité de l'accident."
   ]
  },
  {
   "cell_type": "code",
   "execution_count": 50,
   "metadata": {},
   "outputs": [],
   "source": [
    "df_carac = df_carac[[\"Num_Acc\", \"jour\", \"mois\", \"an\", \"hrmn\", \"lum\", \"dep\", \"com\", \"agg\", \"int\", \"atm\", \"col\", \"lat\", \"long\"]]\n",
    "df_lieux = df_lieux[[\"Num_Acc\", \"catr\", \"circ\", \"nbv\", \"surf\", \"infra\", \"situ\", \"vma\"]] \n",
    "df_usagers = df_usagers[[\"Num_Acc\", \"id_vehicule\", \"place\", \"catu\", \"sexe\", \"grav\", \"an_nais\", \"trajet\", \"secu1\"]] "
   ]
  },
  {
   "cell_type": "markdown",
   "metadata": {},
   "source": [
    "Fusionner les 4 bases de données :"
   ]
  },
  {
   "cell_type": "code",
   "execution_count": 52,
   "metadata": {},
   "outputs": [],
   "source": [
    "df = df_usagers.merge(df_lieux, on=['Num_Acc'])\n",
    "df = df.merge(df_carac, on=['Num_Acc'])"
   ]
  },
  {
   "cell_type": "code",
   "execution_count": 53,
   "metadata": {},
   "outputs": [],
   "source": [
    "# Variables de la base Caracteristiques\n",
    "df[\"lum\"]= df['lum'].map({1:'Plein jour',\n",
    "                        2:'Crépuscule ou aube',\n",
    "                        3: \"Nuit sans éclairage public\",\n",
    "                        4: \"Nuit avec éclairage public non allumé\",\n",
    "                        5: \"Nuit avec éclairage public allumé\"})\n",
    "df['agglo'] = df['agg'].map({1:'Hors agglomeration',\n",
    "                             2:'Agglomeration'})\n",
    "del df['agg']\n",
    "df['atm'] = df['atm'].map({1:'Normale',\n",
    "                             2:'Pluie legere',\n",
    "                             3:'Pluie forte',\n",
    "                             4:'Neige',\n",
    "                          5:'Brouillard',\n",
    "                          6:'Vent fort',\n",
    "                          7:'Eblouissant',\n",
    "                          8:'Couvert',\n",
    "                          9:'Autre'})\n",
    "df['collision'] = df['col'].map({1:'2 - frontale',\n",
    "                             2:'2-arriere',\n",
    "                             3:'2-cote',\n",
    "                             4:'3-chaine',\n",
    "                          5:'3-multiple',\n",
    "                          6:'autre',\n",
    "                          7:'Sans collision'})\n",
    "del df['col']\n",
    "\n",
    "\n",
    "# Variables de la base Usagers\n",
    "df['catu'] = df['catu'].map({1:'Conducteur',\n",
    "                             2:'Passager',\n",
    "                             3:'Pieton'})\n",
    "df['sexe'] = df['sexe'].map({1:'Homme',\n",
    "                             2:'Femme'})\n",
    "df['grav2'] = df['grav'].map({1:'Indemne',\n",
    "                             2:'Indemne',\n",
    "                             3:'Blesse',\n",
    "                             4:'Blesse'})\n",
    "df['grav'] = df['grav'].map({1:'Indemne',\n",
    "                             2:'Tue',\n",
    "                             3:'Blesse hospitalise',\n",
    "                             4:'Blesse leger'})\n",
    "\n",
    "\n",
    "# Variables de la base Lieux\n",
    "df['catr'] = df['catr'].map({1:'Autoroute',\n",
    "                             2:'Route nationale',\n",
    "                             3:'Route départementale',\n",
    "                             4:'Voie Communale',\n",
    "                          5:'Hors réseau public',\n",
    "                          6:'Parc de stationnement',\n",
    "                          7:'Routes de métropole urbaine',\n",
    "                          9:'Autre'})\n",
    "df['surf'] = df['surf'].map({1:'Normale',\n",
    "                             2:'Mouillée',\n",
    "                             3:'Flaques',\n",
    "                             4:'Inondée',\n",
    "                          5:'Enneigée',\n",
    "                          6:'Boue',\n",
    "                          7:'Verglecée',\n",
    "                             8:'Corps gras - huile',\n",
    "                          9:'Autre'})\n",
    "\n",
    "# Création de nouvelles variables\n",
    "df['age'] = 2019 - df['an_nais']"
   ]
  },
  {
   "cell_type": "markdown",
   "metadata": {},
   "source": [
    "### Appropriation du jeu de données"
   ]
  },
  {
   "cell_type": "code",
   "execution_count": 13,
   "metadata": {},
   "outputs": [
    {
     "data": {
      "text/plain": [
       "Index(['Num_Acc', 'id_vehicule', 'place', 'catu', 'sexe', 'grav', 'an_nais',\n",
       "       'trajet', 'secu1', 'catr', 'circ', 'nbv', 'surf', 'infra', 'situ',\n",
       "       'vma', 'an', 'jour', 'mois', 'hrmn', 'lum', 'dep', 'atm', 'com', 'lat',\n",
       "       'long', 'agglo', 'collision', 'grav4', 'grav2', 'age'],\n",
       "      dtype='object')"
      ]
     },
     "execution_count": 13,
     "metadata": {},
     "output_type": "execute_result"
    }
   ],
   "source": [
    "df.columns"
   ]
  },
  {
   "cell_type": "code",
   "execution_count": 14,
   "metadata": {},
   "outputs": [
    {
     "data": {
      "text/html": [
       "<div>\n",
       "<style scoped>\n",
       "    .dataframe tbody tr th:only-of-type {\n",
       "        vertical-align: middle;\n",
       "    }\n",
       "\n",
       "    .dataframe tbody tr th {\n",
       "        vertical-align: top;\n",
       "    }\n",
       "\n",
       "    .dataframe thead th {\n",
       "        text-align: right;\n",
       "    }\n",
       "</style>\n",
       "<table border=\"1\" class=\"dataframe\">\n",
       "  <thead>\n",
       "    <tr style=\"text-align: right;\">\n",
       "      <th></th>\n",
       "      <th>Num_Acc</th>\n",
       "      <th>id_vehicule</th>\n",
       "      <th>place</th>\n",
       "      <th>catu</th>\n",
       "      <th>sexe</th>\n",
       "      <th>grav</th>\n",
       "      <th>an_nais</th>\n",
       "      <th>trajet</th>\n",
       "      <th>secu1</th>\n",
       "      <th>catr</th>\n",
       "      <th>...</th>\n",
       "      <th>dep</th>\n",
       "      <th>atm</th>\n",
       "      <th>com</th>\n",
       "      <th>lat</th>\n",
       "      <th>long</th>\n",
       "      <th>agglo</th>\n",
       "      <th>collision</th>\n",
       "      <th>grav4</th>\n",
       "      <th>grav2</th>\n",
       "      <th>age</th>\n",
       "    </tr>\n",
       "  </thead>\n",
       "  <tbody>\n",
       "    <tr>\n",
       "      <th>0</th>\n",
       "      <td>201900000001</td>\n",
       "      <td>138 306 524</td>\n",
       "      <td>2</td>\n",
       "      <td>Passager</td>\n",
       "      <td>Femme</td>\n",
       "      <td>4</td>\n",
       "      <td>2002</td>\n",
       "      <td>0</td>\n",
       "      <td>1</td>\n",
       "      <td>Autoroute</td>\n",
       "      <td>...</td>\n",
       "      <td>93</td>\n",
       "      <td>Normale</td>\n",
       "      <td>93053</td>\n",
       "      <td>48,8962100</td>\n",
       "      <td>2,4701200</td>\n",
       "      <td>Hors agglomeration</td>\n",
       "      <td>2-arriere</td>\n",
       "      <td>Blesse leger</td>\n",
       "      <td>Blesse</td>\n",
       "      <td>17</td>\n",
       "    </tr>\n",
       "    <tr>\n",
       "      <th>1</th>\n",
       "      <td>201900000001</td>\n",
       "      <td>138 306 524</td>\n",
       "      <td>1</td>\n",
       "      <td>Conducteur</td>\n",
       "      <td>Femme</td>\n",
       "      <td>4</td>\n",
       "      <td>1993</td>\n",
       "      <td>5</td>\n",
       "      <td>1</td>\n",
       "      <td>Autoroute</td>\n",
       "      <td>...</td>\n",
       "      <td>93</td>\n",
       "      <td>Normale</td>\n",
       "      <td>93053</td>\n",
       "      <td>48,8962100</td>\n",
       "      <td>2,4701200</td>\n",
       "      <td>Hors agglomeration</td>\n",
       "      <td>2-arriere</td>\n",
       "      <td>Blesse leger</td>\n",
       "      <td>Blesse</td>\n",
       "      <td>26</td>\n",
       "    </tr>\n",
       "    <tr>\n",
       "      <th>2</th>\n",
       "      <td>201900000001</td>\n",
       "      <td>138 306 525</td>\n",
       "      <td>1</td>\n",
       "      <td>Conducteur</td>\n",
       "      <td>Homme</td>\n",
       "      <td>1</td>\n",
       "      <td>1959</td>\n",
       "      <td>0</td>\n",
       "      <td>1</td>\n",
       "      <td>Autoroute</td>\n",
       "      <td>...</td>\n",
       "      <td>93</td>\n",
       "      <td>Normale</td>\n",
       "      <td>93053</td>\n",
       "      <td>48,8962100</td>\n",
       "      <td>2,4701200</td>\n",
       "      <td>Hors agglomeration</td>\n",
       "      <td>2-arriere</td>\n",
       "      <td>Indemne</td>\n",
       "      <td>Indemne</td>\n",
       "      <td>60</td>\n",
       "    </tr>\n",
       "    <tr>\n",
       "      <th>3</th>\n",
       "      <td>201900000002</td>\n",
       "      <td>138 306 523</td>\n",
       "      <td>1</td>\n",
       "      <td>Conducteur</td>\n",
       "      <td>Femme</td>\n",
       "      <td>4</td>\n",
       "      <td>1994</td>\n",
       "      <td>0</td>\n",
       "      <td>1</td>\n",
       "      <td>Autoroute</td>\n",
       "      <td>...</td>\n",
       "      <td>93</td>\n",
       "      <td>Normale</td>\n",
       "      <td>93066</td>\n",
       "      <td>48,9307000</td>\n",
       "      <td>2,3688000</td>\n",
       "      <td>Hors agglomeration</td>\n",
       "      <td>autre</td>\n",
       "      <td>Blesse leger</td>\n",
       "      <td>Blesse</td>\n",
       "      <td>25</td>\n",
       "    </tr>\n",
       "    <tr>\n",
       "      <th>4</th>\n",
       "      <td>201900000003</td>\n",
       "      <td>138 306 520</td>\n",
       "      <td>1</td>\n",
       "      <td>Conducteur</td>\n",
       "      <td>Homme</td>\n",
       "      <td>1</td>\n",
       "      <td>1996</td>\n",
       "      <td>0</td>\n",
       "      <td>1</td>\n",
       "      <td>Autoroute</td>\n",
       "      <td>...</td>\n",
       "      <td>92</td>\n",
       "      <td>Normale</td>\n",
       "      <td>92036</td>\n",
       "      <td>48,9358718</td>\n",
       "      <td>2,3191744</td>\n",
       "      <td>Hors agglomeration</td>\n",
       "      <td>3-chaine</td>\n",
       "      <td>Indemne</td>\n",
       "      <td>Indemne</td>\n",
       "      <td>23</td>\n",
       "    </tr>\n",
       "  </tbody>\n",
       "</table>\n",
       "<p>5 rows × 31 columns</p>\n",
       "</div>"
      ],
      "text/plain": [
       "        Num_Acc  id_vehicule  place        catu   sexe  grav  an_nais  trajet  \\\n",
       "0  201900000001  138 306 524      2    Passager  Femme     4     2002       0   \n",
       "1  201900000001  138 306 524      1  Conducteur  Femme     4     1993       5   \n",
       "2  201900000001  138 306 525      1  Conducteur  Homme     1     1959       0   \n",
       "3  201900000002  138 306 523      1  Conducteur  Femme     4     1994       0   \n",
       "4  201900000003  138 306 520      1  Conducteur  Homme     1     1996       0   \n",
       "\n",
       "   secu1       catr  ...  dep      atm    com         lat       long  \\\n",
       "0      1  Autoroute  ...   93  Normale  93053  48,8962100  2,4701200   \n",
       "1      1  Autoroute  ...   93  Normale  93053  48,8962100  2,4701200   \n",
       "2      1  Autoroute  ...   93  Normale  93053  48,8962100  2,4701200   \n",
       "3      1  Autoroute  ...   93  Normale  93066  48,9307000  2,3688000   \n",
       "4      1  Autoroute  ...   92  Normale  92036  48,9358718  2,3191744   \n",
       "\n",
       "                agglo  collision         grav4    grav2 age  \n",
       "0  Hors agglomeration  2-arriere  Blesse leger   Blesse  17  \n",
       "1  Hors agglomeration  2-arriere  Blesse leger   Blesse  26  \n",
       "2  Hors agglomeration  2-arriere       Indemne  Indemne  60  \n",
       "3  Hors agglomeration      autre  Blesse leger   Blesse  25  \n",
       "4  Hors agglomeration   3-chaine       Indemne  Indemne  23  \n",
       "\n",
       "[5 rows x 31 columns]"
      ]
     },
     "execution_count": 14,
     "metadata": {},
     "output_type": "execute_result"
    }
   ],
   "source": [
    "df.head(5)"
   ]
  },
  {
   "cell_type": "code",
   "execution_count": 15,
   "metadata": {},
   "outputs": [
    {
     "data": {
      "text/plain": [
       "Num_Acc         int64\n",
       "id_vehicule    object\n",
       "place           int64\n",
       "catu           object\n",
       "sexe           object\n",
       "grav            int64\n",
       "an_nais         int64\n",
       "trajet          int64\n",
       "secu1           int64\n",
       "catr           object\n",
       "circ            int64\n",
       "nbv             int64\n",
       "surf           object\n",
       "infra           int64\n",
       "situ            int64\n",
       "vma             int64\n",
       "an              int64\n",
       "jour            int64\n",
       "mois            int64\n",
       "hrmn           object\n",
       "lum            object\n",
       "dep            object\n",
       "atm            object\n",
       "com            object\n",
       "lat            object\n",
       "long           object\n",
       "agglo          object\n",
       "collision      object\n",
       "grav4          object\n",
       "grav2          object\n",
       "age             int64\n",
       "dtype: object"
      ]
     },
     "execution_count": 15,
     "metadata": {},
     "output_type": "execute_result"
    }
   ],
   "source": [
    "df.dtypes"
   ]
  },
  {
   "cell_type": "code",
   "execution_count": 11,
   "metadata": {},
   "outputs": [],
   "source": [
    "#print(df.describe(include='all'))"
   ]
  },
  {
   "cell_type": "markdown",
   "metadata": {},
   "source": [
    "### Etude des valeurs manquantes :"
   ]
  },
  {
   "cell_type": "markdown",
   "metadata": {},
   "source": [
    "Ce jeu de données est complet. Les valeurs non renseignées sont indiquées par \"-1\" dans la plupart des cas.\n",
    "On peut remarquer qu'il y a 3704 valeurs manquantes. Nous les supprimerons dans la suite du travail"
   ]
  },
  {
   "cell_type": "code",
   "execution_count": 54,
   "metadata": {},
   "outputs": [
    {
     "name": "stdout",
     "output_type": "stream",
     "text": [
      "Pour la variable agglo :\n",
      "Agglomeration         62.259639\n",
      "Hors agglomeration    37.740361\n",
      "Name: agglo, dtype: float64\n",
      "\n",
      "\n",
      "Pour la variable sexe :\n",
      "Homme    67.969649\n",
      "Femme    32.030351\n",
      "Name: sexe, dtype: float64\n",
      "\n",
      "\n",
      "Pour la variable catr :\n",
      "Voie Communale                 41.478602\n",
      "Route départementale           35.390331\n",
      "Autoroute                      11.968235\n",
      "Route nationale                 7.215534\n",
      "Routes de métropole urbaine     2.202637\n",
      "Autre                           0.923468\n",
      "Parc de stationnement           0.699369\n",
      "Hors réseau public              0.121826\n",
      "Name: catr, dtype: float64\n",
      "\n",
      "\n",
      "Pour la variable catu :\n",
      "Conducteur    73.212661\n",
      "Passager      18.315949\n",
      "Pieton         8.471390\n",
      "Name: catu, dtype: float64\n",
      "\n",
      "\n",
      "Pour la variable grav :\n",
      "Indemne               41.596667\n",
      "Blesse leger          40.087384\n",
      "Blesse hospitalise    15.685419\n",
      "Tue                    2.630530\n",
      "Name: grav, dtype: float64\n",
      "\n",
      "\n",
      "Pour la variable grav2 :\n",
      "Blesse     55.772803\n",
      "Indemne    41.596667\n",
      "Indemme     2.630530\n",
      "Name: grav2, dtype: float64\n",
      "\n",
      "\n",
      "Pour la variable collision :\n",
      "2-cote            30.343593\n",
      "autre             26.198516\n",
      "2-arriere         13.518879\n",
      "2 - frontale      10.495048\n",
      "3-chaine           6.987675\n",
      "Sans collision     6.514660\n",
      "3-multiple         5.940125\n",
      "Name: collision, dtype: float64\n",
      "\n",
      "\n",
      "Pour la variable atm :\n",
      "Normale         79.216707\n",
      "Pluie legere    11.091392\n",
      "Couvert          3.717936\n",
      "Pluie forte      2.439520\n",
      "Eblouissant      1.756695\n",
      "Brouillard       0.543703\n",
      "Autre            0.493318\n",
      "Neige            0.463990\n",
      "Vent fort        0.275988\n",
      "Name: atm, dtype: float64\n",
      "\n",
      "\n",
      "Pour la variable surf :\n",
      "Normale               80.052189\n",
      "Mouillée              18.534784\n",
      "Autre                  0.461734\n",
      "Verglecée              0.326372\n",
      "Enneigée               0.191762\n",
      "Flaques                0.176722\n",
      "Corps gras - huile     0.147394\n",
      "Boue                   0.043617\n",
      "Inondée                0.035344\n",
      "Name: surf, dtype: float64\n",
      "\n",
      "\n"
     ]
    }
   ],
   "source": [
    "colonne = [\"agglo\", \"sexe\", \"catr\", \"catu\", \"grav\", \"grav2\", \"collision\", \"atm\", \"surf\"]\n",
    "def effectif_pourcentage():\n",
    "    for elem in colonne :\n",
    "        print(\"Pour la variable \" + elem + \" :\")\n",
    "        print((df[elem].value_counts())/len(df[elem])*100)\n",
    "        print(\"\\n\")\n",
    "effectif_pourcentage()"
   ]
  },
  {
   "cell_type": "markdown",
   "metadata": {},
   "source": [
    "**Regrouper les modalités ayant peu d'effectifs entre elles**"
   ]
  },
  {
   "cell_type": "markdown",
   "metadata": {},
   "source": [
    "On regroupe les modalités entre elles lorsqu'elles forment moins de 5% de la population totale."
   ]
  },
  {
   "cell_type": "code",
   "execution_count": 55,
   "metadata": {},
   "outputs": [],
   "source": [
    "colonne = [\"agglo\", \"sexe\", \"catr\", \"catu\", \"collision\", \"atm\", \"surf\"]\n",
    "def regroupement_modalites():\n",
    "    for elem in colonne :\n",
    "        frequence = df[elem].value_counts()/len(df[elem])*100\n",
    "        for i in range(len(frequence)) :\n",
    "            if frequence[i] < 5 :\n",
    "                df.loc[df[elem]==frequence.index[i], elem] = \"Autre\"   \n",
    "regroupement_modalites()"
   ]
  },
  {
   "cell_type": "code",
   "execution_count": 56,
   "metadata": {},
   "outputs": [
    {
     "name": "stdout",
     "output_type": "stream",
     "text": [
      "Pour la variable agglo :\n",
      "Agglomeration         62.259639\n",
      "Hors agglomeration    37.740361\n",
      "Name: agglo, dtype: float64\n",
      "\n",
      "\n",
      "Pour la variable sexe :\n",
      "Homme    67.969649\n",
      "Femme    32.030351\n",
      "Name: sexe, dtype: float64\n",
      "\n",
      "\n",
      "Pour la variable catr :\n",
      "Voie Communale          41.478602\n",
      "Route départementale    35.390331\n",
      "Autoroute               11.968235\n",
      "Route nationale          7.215534\n",
      "Autre                    3.947299\n",
      "Name: catr, dtype: float64\n",
      "\n",
      "\n",
      "Pour la variable catu :\n",
      "Conducteur    73.212661\n",
      "Passager      18.315949\n",
      "Pieton         8.471390\n",
      "Name: catu, dtype: float64\n",
      "\n",
      "\n",
      "Pour la variable collision :\n",
      "2-cote            30.343593\n",
      "autre             26.198516\n",
      "2-arriere         13.518879\n",
      "2 - frontale      10.495048\n",
      "3-chaine           6.987675\n",
      "Sans collision     6.514660\n",
      "3-multiple         5.940125\n",
      "Name: collision, dtype: float64\n",
      "\n",
      "\n",
      "Pour la variable atm :\n",
      "Normale         79.216707\n",
      "Pluie legere    11.091392\n",
      "Autre            9.691150\n",
      "Name: atm, dtype: float64\n",
      "\n",
      "\n",
      "Pour la variable surf :\n",
      "Normale     80.052189\n",
      "Mouillée    18.534784\n",
      "Autre        1.382946\n",
      "Name: surf, dtype: float64\n",
      "\n",
      "\n"
     ]
    }
   ],
   "source": [
    "colonne = [\"agglo\", \"sexe\", \"catr\", \"catu\", \"collision\", \"atm\", \"surf\"]\n",
    "def effectif_pourcentage():\n",
    "    for elem in colonne :\n",
    "        print(\"Pour la variable \" + elem + \" :\")\n",
    "        print((df[elem].value_counts())/len(df[elem])*100)\n",
    "        print(\"\\n\")\n",
    "effectif_pourcentage()"
   ]
  },
  {
   "cell_type": "markdown",
   "metadata": {},
   "source": [
    "### Statistiques univariées"
   ]
  },
  {
   "cell_type": "code",
   "execution_count": 57,
   "metadata": {},
   "outputs": [
    {
     "data": {
      "text/plain": [
       "<matplotlib.axes._subplots.AxesSubplot at 0x1a2a580790>"
      ]
     },
     "execution_count": 57,
     "metadata": {},
     "output_type": "execute_result"
    },
    {
     "data": {
      "image/png": "[encoded data removed]",
      "text/plain": [
       "<Figure size 432x288 with 1 Axes>"
      ]
     },
     "metadata": {},
     "output_type": "display_data"
    }
   ],
   "source": [
    "df[\"sexe\"].value_counts().plot(kind = 'pie')"
   ]
  },
  {
   "cell_type": "code",
   "execution_count": 58,
   "metadata": {},
   "outputs": [
    {
     "name": "stdout",
     "output_type": "stream",
     "text": [
      "Pour la variable agglo :\n",
      "\n",
      "\n",
      "Pour la variable sexe :\n",
      "\n",
      "\n",
      "Pour la variable catr :\n",
      "\n",
      "\n",
      "Pour la variable catu :\n",
      "\n",
      "\n",
      "Pour la variable grav2 :\n",
      "\n",
      "\n",
      "Pour la variable grav :\n",
      "\n",
      "\n",
      "Pour la variable collision :\n",
      "\n",
      "\n",
      "Pour la variable atm :\n",
      "\n",
      "\n",
      "Pour la variable surf :\n",
      "\n",
      "\n"
     ]
    },
    {
     "data": {
      "image/png": "[encoded data removed]",
      "text/plain": [
       "<Figure size 432x288 with 1 Axes>"
      ]
     },
     "metadata": {},
     "output_type": "display_data"
    }
   ],
   "source": [
    "colonne = [\"agglo\", \"sexe\", \"catr\", \"catu\", \"grav2\", \"grav\", \"collision\", \"atm\", \"surf\"]\n",
    "def camembert():\n",
    "    for elem in colonne :\n",
    "        print(\"Pour la variable \" + elem + \" :\")\n",
    "        df[elem].value_counts().plot(kind = 'pie', subplots = True)\n",
    "        print(\"\\n\")\n",
    "camembert()"
   ]
  },
  {
   "cell_type": "code",
   "execution_count": 40,
   "metadata": {},
   "outputs": [
    {
     "data": {
      "text/plain": [
       "<matplotlib.axes._subplots.AxesSubplot at 0x1a2c678650>"
      ]
     },
     "execution_count": 40,
     "metadata": {},
     "output_type": "execute_result"
    },
    {
     "data": {
      "image/png": "[encoded data removed]",
      "text/plain": [
       "<Figure size 432x288 with 1 Axes>"
      ]
     },
     "metadata": {},
     "output_type": "display_data"
    }
   ],
   "source": [
    "df[\"grav\"].value_counts().plot(kind = 'pie')"
   ]
  },
  {
   "cell_type": "code",
   "execution_count": 41,
   "metadata": {},
   "outputs": [
    {
     "data": {
      "text/plain": [
       "sexe   grav              \n",
       "Femme  Blesse leger          19983\n",
       "       Indemne               15638\n",
       "       Blesse hospitalise     6196\n",
       "       Tue                     776\n",
       "Homme  Indemne               39676\n",
       "       Blesse leger          33324\n",
       "       Blesse hospitalise    14662\n",
       "       Tue                    2722\n",
       "Name: grav, dtype: int64"
      ]
     },
     "execution_count": 41,
     "metadata": {},
     "output_type": "execute_result"
    }
   ],
   "source": [
    "df.groupby(\"sexe\").grav.value_counts()"
   ]
  },
  {
   "cell_type": "code",
   "execution_count": 42,
   "metadata": {},
   "outputs": [
    {
     "name": "stdout",
     "output_type": "stream",
     "text": [
      "AxesSubplot(0.125,0.125;0.775x0.755)\n"
     ]
    },
    {
     "data": {
      "image/png": "[encoded data removed]",
      "text/plain": [
       "<Figure size 432x288 with 1 Axes>"
      ]
     },
     "metadata": {
      "needs_background": "light"
     },
     "output_type": "display_data"
    }
   ],
   "source": [
    "print(df[df.sexe == 'Homme'].grav.value_counts().plot(kind = 'bar'))"
   ]
  },
  {
   "cell_type": "code",
   "execution_count": 43,
   "metadata": {},
   "outputs": [
    {
     "name": "stdout",
     "output_type": "stream",
     "text": [
      "AxesSubplot(0.125,0.125;0.775x0.755)\n"
     ]
    },
    {
     "data": {
      "image/png": "[encoded data removed]",
      "text/plain": [
       "<Figure size 432x288 with 1 Axes>"
      ]
     },
     "metadata": {
      "needs_background": "light"
     },
     "output_type": "display_data"
    }
   ],
   "source": [
    "print(df[df.sexe == 'Femme'].grav.value_counts().plot(kind = 'bar'))"
   ]
  },
  {
   "cell_type": "code",
   "execution_count": 44,
   "metadata": {},
   "outputs": [
    {
     "data": {
      "text/plain": [
       "<seaborn.axisgrid.FacetGrid at 0x1a264a7d90>"
      ]
     },
     "execution_count": 44,
     "metadata": {},
     "output_type": "execute_result"
    },
    {
     "data": {
      "image/png": "[encoded data removed]",
      "text/plain": [
       "<Figure size 360x360 with 2 Axes>"
      ]
     },
     "metadata": {
      "needs_background": "light"
     },
     "output_type": "display_data"
    }
   ],
   "source": [
    "sns.catplot(x=\"grav\",\n",
    "            col='sexe',\n",
    "            kind=\"count\", data=df,\n",
    "            aspect=0.5)"
   ]
  },
  {
   "cell_type": "code",
   "execution_count": 45,
   "metadata": {},
   "outputs": [
    {
     "data": {
      "text/html": [
       "<div>\n",
       "<style scoped>\n",
       "    .dataframe tbody tr th:only-of-type {\n",
       "        vertical-align: middle;\n",
       "    }\n",
       "\n",
       "    .dataframe tbody tr th {\n",
       "        vertical-align: top;\n",
       "    }\n",
       "\n",
       "    .dataframe thead th {\n",
       "        text-align: right;\n",
       "    }\n",
       "</style>\n",
       "<table border=\"1\" class=\"dataframe\">\n",
       "  <thead>\n",
       "    <tr style=\"text-align: right;\">\n",
       "      <th>grav</th>\n",
       "      <th>Blesse hospitalise</th>\n",
       "      <th>Blesse leger</th>\n",
       "      <th>Indemne</th>\n",
       "      <th>Tue</th>\n",
       "    </tr>\n",
       "    <tr>\n",
       "      <th>catu</th>\n",
       "      <th></th>\n",
       "      <th></th>\n",
       "      <th></th>\n",
       "      <th></th>\n",
       "    </tr>\n",
       "  </thead>\n",
       "  <tbody>\n",
       "    <tr>\n",
       "      <th>Conducteur</th>\n",
       "      <td>14063</td>\n",
       "      <td>34628</td>\n",
       "      <td>46216</td>\n",
       "      <td>2449</td>\n",
       "    </tr>\n",
       "    <tr>\n",
       "      <th>Passager</th>\n",
       "      <td>3561</td>\n",
       "      <td>11506</td>\n",
       "      <td>8775</td>\n",
       "      <td>514</td>\n",
       "    </tr>\n",
       "    <tr>\n",
       "      <th>Pieton</th>\n",
       "      <td>3234</td>\n",
       "      <td>7173</td>\n",
       "      <td>323</td>\n",
       "      <td>535</td>\n",
       "    </tr>\n",
       "  </tbody>\n",
       "</table>\n",
       "</div>"
      ],
      "text/plain": [
       "grav        Blesse hospitalise  Blesse leger  Indemne   Tue\n",
       "catu                                                       \n",
       "Conducteur               14063         34628    46216  2449\n",
       "Passager                  3561         11506     8775   514\n",
       "Pieton                    3234          7173      323   535"
      ]
     },
     "execution_count": 45,
     "metadata": {},
     "output_type": "execute_result"
    }
   ],
   "source": [
    "pd.crosstab(df.catu, df.grav)"
   ]
  },
  {
   "cell_type": "code",
   "execution_count": 46,
   "metadata": {},
   "outputs": [
    {
     "data": {
      "text/plain": [
       "<matplotlib.axes._subplots.AxesSubplot at 0x1a2c718f10>"
      ]
     },
     "execution_count": 46,
     "metadata": {},
     "output_type": "execute_result"
    },
    {
     "data": {
      "image/png": "[encoded data removed]",
      "text/plain": [
       "<Figure size 432x288 with 1 Axes>"
      ]
     },
     "metadata": {
      "needs_background": "light"
     },
     "output_type": "display_data"
    }
   ],
   "source": [
    "pd.crosstab(df.catu, df.grav).plot.bar()"
   ]
  }
 ],
 "metadata": {
  "kernelspec": {
   "display_name": "Python 3",
   "language": "python",
   "name": "python3"
  },
  "language_info": {
   "codemirror_mode": {
    "name": "ipython",
    "version": 3
   },
   "file_extension": ".py",
   "mimetype": "text/x-python",
   "name": "python",
   "nbconvert_exporter": "python",
   "pygments_lexer": "ipython3",
   "version": "3.7.6"
  }
 },
 "nbformat": 4,
 "nbformat_minor": 4
}
