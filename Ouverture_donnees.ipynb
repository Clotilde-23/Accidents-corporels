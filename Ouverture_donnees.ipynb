{
 "cells": [
  {
   "cell_type": "markdown",
   "metadata": {},
   "source": [
    "# <center >Accidents corporels de la route\n",
    "### Ouverture de la base de données et Structure des variables"
   ]
  },
  {
   "cell_type": "markdown",
   "metadata": {},
   "source": [
    "Faire les importations nécessaires :"
   ]
  },
  {
   "cell_type": "code",
   "execution_count": 3,
   "metadata": {},
   "outputs": [
    {
     "name": "stdout",
     "output_type": "stream",
     "text": [
      "Collecting graphviz\n",
      "  Downloading graphviz-0.18.2-py3-none-any.whl (39 kB)\n",
      "Installing collected packages: graphviz\n",
      "Successfully installed graphviz-0.18.2\n",
      "Note: you may need to restart the kernel to use updated packages.\n"
     ]
    }
   ],
   "source": [
    "pip install graphviz"
   ]
  },
  {
   "cell_type": "code",
   "execution_count": 11,
   "metadata": {},
   "outputs": [],
   "source": [
    "import pandas as pd\n",
    "import numpy as np\n",
    "import matplotlib as plt\n",
    "import graphviz\n",
    "import seaborn as sns"
   ]
  },
  {
   "cell_type": "code",
   "execution_count": 12,
   "metadata": {},
   "outputs": [],
   "source": [
    "from sklearn.linear_model import LogisticRegression\n",
    "from sklearn import tree"
   ]
  },
  {
   "cell_type": "markdown",
   "metadata": {},
   "source": [
    "Importer les 4 fichiers :"
   ]
  },
  {
   "cell_type": "code",
   "execution_count": 13,
   "metadata": {},
   "outputs": [],
   "source": [
    "df_carac = pd.read_csv(\"https://www.data.gouv.fr/fr/datasets/r/07a88205-83c1-4123-a993-cba5331e8ae0\", sep = \";\")\n",
    "df_lieux = pd.read_csv(\"https://www.data.gouv.fr/fr/datasets/r/e85c41f7-d4ea-4faf-877f-ab69a620ce21\", sep = \";\")\n",
    "df_usagers = pd.read_csv(\"https://www.data.gouv.fr/fr/datasets/r/78c45763-d170-4d51-a881-e3147802d7ee\", sep = \";\")"
   ]
  },
  {
   "cell_type": "markdown",
   "metadata": {},
   "source": [
    "Une première sélection a été réalisée. Nous avons éliminé les variables qui ne semblaient avoir aucun lien avec la gravité de l'accident."
   ]
  },
  {
   "cell_type": "code",
   "execution_count": 14,
   "metadata": {},
   "outputs": [],
   "source": [
    "df_carac = df_carac[[\"Num_Acc\", \"an\", \"hrmn\", \"lum\", \"dep\", \"agg\", \"atm\", \"com\", \"col\", \"lat\", \"long\"]]\n",
    "df_lieux = df_lieux[[\"Num_Acc\", \"catr\", \"circ\", \"nbv\", \"surf\", \"infra\", \"situ\", \"vma\"]] \n",
    "df_usagers = df_usagers[[\"Num_Acc\", \"id_vehicule\", \"place\", \"catu\", \"sexe\", \"grav\", \"an_nais\", \"trajet\", \"secu1\"]] "
   ]
  },
  {
   "cell_type": "markdown",
   "metadata": {},
   "source": [
    "Fusionner les 4 bases de données :"
   ]
  },
  {
   "cell_type": "code",
   "execution_count": 47,
   "metadata": {},
   "outputs": [],
   "source": [
    "df = df_usagers.merge(df_lieux, on=['Num_Acc'])\n",
    "df = df.merge(df_carac, on=['Num_Acc'])"
   ]
  },
  {
   "cell_type": "code",
   "execution_count": 9,
   "metadata": {},
   "outputs": [],
   "source": [
    "df['agg'] = df['agg'].map({1:'Hors agglomeration',\n",
    "                             2:'Agglomeration'})\n",
    "df['sexe'] = df['sexe'].map({1:'Homme',\n",
    "                             2:'Femme'})\n",
    "df['grav'] = df['grav'].map({1:'Indemne',\n",
    "                             2:'Tué',\n",
    "                             3:'Blesse hospitalise',\n",
    "                             4:'Blesse leger'})\n",
    "df['catu'] = df['catu'].map({1:'Conducteur',\n",
    "                             2:'Passager',\n",
    "                             3:'Pieton'})"
   ]
  },
  {
   "cell_type": "markdown",
   "metadata": {},
   "source": [
    "### Appropriation du jeu de données"
   ]
  },
  {
   "cell_type": "code",
   "execution_count": 6,
   "metadata": {},
   "outputs": [
    {
     "data": {
      "text/html": [
       "<div>\n",
       "<style scoped>\n",
       "    .dataframe tbody tr th:only-of-type {\n",
       "        vertical-align: middle;\n",
       "    }\n",
       "\n",
       "    .dataframe tbody tr th {\n",
       "        vertical-align: top;\n",
       "    }\n",
       "\n",
       "    .dataframe thead th {\n",
       "        text-align: right;\n",
       "    }\n",
       "</style>\n",
       "<table border=\"1\" class=\"dataframe\">\n",
       "  <thead>\n",
       "    <tr style=\"text-align: right;\">\n",
       "      <th></th>\n",
       "      <th>Num_Acc</th>\n",
       "      <th>id_vehicule</th>\n",
       "      <th>place</th>\n",
       "      <th>catu</th>\n",
       "      <th>sexe</th>\n",
       "      <th>grav</th>\n",
       "      <th>an_nais</th>\n",
       "      <th>trajet</th>\n",
       "      <th>secu1</th>\n",
       "      <th>catr</th>\n",
       "      <th>...</th>\n",
       "      <th>an</th>\n",
       "      <th>hrmn</th>\n",
       "      <th>lum</th>\n",
       "      <th>dep</th>\n",
       "      <th>agg</th>\n",
       "      <th>atm</th>\n",
       "      <th>com</th>\n",
       "      <th>col</th>\n",
       "      <th>lat</th>\n",
       "      <th>long</th>\n",
       "    </tr>\n",
       "  </thead>\n",
       "  <tbody>\n",
       "    <tr>\n",
       "      <th>0</th>\n",
       "      <td>201900000001</td>\n",
       "      <td>138 306 524</td>\n",
       "      <td>2</td>\n",
       "      <td>2</td>\n",
       "      <td>2</td>\n",
       "      <td>4</td>\n",
       "      <td>2002</td>\n",
       "      <td>0</td>\n",
       "      <td>1</td>\n",
       "      <td>1</td>\n",
       "      <td>...</td>\n",
       "      <td>2019</td>\n",
       "      <td>01:30</td>\n",
       "      <td>4</td>\n",
       "      <td>93</td>\n",
       "      <td>1</td>\n",
       "      <td>1</td>\n",
       "      <td>93053</td>\n",
       "      <td>2</td>\n",
       "      <td>48,8962100</td>\n",
       "      <td>2,4701200</td>\n",
       "    </tr>\n",
       "    <tr>\n",
       "      <th>1</th>\n",
       "      <td>201900000001</td>\n",
       "      <td>138 306 524</td>\n",
       "      <td>1</td>\n",
       "      <td>1</td>\n",
       "      <td>2</td>\n",
       "      <td>4</td>\n",
       "      <td>1993</td>\n",
       "      <td>5</td>\n",
       "      <td>1</td>\n",
       "      <td>1</td>\n",
       "      <td>...</td>\n",
       "      <td>2019</td>\n",
       "      <td>01:30</td>\n",
       "      <td>4</td>\n",
       "      <td>93</td>\n",
       "      <td>1</td>\n",
       "      <td>1</td>\n",
       "      <td>93053</td>\n",
       "      <td>2</td>\n",
       "      <td>48,8962100</td>\n",
       "      <td>2,4701200</td>\n",
       "    </tr>\n",
       "    <tr>\n",
       "      <th>2</th>\n",
       "      <td>201900000001</td>\n",
       "      <td>138 306 525</td>\n",
       "      <td>1</td>\n",
       "      <td>1</td>\n",
       "      <td>1</td>\n",
       "      <td>1</td>\n",
       "      <td>1959</td>\n",
       "      <td>0</td>\n",
       "      <td>1</td>\n",
       "      <td>1</td>\n",
       "      <td>...</td>\n",
       "      <td>2019</td>\n",
       "      <td>01:30</td>\n",
       "      <td>4</td>\n",
       "      <td>93</td>\n",
       "      <td>1</td>\n",
       "      <td>1</td>\n",
       "      <td>93053</td>\n",
       "      <td>2</td>\n",
       "      <td>48,8962100</td>\n",
       "      <td>2,4701200</td>\n",
       "    </tr>\n",
       "    <tr>\n",
       "      <th>3</th>\n",
       "      <td>201900000002</td>\n",
       "      <td>138 306 523</td>\n",
       "      <td>1</td>\n",
       "      <td>1</td>\n",
       "      <td>2</td>\n",
       "      <td>4</td>\n",
       "      <td>1994</td>\n",
       "      <td>0</td>\n",
       "      <td>1</td>\n",
       "      <td>1</td>\n",
       "      <td>...</td>\n",
       "      <td>2019</td>\n",
       "      <td>02:50</td>\n",
       "      <td>3</td>\n",
       "      <td>93</td>\n",
       "      <td>1</td>\n",
       "      <td>1</td>\n",
       "      <td>93066</td>\n",
       "      <td>6</td>\n",
       "      <td>48,9307000</td>\n",
       "      <td>2,3688000</td>\n",
       "    </tr>\n",
       "    <tr>\n",
       "      <th>4</th>\n",
       "      <td>201900000003</td>\n",
       "      <td>138 306 520</td>\n",
       "      <td>1</td>\n",
       "      <td>1</td>\n",
       "      <td>1</td>\n",
       "      <td>1</td>\n",
       "      <td>1996</td>\n",
       "      <td>0</td>\n",
       "      <td>1</td>\n",
       "      <td>1</td>\n",
       "      <td>...</td>\n",
       "      <td>2019</td>\n",
       "      <td>15:15</td>\n",
       "      <td>1</td>\n",
       "      <td>92</td>\n",
       "      <td>1</td>\n",
       "      <td>1</td>\n",
       "      <td>92036</td>\n",
       "      <td>4</td>\n",
       "      <td>48,9358718</td>\n",
       "      <td>2,3191744</td>\n",
       "    </tr>\n",
       "  </tbody>\n",
       "</table>\n",
       "<p>5 rows × 26 columns</p>\n",
       "</div>"
      ],
      "text/plain": [
       "        Num_Acc  id_vehicule  place  catu  sexe  grav  an_nais  trajet  secu1  \\\n",
       "0  201900000001  138 306 524      2     2     2     4     2002       0      1   \n",
       "1  201900000001  138 306 524      1     1     2     4     1993       5      1   \n",
       "2  201900000001  138 306 525      1     1     1     1     1959       0      1   \n",
       "3  201900000002  138 306 523      1     1     2     4     1994       0      1   \n",
       "4  201900000003  138 306 520      1     1     1     1     1996       0      1   \n",
       "\n",
       "   catr  ...    an   hrmn  lum  dep  agg  atm    com col         lat  \\\n",
       "0     1  ...  2019  01:30    4   93    1    1  93053   2  48,8962100   \n",
       "1     1  ...  2019  01:30    4   93    1    1  93053   2  48,8962100   \n",
       "2     1  ...  2019  01:30    4   93    1    1  93053   2  48,8962100   \n",
       "3     1  ...  2019  02:50    3   93    1    1  93066   6  48,9307000   \n",
       "4     1  ...  2019  15:15    1   92    1    1  92036   4  48,9358718   \n",
       "\n",
       "        long  \n",
       "0  2,4701200  \n",
       "1  2,4701200  \n",
       "2  2,4701200  \n",
       "3  2,3688000  \n",
       "4  2,3191744  \n",
       "\n",
       "[5 rows x 26 columns]"
      ]
     },
     "execution_count": 6,
     "metadata": {},
     "output_type": "execute_result"
    }
   ],
   "source": [
    "df.head(5)"
   ]
  },
  {
   "cell_type": "code",
   "execution_count": 9,
   "metadata": {},
   "outputs": [
    {
     "data": {
      "text/plain": [
       "Num_Acc         int64\n",
       "id_vehicule    object\n",
       "place           int64\n",
       "catu            int64\n",
       "sexe           object\n",
       "grav           object\n",
       "an_nais         int64\n",
       "trajet          int64\n",
       "secu1           int64\n",
       "catr            int64\n",
       "circ            int64\n",
       "nbv             int64\n",
       "surf            int64\n",
       "infra           int64\n",
       "situ            int64\n",
       "vma             int64\n",
       "an              int64\n",
       "hrmn           object\n",
       "lum             int64\n",
       "dep            object\n",
       "agg            object\n",
       "atm             int64\n",
       "com            object\n",
       "col             int64\n",
       "lat            object\n",
       "long           object\n",
       "dtype: object"
      ]
     },
     "execution_count": 9,
     "metadata": {},
     "output_type": "execute_result"
    }
   ],
   "source": [
    "df.dtypes"
   ]
  },
  {
   "cell_type": "code",
   "execution_count": 6,
   "metadata": {},
   "outputs": [
    {
     "name": "stdout",
     "output_type": "stream",
     "text": [
      "             Num_Acc  id_vehicule          place           catu  \\\n",
      "count   1.329770e+05       132977  132977.000000  132977.000000   \n",
      "unique           NaN        98670            NaN            NaN   \n",
      "top              NaN  138 212 691            NaN            NaN   \n",
      "freq             NaN           33            NaN            NaN   \n",
      "mean    2.019000e+11          NaN       2.184754       1.352587   \n",
      "std     1.699444e+04          NaN       2.695724       0.630635   \n",
      "min     2.019000e+11          NaN       1.000000       1.000000   \n",
      "25%     2.019000e+11          NaN       1.000000       1.000000   \n",
      "50%     2.019000e+11          NaN       1.000000       1.000000   \n",
      "75%     2.019000e+11          NaN       2.000000       2.000000   \n",
      "max     2.019001e+11          NaN      10.000000       3.000000   \n",
      "\n",
      "                 sexe           grav        an_nais         trajet  \\\n",
      "count   132977.000000  132977.000000  132977.000000  132977.000000   \n",
      "unique            NaN            NaN            NaN            NaN   \n",
      "top               NaN            NaN            NaN            NaN   \n",
      "freq              NaN            NaN            NaN            NaN   \n",
      "mean         1.320304       2.542635    1980.079600       3.224279   \n",
      "std          0.466595       1.371815      19.164625       2.667380   \n",
      "min          1.000000       1.000000    1900.000000      -1.000000   \n",
      "25%          1.000000       1.000000    1967.000000       0.000000   \n",
      "50%          1.000000       3.000000    1983.000000       4.000000   \n",
      "75%          2.000000       4.000000    1995.000000       5.000000   \n",
      "max          2.000000       4.000000    2019.000000       9.000000   \n",
      "\n",
      "                secu1           catr  ...        an    hrmn            lum  \\\n",
      "count   132977.000000  132977.000000  ...  132977.0  132977  132977.000000   \n",
      "unique            NaN            NaN  ...       NaN    1386            NaN   \n",
      "top               NaN            NaN  ...       NaN   18:00            NaN   \n",
      "freq              NaN            NaN  ...       NaN    1870            NaN   \n",
      "mean         2.179790       3.270197  ...    2019.0     NaN       1.932710   \n",
      "std          2.474627       1.282717  ...       0.0     NaN       1.495194   \n",
      "min         -1.000000       1.000000  ...    2019.0     NaN       1.000000   \n",
      "25%          1.000000       3.000000  ...    2019.0     NaN       1.000000   \n",
      "50%          1.000000       3.000000  ...    2019.0     NaN       1.000000   \n",
      "75%          2.000000       4.000000  ...    2019.0     NaN       3.000000   \n",
      "max          9.000000       9.000000  ...    2019.0     NaN       5.000000   \n",
      "\n",
      "           dep            agg            atm     com            col  \\\n",
      "count   132977  132977.000000  132977.000000  132977  132977.000000   \n",
      "unique     107            NaN            NaN   11444            NaN   \n",
      "top         75            NaN            NaN   75116            NaN   \n",
      "freq     11895            NaN            NaN    1418            NaN   \n",
      "mean       NaN       1.622596       1.614279     NaN       3.890071   \n",
      "std        NaN       0.484739       1.672985     NaN       1.862988   \n",
      "min        NaN       1.000000      -1.000000     NaN      -1.000000   \n",
      "25%        NaN       1.000000       1.000000     NaN       3.000000   \n",
      "50%        NaN       2.000000       1.000000     NaN       3.000000   \n",
      "75%        NaN       2.000000       1.000000     NaN       6.000000   \n",
      "max        NaN       2.000000       9.000000     NaN       7.000000   \n",
      "\n",
      "               lat       long  \n",
      "count       132977     132977  \n",
      "unique       55671      56211  \n",
      "top     48,8100000  5,9533100  \n",
      "freq            48         47  \n",
      "mean           NaN        NaN  \n",
      "std            NaN        NaN  \n",
      "min            NaN        NaN  \n",
      "25%            NaN        NaN  \n",
      "50%            NaN        NaN  \n",
      "75%            NaN        NaN  \n",
      "max            NaN        NaN  \n",
      "\n",
      "[11 rows x 26 columns]\n"
     ]
    }
   ],
   "source": [
    "print(df.describe(include='all'))"
   ]
  },
  {
   "cell_type": "markdown",
   "metadata": {},
   "source": [
    "### Etude des valeurs manquantes :"
   ]
  },
  {
   "cell_type": "code",
   "execution_count": 10,
   "metadata": {},
   "outputs": [
    {
     "name": "stdout",
     "output_type": "stream",
     "text": [
      "0\n"
     ]
    }
   ],
   "source": [
    "print(df['lum'].isnull().sum())"
   ]
  },
  {
   "cell_type": "code",
   "execution_count": 65,
   "metadata": {},
   "outputs": [
    {
     "name": "stdout",
     "output_type": "stream",
     "text": [
      "Valeurs manquantes par colonne:\n",
      "    Num_Acc  id_vehicule  place   catu   sexe   grav  an_nais  trajet  secu1  \\\n",
      " 3    32851        32851  32851  32851  32851  32851    32851   32851  32851   \n",
      " 6    23878        23878  23878  23878  23878  23878    23878   23878  23878   \n",
      " 2    14492        14492  14492  14492  14492  14492    14492   14492  14492   \n",
      " 1    11125        11125  11125  11125  11125  11125    11125   11125  11125   \n",
      " 4     6815         6815   6815   6815   6815   6815     6815    6815   6815   \n",
      " 7     6781         6781   6781   6781   6781   6781     6781    6781   6781   \n",
      " 5     5650         5650   5650   5650   5650   5650     5650    5650   5650   \n",
      "-1     3703         3703   3703   3703   3703   3703     3703    3703   3703   \n",
      "\n",
      "     catr  ...     an   hrmn    lum    dep    agg    atm    com    col    lat  \\\n",
      " 3  32851  ...  32851  32851  32851  32851  32851  32851  32851  32851  32851   \n",
      " 6  23878  ...  23878  23878  23878  23878  23878  23878  23878  23878  23878   \n",
      " 2  14492  ...  14492  14492  14492  14492  14492  14492  14492  14492  14492   \n",
      " 1  11125  ...  11125  11125  11125  11125  11125  11125  11125  11125  11125   \n",
      " 4   6815  ...   6815   6815   6815   6815   6815   6815   6815   6815   6815   \n",
      " 7   6781  ...   6781   6781   6781   6781   6781   6781   6781   6781   6781   \n",
      " 5   5650  ...   5650   5650   5650   5650   5650   5650   5650   5650   5650   \n",
      "-1   3703  ...   3703   3703   3703   3703   3703   3703   3703   3703   3703   \n",
      "\n",
      "     long  \n",
      " 3  32851  \n",
      " 6  23878  \n",
      " 2  14492  \n",
      " 1  11125  \n",
      " 4   6815  \n",
      " 7   6781  \n",
      " 5   5650  \n",
      "-1   3703  \n",
      "\n",
      "[8 rows x 26 columns]\n"
     ]
    }
   ],
   "source": [
    "def num_missing(col):\n",
    "    return df.col.value_counts()\n",
    "# On applique cette fonction pour chaque colonne:\n",
    "print(\"Valeurs manquantes par colonne:\")\n",
    "print(df.apply(num_missing, axis=0))"
   ]
  },
  {
   "cell_type": "markdown",
   "metadata": {},
   "source": [
    "Ce jeu de données est complet. Les valeurs non renseignées sont indiquées par \"-1\" dans la plupart des cas.\n",
    "On peut remarquer qu'il y a 3704 valeurs manquantes. Nous les supprimerons dans la suite du travail"
   ]
  },
  {
   "cell_type": "markdown",
   "metadata": {},
   "source": [
    "### Statistiques univariées"
   ]
  },
  {
   "cell_type": "code",
   "execution_count": 40,
   "metadata": {},
   "outputs": [
    {
     "data": {
      "text/plain": [
       "1     78168\n",
       "2     12006\n",
       "10     8243\n",
       "3      1980\n",
       "4      1787\n",
       "9      1038\n",
       "7       968\n",
       "5       523\n",
       "8       446\n",
       "6       136\n",
       "Name: place, dtype: int64"
      ]
     },
     "execution_count": 40,
     "metadata": {},
     "output_type": "execute_result"
    }
   ],
   "source": [
    "df.place.value_counts()"
   ]
  },
  {
   "cell_type": "code",
   "execution_count": 12,
   "metadata": {},
   "outputs": [
    {
     "data": {
      "text/plain": [
       "Conducteur    97356\n",
       "Passager      24356\n",
       "Pieton        11265\n",
       "Name: catu, dtype: int64"
      ]
     },
     "execution_count": 12,
     "metadata": {},
     "output_type": "execute_result"
    }
   ],
   "source": [
    "df.catu.value_counts()"
   ]
  },
  {
   "cell_type": "code",
   "execution_count": 10,
   "metadata": {},
   "outputs": [
    {
     "data": {
      "text/plain": [
       " 1    105340\n",
       " 2     14749\n",
       " 8      4944\n",
       " 3      3244\n",
       " 7      2336\n",
       " 5       723\n",
       " 9       656\n",
       " 4       617\n",
       " 6       367\n",
       "-1         1\n",
       "Name: atm, dtype: int64"
      ]
     },
     "execution_count": 10,
     "metadata": {},
     "output_type": "execute_result"
    }
   ],
   "source": [
    "df.atm.value_counts()"
   ]
  },
  {
   "cell_type": "code",
   "execution_count": 14,
   "metadata": {},
   "outputs": [
    {
     "data": {
      "text/plain": [
       "<matplotlib.axes._subplots.AxesSubplot at 0x1a25ce4410>"
      ]
     },
     "execution_count": 14,
     "metadata": {},
     "output_type": "execute_result"
    },
    {
     "data": {
      "image/png": "[encoded data removed]",
      "text/plain": [
       "<Figure size 432x288 with 1 Axes>"
      ]
     },
     "metadata": {},
     "output_type": "display_data"
    }
   ],
   "source": [
    "df[\"sexe\"].value_counts().plot(kind = 'pie')"
   ]
  },
  {
   "cell_type": "code",
   "execution_count": 15,
   "metadata": {},
   "outputs": [
    {
     "data": {
      "text/plain": [
       "<matplotlib.axes._subplots.AxesSubplot at 0x1a2794a1d0>"
      ]
     },
     "execution_count": 15,
     "metadata": {},
     "output_type": "execute_result"
    },
    {
     "data": {
      "image/png": "[encoded data removed]",
      "text/plain": [
       "<Figure size 432x288 with 1 Axes>"
      ]
     },
     "metadata": {},
     "output_type": "display_data"
    }
   ],
   "source": [
    "df[\"grav\"].value_counts().plot(kind = 'pie')"
   ]
  },
  {
   "cell_type": "code",
   "execution_count": 11,
   "metadata": {},
   "outputs": [
    {
     "data": {
      "text/plain": [
       "<matplotlib.axes._subplots.AxesSubplot at 0x117527150>"
      ]
     },
     "execution_count": 11,
     "metadata": {},
     "output_type": "execute_result"
    },
    {
     "data": {
      "image/png": "[encoded data removed]",
      "text/plain": [
       "<Figure size 432x288 with 1 Axes>"
      ]
     },
     "metadata": {},
     "output_type": "display_data"
    }
   ],
   "source": [
    "df_usager[\"secu1\"].value_counts().plot(kind = 'pie')"
   ]
  },
  {
   "cell_type": "code",
   "execution_count": 16,
   "metadata": {},
   "outputs": [
    {
     "data": {
      "text/plain": [
       "sexe   grav              \n",
       "Femme  Blesse leger          19983\n",
       "       Indemne               15638\n",
       "       Blesse hospitalise     6196\n",
       "       Tué                     776\n",
       "Homme  Indemne               39676\n",
       "       Blesse leger          33324\n",
       "       Blesse hospitalise    14662\n",
       "       Tué                    2722\n",
       "Name: grav, dtype: int64"
      ]
     },
     "execution_count": 16,
     "metadata": {},
     "output_type": "execute_result"
    }
   ],
   "source": [
    "df.groupby(\"sexe\").grav.value_counts()"
   ]
  },
  {
   "cell_type": "code",
   "execution_count": 25,
   "metadata": {},
   "outputs": [
    {
     "name": "stdout",
     "output_type": "stream",
     "text": [
      "AxesSubplot(0.125,0.125;0.775x0.755)\n"
     ]
    },
    {
     "data": {
      "image/png": "[encoded data removed]",
      "text/plain": [
       "<Figure size 432x288 with 1 Axes>"
      ]
     },
     "metadata": {
      "needs_background": "light"
     },
     "output_type": "display_data"
    }
   ],
   "source": [
    "print(df[df.sexe == 'Homme'].grav.value_counts().plot(kind = 'bar'))"
   ]
  },
  {
   "cell_type": "code",
   "execution_count": 27,
   "metadata": {},
   "outputs": [
    {
     "data": {
      "text/plain": [
       "<matplotlib.axes._subplots.AxesSubplot at 0x1a26319550>"
      ]
     },
     "execution_count": 27,
     "metadata": {},
     "output_type": "execute_result"
    },
    {
     "data": {
      "image/png": "[encoded data removed]",
      "text/plain": [
       "<Figure size 432x288 with 1 Axes>"
      ]
     },
     "metadata": {
      "needs_background": "light"
     },
     "output_type": "display_data"
    }
   ],
   "source": [
    "print(df[df.sexe == 'Femme'].grav.value_counts().plot(kind = 'bar'))"
   ]
  },
  {
   "cell_type": "code",
   "execution_count": 46,
   "metadata": {},
   "outputs": [
    {
     "data": {
      "text/plain": [
       "<seaborn.axisgrid.FacetGrid at 0x1a26494f10>"
      ]
     },
     "execution_count": 46,
     "metadata": {},
     "output_type": "execute_result"
    },
    {
     "data": {
      "image/png": "[encoded data removed]",
      "text/plain": [
       "<Figure size 360x360 with 2 Axes>"
      ]
     },
     "metadata": {
      "needs_background": "light"
     },
     "output_type": "display_data"
    }
   ],
   "source": [
    "sns.catplot(x=\"grav\",\n",
    "            col='sexe',\n",
    "            kind=\"count\", data=df,\n",
    "            aspect=0.5)"
   ]
  },
  {
   "cell_type": "code",
   "execution_count": 40,
   "metadata": {},
   "outputs": [
    {
     "data": {
      "text/html": [
       "<div>\n",
       "<style scoped>\n",
       "    .dataframe tbody tr th:only-of-type {\n",
       "        vertical-align: middle;\n",
       "    }\n",
       "\n",
       "    .dataframe tbody tr th {\n",
       "        vertical-align: top;\n",
       "    }\n",
       "\n",
       "    .dataframe thead th {\n",
       "        text-align: right;\n",
       "    }\n",
       "</style>\n",
       "<table border=\"1\" class=\"dataframe\">\n",
       "  <thead>\n",
       "    <tr style=\"text-align: right;\">\n",
       "      <th>grav</th>\n",
       "      <th>Blesse hospitalise</th>\n",
       "      <th>Blesse leger</th>\n",
       "      <th>Indemne</th>\n",
       "      <th>Tué</th>\n",
       "    </tr>\n",
       "    <tr>\n",
       "      <th>catu</th>\n",
       "      <th></th>\n",
       "      <th></th>\n",
       "      <th></th>\n",
       "      <th></th>\n",
       "    </tr>\n",
       "  </thead>\n",
       "  <tbody>\n",
       "    <tr>\n",
       "      <th>Conducteur</th>\n",
       "      <td>14063</td>\n",
       "      <td>34628</td>\n",
       "      <td>46216</td>\n",
       "      <td>2449</td>\n",
       "    </tr>\n",
       "    <tr>\n",
       "      <th>Passager</th>\n",
       "      <td>3561</td>\n",
       "      <td>11506</td>\n",
       "      <td>8775</td>\n",
       "      <td>514</td>\n",
       "    </tr>\n",
       "    <tr>\n",
       "      <th>Pieton</th>\n",
       "      <td>3234</td>\n",
       "      <td>7173</td>\n",
       "      <td>323</td>\n",
       "      <td>535</td>\n",
       "    </tr>\n",
       "  </tbody>\n",
       "</table>\n",
       "</div>"
      ],
      "text/plain": [
       "grav        Blesse hospitalise  Blesse leger  Indemne   Tué\n",
       "catu                                                       \n",
       "Conducteur               14063         34628    46216  2449\n",
       "Passager                  3561         11506     8775   514\n",
       "Pieton                    3234          7173      323   535"
      ]
     },
     "execution_count": 40,
     "metadata": {},
     "output_type": "execute_result"
    }
   ],
   "source": [
    "pd.crosstab(df.catu, df.grav)"
   ]
  },
  {
   "cell_type": "code",
   "execution_count": 44,
   "metadata": {},
   "outputs": [
    {
     "data": {
      "text/plain": [
       "<matplotlib.axes._subplots.AxesSubplot at 0x1a2a6d3150>"
      ]
     },
     "execution_count": 44,
     "metadata": {},
     "output_type": "execute_result"
    },
    {
     "data": {
      "image/png": "[encoded data removed]",
      "text/plain": [
       "<Figure size 432x288 with 1 Axes>"
      ]
     },
     "metadata": {
      "needs_background": "light"
     },
     "output_type": "display_data"
    }
   ],
   "source": [
    "pd.crosstab(df.catu, df.grav).plot.bar()"
   ]
  },
  {
   "cell_type": "code",
   "execution_count": 38,
   "metadata": {},
   "outputs": [
    {
     "data": {
      "text/plain": [
       "LogisticRegression(C=1.0, class_weight=None, dual=False, fit_intercept=True,\n",
       "                   intercept_scaling=1, l1_ratio=None, max_iter=100,\n",
       "                   multi_class='auto', n_jobs=None, penalty='none',\n",
       "                   random_state=None, solver='newton-cg', tol=0.0001, verbose=0,\n",
       "                   warm_start=False)"
      ]
     },
     "execution_count": 38,
     "metadata": {},
     "output_type": "execute_result"
    }
   ],
   "source": [
    "y = df[\"sexe\"].astype('category').cat.codes\n",
    "x = df[[\"grav\", \"catu\", \"secu1\"]]\n",
    "modele_logit = LogisticRegression(penalty='none',solver='newton-cg')\n",
    "modele_logit.fit(x,y)"
   ]
  },
  {
   "cell_type": "code",
   "execution_count": 39,
   "metadata": {},
   "outputs": [
    {
     "data": {
      "text/html": [
       "<div>\n",
       "<style scoped>\n",
       "    .dataframe tbody tr th:only-of-type {\n",
       "        vertical-align: middle;\n",
       "    }\n",
       "\n",
       "    .dataframe tbody tr th {\n",
       "        vertical-align: top;\n",
       "    }\n",
       "\n",
       "    .dataframe thead th {\n",
       "        text-align: right;\n",
       "    }\n",
       "</style>\n",
       "<table border=\"1\" class=\"dataframe\">\n",
       "  <thead>\n",
       "    <tr style=\"text-align: right;\">\n",
       "      <th></th>\n",
       "      <th>coef</th>\n",
       "    </tr>\n",
       "  </thead>\n",
       "  <tbody>\n",
       "    <tr>\n",
       "      <th>constante</th>\n",
       "      <td>-1.821231</td>\n",
       "    </tr>\n",
       "    <tr>\n",
       "      <th>grav</th>\n",
       "      <td>0.077058</td>\n",
       "    </tr>\n",
       "    <tr>\n",
       "      <th>catu</th>\n",
       "      <td>0.730491</td>\n",
       "    </tr>\n",
       "    <tr>\n",
       "      <th>secu1</th>\n",
       "      <td>-0.067400</td>\n",
       "    </tr>\n",
       "  </tbody>\n",
       "</table>\n",
       "</div>"
      ],
      "text/plain": [
       "               coef\n",
       "constante -1.821231\n",
       "grav       0.077058\n",
       "catu       0.730491\n",
       "secu1     -0.067400"
      ]
     },
     "execution_count": 39,
     "metadata": {},
     "output_type": "execute_result"
    }
   ],
   "source": [
    "pd.DataFrame(np.concatenate([modele_logit.intercept_.reshape(-1,1),\n",
    "                             modele_logit.coef_],axis=1),\n",
    "             index = [\"coef\"],\n",
    "             columns = [\"constante\"]+list(x.columns)).T"
   ]
  },
  {
   "cell_type": "code",
   "execution_count": 37,
   "metadata": {},
   "outputs": [
    {
     "data": {
      "text/plain": [
       "array([[ 0.11320014, -0.65869281, -0.08296658],\n",
       "       [-0.42680994,  0.24908238,  0.01211283],\n",
       "       [-0.02923336,  0.23763962,  0.02708436],\n",
       "       [ 0.34284316,  0.17197081,  0.04376939]])"
      ]
     },
     "execution_count": 37,
     "metadata": {},
     "output_type": "execute_result"
    }
   ],
   "source": [
    "modele_logit.coef_"
   ]
  },
  {
   "cell_type": "markdown",
   "metadata": {},
   "source": [
    "### Arbre de décision"
   ]
  },
  {
   "cell_type": "code",
   "execution_count": 19,
   "metadata": {},
   "outputs": [],
   "source": [
    "X = df[[\"sexe\", \"catu\", \"place\", \"trajet\", \"atm\"]]\n",
    "y = df.grav"
   ]
  },
  {
   "cell_type": "code",
   "execution_count": 35,
   "metadata": {},
   "outputs": [],
   "source": [
    "clf = tree.DecisionTreeClassifier(max_depth = 2)\n",
    "clf = clf.fit(X, y)"
   ]
  },
  {
   "cell_type": "code",
   "execution_count": 37,
   "metadata": {},
   "outputs": [
    {
     "data": {
      "image/png": "[encoded data removed]",
      "text/plain": [
       "<Figure size 432x288 with 1 Axes>"
      ]
     },
     "metadata": {
      "needs_background": "light"
     },
     "output_type": "display_data"
    }
   ],
   "source": [
    "tree.plot_tree(clf)\n",
    "essai = tree.export_graphviz(clf, out_file=\"essai.pdf\") \n",
    "#graph = graphviz.Source(essai)\n",
    "#graph"
   ]
  },
  {
   "cell_type": "code",
   "execution_count": null,
   "metadata": {},
   "outputs": [],
   "source": []
  }
 ],
 "metadata": {
  "kernelspec": {
   "display_name": "Python 3 (ipykernel)",
   "language": "python",
   "name": "python3"
  },
  "language_info": {
   "codemirror_mode": {
    "name": "ipython",
    "version": 3
   },
   "file_extension": ".py",
   "mimetype": "text/x-python",
   "name": "python",
   "nbconvert_exporter": "python",
   "pygments_lexer": "ipython3",
   "version": "3.9.7"
  }
 },
 "nbformat": 4,
 "nbformat_minor": 4
}
