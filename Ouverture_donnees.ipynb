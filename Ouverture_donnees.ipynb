{
 "cells": [
  {
   "cell_type": "markdown",
   "metadata": {},
   "source": [
    "# <center >Accidents corporels de la route\n",
    "### Ouverture de la base de données"
   ]
  },
  {
   "cell_type": "markdown",
   "metadata": {},
   "source": [
    "Faire les importations nécessaires :"
   ]
  },
  {
   "cell_type": "code",
   "execution_count": 4,
   "metadata": {},
   "outputs": [],
   "source": [
    "#pip install graphviz"
   ]
  },
  {
   "cell_type": "code",
   "execution_count": 5,
   "metadata": {},
   "outputs": [],
   "source": [
    "import pandas as pd\n",
    "import numpy as np\n",
    "import matplotlib as plt\n",
    "import graphviz\n",
    "import seaborn as sns"
   ]
  },
  {
   "cell_type": "markdown",
   "metadata": {},
   "source": [
    "Importer les 4 fichiers :"
   ]
  },
  {
   "cell_type": "code",
   "execution_count": 6,
   "metadata": {},
   "outputs": [],
   "source": [
    "df_carac = pd.read_csv(\"https://www.data.gouv.fr/fr/datasets/r/e22ba475-45a3-46ac-a0f7-9ca9ed1e283a\", sep = \";\")\n",
    "df_lieux = pd.read_csv(\"https://www.data.gouv.fr/fr/datasets/r/2ad65965-36a1-4452-9c08-61a6c874e3e6\", sep = \";\")\n",
    "df_usagers = pd.read_csv(\"https://www.data.gouv.fr/fr/datasets/r/36b1b7b3-84b4-4901-9163-59ae8a9e3028\", sep = \";\")\n",
    "df_vehicules = pd.read_csv(\"https://www.data.gouv.fr/fr/datasets/r/780cd335-5048-4bd6-a841-105b44eb2667\", sep = \";\")"
   ]
  },
  {
   "cell_type": "markdown",
   "metadata": {},
   "source": [
    "Une première sélection a été réalisée. Nous avons éliminé les variables qui ne semblaient avoir aucun lien avec la gravité de l'accident."
   ]
  },
  {
   "cell_type": "code",
   "execution_count": 7,
   "metadata": {},
   "outputs": [],
   "source": [
    "df_carac = df_carac[[\"Num_Acc\", \"jour\", \"mois\", \"an\", \"hrmn\", \"lum\", \"dep\", \"com\", \"agg\", \"int\", \"atm\", \"col\", \"lat\", \"long\"]]\n",
    "df_lieux = df_lieux[[\"Num_Acc\", \"catr\", \"circ\", \"nbv\", \"surf\", \"prof\", \"plan\", \"infra\", \"situ\", \"vma\"]] \n",
    "df_usagers = df_usagers[[\"Num_Acc\", \"id_vehicule\", \"place\", \"catu\", \"sexe\", \"grav\", \"an_nais\", \"trajet\", \"secu1\"]]\n",
    "df_vehicules = df_vehicules[[\"Num_Acc\", \"id_vehicule\", \"catv\", \"obs\", \"obsm\", \"choc\", \"occutc\"]]"
   ]
  },
  {
   "cell_type": "markdown",
   "metadata": {},
   "source": [
    "Fusionner les 4 bases de données :"
   ]
  },
  {
   "cell_type": "code",
   "execution_count": 44,
   "metadata": {},
   "outputs": [],
   "source": [
    "df = df_carac.merge(df_lieux, how='left', on=['Num_Acc'])\n",
    "df = df.merge(df_vehicules, how='inner', on=['Num_Acc'])\n",
    "df = df.merge(df_usagers, how='inner', on=['Num_Acc', 'id_vehicule'])"
   ]
  },
  {
   "cell_type": "markdown",
   "metadata": {},
   "source": [
    "Au total, en 2019, il y eu 58 840 accidents corporels de route qui ont concernés au total 100 710 véhicules et 132 977 personnes. \\\n",
    "Ainsi, dans notre table globale, nous avons 132 977 observations et 36 variables."
   ]
  },
  {
   "cell_type": "markdown",
   "metadata": {},
   "source": [
    "A l'aide du descriptif des modalités, nous remplaçons les modalités par leur nom complet pour une meilleure compréhension."
   ]
  },
  {
   "cell_type": "code",
   "execution_count": 45,
   "metadata": {},
   "outputs": [],
   "source": [
    "# Variables de la base Caracteristiques\n",
    "df[\"lum\"]= df['lum'].map({1:'Plein jour',\n",
    "                        2:'Crépuscule ou aube',\n",
    "                        3: \"Nuit sans éclairage public\",\n",
    "                        4: \"Nuit avec éclairage public non allumé\",\n",
    "                        5: \"Nuit avec éclairage public allumé\"})\n",
    "df['agglo'] = df['agg'].map({1:'Hors agglomeration',\n",
    "                             2:'Agglomeration'})\n",
    "del df['agg']\n",
    "\n",
    "\n",
    "df['int']=df['int'].map({1:'Hors intersection',\n",
    "                        2:'Intersection en X',\n",
    "                        3:'Intersection en T',\n",
    "                        4:'Intersection en Y',\n",
    "                        5:'Intersection à plus de 4 branches',\n",
    "                        6:'Giratoire',\n",
    "                        7:\"Place\",\n",
    "                        8:'Passage à niveaux',\n",
    "                        9:'Autre'})\n",
    "df['atm'] = df['atm'].map({1:'Normale',\n",
    "                         2:'Pluie legere',\n",
    "                         3:'Pluie forte',\n",
    "                         4:'Neige',\n",
    "                         5:'Brouillard',\n",
    "                         6:'Vent fort',\n",
    "                         7:'Eblouissant',\n",
    "                         8:'Couvert',\n",
    "                         9:'Autre'})\n",
    "df['collision'] = df['col'].map({1:'2 - frontale',\n",
    "                                 2:'2-arriere',\n",
    "                                 3:'2-cote',\n",
    "                                 4:'3-chaine',\n",
    "                                 5:'3-multiple',\n",
    "                                 6:'autre',\n",
    "                                 7:'Sans collision'})\n",
    "del df['col']\n",
    "\n",
    "\n",
    "# Variables de la base Usagers\n",
    "df['catu'] = df['catu'].map({1:'Conducteur',\n",
    "                             2:'Passager',\n",
    "                             3:'Pieton'})\n",
    "df['sexe'] = df['sexe'].map({1:'Homme',\n",
    "                             2:'Femme'})\n",
    "df['grav'] = df['grav'].map({1:'Indemne',\n",
    "                             2:'Tue',\n",
    "                             3:'Blesse hospitalise',\n",
    "                             4:'Blesse leger'})\n",
    "\n",
    "\n",
    "# Variables de la base Lieux\n",
    "df['catr'] = df['catr'].map({1:'Autoroute',\n",
    "                             2:'Route nationale',\n",
    "                             3:'Route départementale',\n",
    "                             4:'Voie Communale',\n",
    "                             5:'Hors réseau public',\n",
    "                             6:'Parc de stationnement',\n",
    "                             7:'Routes de métropole urbaine',\n",
    "                             9:'Autre'})\n",
    "df[\"circ\"]=df[\"circ\"].map({1:\"A sens unique\",\n",
    "                          2:\"Bidirectionnelle\",\n",
    "                          3:'A chaussées séparées',\n",
    "                          4:\"Avec voies d'affectation variable\"})\n",
    "df[\"prof\"]=df[\"prof\"].map({1:\"Plat\",\n",
    "                          2:\"Pente\",\n",
    "                          3:'Sommet de côte',\n",
    "                          4:\"Bas de côte\"})\n",
    "df[\"plan\"]=df[\"plan\"].map({1:\"Rectiligne\",\n",
    "                          2:\"En courbe à gauche\",\n",
    "                          3:'En courbe à droite',\n",
    "                          4:\"En S\"})\n",
    "df['surf'] = df['surf'].map({1:'Normale',\n",
    "                             2:'Mouillée',\n",
    "                             3:'Flaques',\n",
    "                             4:'Inondée',\n",
    "                             5:'Enneigée',\n",
    "                             6:'Boue',\n",
    "                             7:'Verglecée',\n",
    "                             8:'Corps gras - huile',\n",
    "                             9:'Autre'})\n",
    "df['situ'] = df['situ'].map({1:'Sur chaussée',\n",
    "                             2:\"Sur bande d'arrêt d'urgence\",\n",
    "                             3:'Sur accotement',\n",
    "                             4:'Sur trottoir',\n",
    "                             5:'Sur piste cyclable',\n",
    "                             6:'Sur autre voie spéciale',\n",
    "                             8:'Autre'})\n",
    "\n",
    "# Variables de la base Véhicules\n",
    "df['catv'] = df['catv'].map({0:'Autre',\n",
    "                             1:'EDP',\n",
    "                             2:'Deux roues',\n",
    "                             3:'Voiture',\n",
    "                             4:'Deux roues',\n",
    "                             5:'Deux roues',\n",
    "                             6:'Autre',\n",
    "                             7:'Voiture',\n",
    "                             8:'Voiture',\n",
    "                             9:'Voiture',\n",
    "                             10:'Voiture',\n",
    "                             11:'Voiture',\n",
    "                             12:'Voiture',\n",
    "                             13:'Poids lourd',\n",
    "                             14:'Poids lourd',\n",
    "                             15:'Poids lourd',\n",
    "                             16:'Poids lourd',\n",
    "                             17:'Poids lourd',\n",
    "                             18:'Transport en commun',\n",
    "                             19:'Transport en commun',\n",
    "                             20:'Autre',\n",
    "                             21:'Autre',\n",
    "                             30:'Deux roues',\n",
    "                             31:'Deux roues',\n",
    "                             32:'Deux roues',\n",
    "                             33:'Deux roues',\n",
    "                             34:'Deux roues',\n",
    "                             35:'Autre',\n",
    "                             36:'Autre',\n",
    "                             37:'Transport en commun',\n",
    "                             38:'Transport en commun',\n",
    "                             39:'Transport en commun',\n",
    "                             40:'Transport en commun',\n",
    "                             41:'Deux roues',\n",
    "                             42:'Deux roues',\n",
    "                             43:'Deux roues',\n",
    "                             50:'EDP',\n",
    "                             60:'EDP',\n",
    "                             80:'EDP',\n",
    "                             99:'Autre'})\n",
    "                             \n",
    "\n",
    "\n",
    "# Création de nouvelles variables\n",
    "df['age'] = 2019 - df['an_nais']"
   ]
  },
  {
   "cell_type": "markdown",
   "metadata": {},
   "source": [
    "### Appropriation du jeu de données et structure de la base"
   ]
  },
  {
   "cell_type": "code",
   "execution_count": 50,
   "metadata": {},
   "outputs": [],
   "source": [
    "#df.columns"
   ]
  },
  {
   "cell_type": "code",
   "execution_count": 51,
   "metadata": {},
   "outputs": [],
   "source": [
    "#df.head(5)"
   ]
  },
  {
   "cell_type": "code",
   "execution_count": 27,
   "metadata": {},
   "outputs": [],
   "source": [
    "#df.dtypes"
   ]
  },
  {
   "cell_type": "code",
   "execution_count": 28,
   "metadata": {},
   "outputs": [],
   "source": [
    "#print(df.describe(include='all'))"
   ]
  },
  {
   "cell_type": "markdown",
   "metadata": {},
   "source": [
    "### Etude des valeurs manquantes :"
   ]
  },
  {
   "cell_type": "markdown",
   "metadata": {},
   "source": [
    "Dans ce jeu de données, les valeurs non renseignées sont indiquées par \"-1\". \\\n",
    "La majorité des variables ne possèdent pas de valeurs manquantes. \\\n",
    "Quelques variables possèdent moins d'1% de valeurs manquantes (ex : collision, état de la surface). \\\n",
    "Concernant la variable \"Circulation\", il y a 5.06% sont des valeurs manquantes. "
   ]
  },
  {
   "cell_type": "code",
   "execution_count": 31,
   "metadata": {},
   "outputs": [],
   "source": [
    "colonne = [\"lum\", \"agglo\", \"int\", \"collision\", \"atm\", \"catr\", \"circ\", \"surf\", \"prof\", \"plan\", \"infra\", \"situ\",\n",
    "           \"catu\", \"sexe\", \"choc\", \"grav\"]\n",
    "def effecitf_val_manquantes():\n",
    "    for elem in colonne :\n",
    "        eff = (df[elem].isna().sum()).round(2)\n",
    "        freq = ((df[elem].isna().sum())/len(df[elem])*100).round(2)\n",
    "        print(\"Pour la variable \" + elem + \" :  \" + freq.astype(str) + \" % \\n ce qui représente un effectif de :    \" + eff.astype(str))\n",
    "        print(\"\\n\")\n",
    "#effecitf_val_manquantes()"
   ]
  },
  {
   "cell_type": "markdown",
   "metadata": {},
   "source": [
    "### Etude des modalités rares :"
   ]
  },
  {
   "cell_type": "code",
   "execution_count": 37,
   "metadata": {},
   "outputs": [],
   "source": [
    "colonne = [\"lum\", \"agglo\", \"int\", \"collision\", \"atm\", \"catr\", \"circ\", \"surf\", \"prof\", \"plan\", \"infra\", \"situ\",\n",
    "           \"catu\", \"sexe\", \"choc\", \"grav\",\"catv\"]\n",
    "def effectif_pourcentage():\n",
    "    for elem in colonne :\n",
    "        print(\"Pour la variable \" + elem + \" :\")\n",
    "        print((df[elem].value_counts())/len(df[elem])*100)\n",
    "        print(\"\\n\")\n",
    "#effectif_pourcentage()"
   ]
  },
  {
   "cell_type": "markdown",
   "metadata": {},
   "source": [
    "En statistique, il n'est pas souhaitable d'avoir des modalités rares qui ont un effectif inférieur à 5%. Pour cela, nous avons regroupé les modalités entre elles en suivant deux méthodes différentes. Dans un premier temps, nous avons regroupé des modalités entre elles lorsqu'elles avaient un sens proche. Par exemple, \"Intersection en X\" et \"Intersection en Y\" correspondent à la modalité commune \"Intersection\"."
   ]
  },
  {
   "cell_type": "code",
   "execution_count": 33,
   "metadata": {},
   "outputs": [],
   "source": [
    "# La modalité \"Avec éclairage non allumé\" devient \"Sans éclairage\"\n",
    "df['lum']=df['lum'].replace([\"Nuit avec éclairage public non allumé\"], \"Nuit sans éclairage public\")\n",
    "\n",
    "# Variable intersection : on regroupe tous les types d'intersections\n",
    "df['int']=df['int'].replace([\"Intersection en X\", \"Intersection en Y\", \"Intersection en T\"], \"Intersection\")\n",
    "\n",
    "# Variable catr :\n",
    "\n",
    "\n",
    "# Variable circulation : \n",
    "df['circ']=df['circ'].replace([\"Avec voies d'affectation variable\"], \"Bidirectionnelle\")\n",
    "\n",
    "# Prof :\n",
    "df['prof'] = df['prof'].replace({\"Bas de côte\" : \"Sommet de côte\"})\n",
    "\n",
    "# Plan : \n",
    "df['plan'] = df['plan'].replace([\"En courbe à gauche\", \"En courbe à droite\", \"En S\"], \"Courbe\")\n",
    "\n",
    "#Infra :\n",
    "df['infra'] = df['infra'].replace([0, 5], [\"Aucun\", \"Carrefour aménagé\"])"
   ]
  },
  {
   "cell_type": "markdown",
   "metadata": {},
   "source": [
    "La seconde méthode est de regrouper les modalités représentant moins de 5% entre elles afin de créer une modalité \"Autre\"."
   ]
  },
  {
   "cell_type": "code",
   "execution_count": 35,
   "metadata": {},
   "outputs": [],
   "source": [
    "colonne = [\"lum\", \"agglo\", \"sexe\", \"int\", \"collision\", \"atm\", \"surf\", \"circ\"]\n",
    "def regroupement_modalites():\n",
    "    for elem in colonne :\n",
    "        frequence = df[elem].value_counts()/len(df[elem])*100\n",
    "        for i in range(len(frequence)) :\n",
    "            if frequence[i] < 5 :\n",
    "                df.loc[df[elem]==frequence.index[i], elem] = \"Autre\"   \n",
    "regroupement_modalites()\n",
    "#effectif_pourcentage()"
   ]
  },
  {
   "cell_type": "markdown",
   "metadata": {},
   "source": [
    "## Ajout de variables "
   ]
  },
  {
   "cell_type": "markdown",
   "metadata": {},
   "source": [
    "On crée une variable 'obstacle' liée à l'accident"
   ]
  },
  {
   "cell_type": "code",
   "execution_count": 21,
   "metadata": {},
   "outputs": [],
   "source": [
    "conditions_obstacle = [\n",
    "                        (df['obs']>0) & (df['obsm']>0),\n",
    "                        (df['obs']>0) & (df['obsm']<=0),\n",
    "                        (df['obs']<=0) & (df['obsm']>0),\n",
    "                        (df['obs']==0) & (df['obsm']==0)]\n",
    "\n",
    "types_obstacle = ['1 obstacle mobile et 1 obstacle fixe', '1 obstacle fixe', '1 obstacle mobile', 'Pas dobstacle']\n",
    "\n",
    "df['obstacle'] = np.select(conditions_obstacle, types_obstacle, default='NaN')"
   ]
  },
  {
   "cell_type": "markdown",
   "metadata": {},
   "source": [
    "On crée ensuite une nouvelle variable de catégorie d'âge, liée aux usagers, qu'on appelle 'age', à partir de la variable existante 'an_nais' (année de naissance)"
   ]
  },
  {
   "cell_type": "code",
   "execution_count": 21,
   "metadata": {},
   "outputs": [],
   "source": [
    "conditions_age = [\n",
    "                    (0 <= 2019 - df['an_nais']) & (2019 - df['an_nais'] <= 15),\n",
    "                    (16 <= 2019 - df['an_nais']) & (2019 - df['an_nais'] <= 30),\n",
    "                    (31 <= 2019 - df['an_nais']) & (2019 - df['an_nais'] <= 65),\n",
    "                    (66 <= 2019 - df['an_nais'])]\n",
    "\n",
    "categories_age = ['enfant', 'jeune', 'adulte', 'personne agee']\n",
    "\n",
    "df['age'] = np.select(conditions_age, categories_age, default='NaN')"
   ]
  },
  {
   "cell_type": "markdown",
   "metadata": {},
   "source": [
    "#### Variable gravite"
   ]
  },
  {
   "cell_type": "markdown",
   "metadata": {},
   "source": [
    "On ajoute une variable qui donne une note de gravité à chaque accident nommée \"gravite\". \n",
    "- gravite = 0 si tout le monde ressort indemne de l'accident \n",
    "- gravite = 1 si il y a au moins un blessé léger \n",
    "- gravite = 2 si il y a au moins un blessé hospitalisé ou au moins un mort "
   ]
  },
  {
   "cell_type": "code",
   "execution_count": 69,
   "metadata": {},
   "outputs": [],
   "source": [
    "def calcul_gravite(l_grav):\n",
    "    # prend en entrée la liste des grav d'un même accident l_grav\n",
    "    note = 0\n",
    "    if (('Tue' in l_grav) or ('Blesse hospitalise' in l_grav)):\n",
    "        #on check si on a un 'Tue' ou un 'Blesse hospitalise' (var grav) => note=2\n",
    "        note = 2\n",
    "        return (note) \n",
    "    elif ('Blesse leger' in l_grav):\n",
    "        #si non on check si on a un 'Blesse leger' => note = 1\n",
    "        note = 1\n",
    "        return (note)\n",
    "    # si non => note = 0\n",
    "    return(note)\n",
    "\n",
    "#TEST OK \n",
    "#calcul_gravite(['Indemne','Blesse hospitalise','Blesse leger','Tue'])\n",
    "#calcul_gravite(['Indemne','Blesse leger','Indemne'])\n",
    "#calcul_gravite(['Indemne','Indemne','Indemne'])\n",
    "#calcul_gravite([])"
   ]
  },
  {
   "cell_type": "code",
   "execution_count": 87,
   "metadata": {},
   "outputs": [],
   "source": [
    "#on veut récupérer toutes les données de gravité pour chaque personne d'un meme accident (var Num_Acc)\n",
    "#on crée une variable gravite remplie de zero dans df \n",
    "df = df.assign(gravite=0)\n",
    "\n",
    "#on récupère tous les Num_Acc distincts\n",
    "accidents = df['Num_Acc'].unique()\n",
    "\n",
    "for num in accidents: \n",
    "    #on boucle sur les Num_Acc pour récupérer toutes les valeurs de grav pour un meme accident \n",
    "    l_grav = list(df[df['Num_Acc'] == num]['grav'])\n",
    "    note = calcul_gravite(l_grav) #on applique pour chaque accident la fonction calcul_gravite \n",
    "    for i in df[df['Num_Acc'] == num].index:\n",
    "        #on insert la valeur dans chaque case de la nouvelle variable \n",
    "        df['gravite'][i] = note"
   ]
  },
  {
   "cell_type": "code",
   "execution_count": 36,
   "metadata": {},
   "outputs": [],
   "source": [
    "#print(df)"
   ]
  }
 ],
 "metadata": {
  "kernelspec": {
   "display_name": "Python 3",
   "language": "python",
   "name": "python3"
  },
  "language_info": {
   "codemirror_mode": {
    "name": "ipython",
    "version": 3
   },
   "file_extension": ".py",
   "mimetype": "text/x-python",
   "name": "python",
   "nbconvert_exporter": "python",
   "pygments_lexer": "ipython3",
   "version": "3.7.1"
  }
 },
 "nbformat": 4,
 "nbformat_minor": 4
}
