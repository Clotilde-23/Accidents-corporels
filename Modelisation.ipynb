{
 "cells": [
  {
   "cell_type": "markdown",
   "metadata": {},
   "source": [
    "# <center> Modélisation"
   ]
  },
  {
   "cell_type": "markdown",
   "metadata": {},
   "source": [
    "Dans cette section, nous cherchons à prédire la gravité de l'accident grâce aux variables explicatives telles que le type de la collision, le type de la route, la luminosité, etc.  \n",
    "Pour cela, notre variable cible s'appelle \"gravite\", elle vaut 1 si lors de l'accident, il y a eu au moins un blessé hospitalisé et/ou une personne tuée et elle vaut 0 sinon (les usagers sont soit indemnes, soit des blessés légers)."
   ]
  },
  {
   "cell_type": "code",
   "execution_count": 28,
   "metadata": {},
   "outputs": [],
   "source": [
    "%run \"./Ouverture_donnees.ipynb\""
   ]
  },
  {
   "cell_type": "markdown",
   "metadata": {},
   "source": [
    "Les importations nécessaires à la modélisation : "
   ]
  },
  {
   "cell_type": "code",
   "execution_count": 29,
   "metadata": {},
   "outputs": [],
   "source": [
    "import scipy.stats as ss\n",
    "import matplotlib.pyplot as plt\n",
    "import pandas as pd\n",
    "import numpy as np\n",
    "from sklearn import svm\n",
    "import sklearn.metrics\n",
    "from sklearn.model_selection import train_test_split\n",
    "from sklearn.model_selection import cross_val_score\n",
    "from sklearn import preprocessing\n",
    "from sklearn.linear_model import SGDClassifier\n",
    "from sklearn.calibration import CalibratedClassifierCV\n",
    "from sklearn.neighbors import KNeighborsClassifier\n",
    "from sklearn.cluster import KMeans\n",
    "\n",
    "from sklearn.datasets import make_classification\n",
    "from sklearn.linear_model import LogisticRegression\n",
    "from sklearn.metrics import roc_curve\n",
    "from sklearn.metrics import roc_auc_score\n",
    "\n",
    "from sklearn import tree"
   ]
  },
  {
   "cell_type": "markdown",
   "metadata": {},
   "source": [
    "## Préparation des données"
   ]
  },
  {
   "cell_type": "markdown",
   "metadata": {},
   "source": [
    "Pour une meilleure modélisation, il est essentiel d'avoir un nombre de modalités raisonnable. Ainsi, nous regroupons les modalités ensemble si elles correspondent à un pourcentage d'accidents graves proche."
   ]
  },
  {
   "cell_type": "code",
   "execution_count": 30,
   "metadata": {},
   "outputs": [],
   "source": [
    "# Mettre des modalités ensemble :\n",
    "df_accidents[\"collision\"] = df_accidents[\"collision\"].replace([\"2 - frontale\", \"2-arriere\", \"3 vehicules\", \"2-cote\"], \"2 ou 3 véhicules\")\n",
    "\n",
    "df_accidents[\"catr\"] = df_accidents[\"catr\"].replace([\"Route départementale\", \"Route nationale\", \"Autre\"], \"Route départementale ou nationale + Autre\")\n",
    "df_accidents[\"catr\"] = df_accidents[\"catr\"].replace([\"Autoroute\", \"Voie Communale\"], \"Autoroute + Voie Communale\")\n",
    "\n",
    "df_accidents[\"lum\"] = df_accidents[\"lum\"].replace([\"Crépuscule ou aube\"], \"Plein jour\")"
   ]
  },
  {
   "cell_type": "markdown",
   "metadata": {},
   "source": [
    "## Sélection de variables\n",
    "Dans un premier temps, on étudie le pouvoir prédictif des variables explicatives. Le V de Cramer mesure l'association entre la variable explicative et la variable cible \"gravité\". On a réalisé un test d'indépendance du Chi-2. Si la p-valeur est inférieur à 0.05, alors l'hypothèse nulle d'indépendance est rejetée et il existe une dépendance entre la variable explicative et la variable cible.  \n",
    "On retrouve ci-dessous les différentes valeurs de V de Cramer et de p-valeurs."
   ]
  },
  {
   "cell_type": "code",
   "execution_count": 108,
   "metadata": {},
   "outputs": [
    {
     "data": {
      "text/html": [
       "<div>\n",
       "<style scoped>\n",
       "    .dataframe tbody tr th:only-of-type {\n",
       "        vertical-align: middle;\n",
       "    }\n",
       "\n",
       "    .dataframe tbody tr th {\n",
       "        vertical-align: top;\n",
       "    }\n",
       "\n",
       "    .dataframe thead th {\n",
       "        text-align: right;\n",
       "    }\n",
       "</style>\n",
       "<table border=\"1\" class=\"dataframe\">\n",
       "  <thead>\n",
       "    <tr style=\"text-align: right;\">\n",
       "      <th></th>\n",
       "      <th>V de Cramer</th>\n",
       "      <th>p_value</th>\n",
       "    </tr>\n",
       "  </thead>\n",
       "  <tbody>\n",
       "    <tr>\n",
       "      <th>situ</th>\n",
       "      <td>0.288</td>\n",
       "      <td>0.000</td>\n",
       "    </tr>\n",
       "    <tr>\n",
       "      <th>agglo</th>\n",
       "      <td>0.209</td>\n",
       "      <td>0.001</td>\n",
       "    </tr>\n",
       "    <tr>\n",
       "      <th>catr</th>\n",
       "      <td>0.221</td>\n",
       "      <td>0.001</td>\n",
       "    </tr>\n",
       "    <tr>\n",
       "      <th>circ</th>\n",
       "      <td>0.200</td>\n",
       "      <td>0.001</td>\n",
       "    </tr>\n",
       "    <tr>\n",
       "      <th>lum</th>\n",
       "      <td>0.191</td>\n",
       "      <td>0.002</td>\n",
       "    </tr>\n",
       "    <tr>\n",
       "      <th>plan</th>\n",
       "      <td>0.151</td>\n",
       "      <td>0.032</td>\n",
       "    </tr>\n",
       "    <tr>\n",
       "      <th>collision</th>\n",
       "      <td>0.139</td>\n",
       "      <td>0.051</td>\n",
       "    </tr>\n",
       "    <tr>\n",
       "      <th>prof</th>\n",
       "      <td>0.095</td>\n",
       "      <td>0.261</td>\n",
       "    </tr>\n",
       "    <tr>\n",
       "      <th>atm</th>\n",
       "      <td>0.080</td>\n",
       "      <td>0.465</td>\n",
       "    </tr>\n",
       "    <tr>\n",
       "      <th>int</th>\n",
       "      <td>0.072</td>\n",
       "      <td>0.552</td>\n",
       "    </tr>\n",
       "    <tr>\n",
       "      <th>infra</th>\n",
       "      <td>0.072</td>\n",
       "      <td>0.562</td>\n",
       "    </tr>\n",
       "    <tr>\n",
       "      <th>surf</th>\n",
       "      <td>0.027</td>\n",
       "      <td>0.895</td>\n",
       "    </tr>\n",
       "    <tr>\n",
       "      <th>pieton</th>\n",
       "      <td>0.006</td>\n",
       "      <td>0.995</td>\n",
       "    </tr>\n",
       "  </tbody>\n",
       "</table>\n",
       "</div>"
      ],
      "text/plain": [
       "           V de Cramer  p_value\n",
       "situ             0.288    0.000\n",
       "agglo            0.209    0.001\n",
       "catr             0.221    0.001\n",
       "circ             0.200    0.001\n",
       "lum              0.191    0.002\n",
       "plan             0.151    0.032\n",
       "collision        0.139    0.051\n",
       "prof             0.095    0.261\n",
       "atm              0.080    0.465\n",
       "int              0.072    0.552\n",
       "infra            0.072    0.562\n",
       "surf             0.027    0.895\n",
       "pieton           0.006    0.995"
      ]
     },
     "execution_count": 108,
     "metadata": {},
     "output_type": "execute_result"
    }
   ],
   "source": [
    "colonne = [\"agglo\", \"lum\", \"int\", \"collision\", \"atm\", \"catr\", \"circ\", \"surf\", \"prof\", \"plan\", \"infra\", \"situ\", \"pieton\"]\n",
    "\n",
    "def cramers(df):\n",
    "    L_cramer = []\n",
    "    L_pvalue = []\n",
    "    L_var = []\n",
    "    for elem in colonne :\n",
    "        crosstab = pd.crosstab(df[elem], df.gravite, margins = True, normalize = 'index')*100\n",
    "        chi2 = ss.chi2_contingency(crosstab)[0]\n",
    "        p_value = round(ss.chi2_contingency(crosstab)[1], 3)\n",
    "        n = sum(crosstab.sum())\n",
    "        VCramer = round(np.sqrt(chi2 / (n*(min(crosstab.shape)-1))), 3)\n",
    "        L_cramer.append(VCramer)\n",
    "        L_pvalue.append(p_value)\n",
    "        L_var.append(elem)\n",
    "    tableau = np.array([L_cramer, L_pvalue])\n",
    "    pd_tableau = pd.DataFrame(tableau.T, index = L_var, columns = ['V de Cramer', 'p_value'])\n",
    "    return pd_tableau.sort_values(\"p_value\")\n",
    "\n",
    "cramers(df_accidents)"
   ]
  },
  {
   "cell_type": "markdown",
   "metadata": {},
   "source": [
    "Ainsi, les variables utilisées seront Catr (le type de route), Situ (lieu de l'accident), Agglo (si l'accident a lieu en agglomération), Circ (le sens de circulation), Lum (la lminosité) et Plan (si la route est rectiligne ou courbée)."
   ]
  },
  {
   "cell_type": "markdown",
   "metadata": {},
   "source": [
    "Créer les indicatrices nécessaires"
   ]
  },
  {
   "cell_type": "code",
   "execution_count": 32,
   "metadata": {},
   "outputs": [],
   "source": [
    "# Variable cible :\n",
    "df_accidents[\"y\"] = (df_accidents[\"gravite\"]==2).astype(int)\n",
    "\n",
    "\n",
    "# Variables explicatives :\n",
    "df_accidents[\"Route dep ou nationale\"] = pd.get_dummies(df_accidents[\"catr\"])[\"Route départementale ou nationale + Autre\"]\n",
    "\n",
    "df_accidents[\"Sur accotement\"] = pd.get_dummies(df_accidents[\"situ\"])[\"Sur accotement\"]\n",
    "df_accidents[\"Autre lieu de l'accident\"] = pd.get_dummies(df_accidents[\"situ\"])[\"Autre\"]\n",
    "\n",
    "df_accidents[\"Hors agglomeration\"] = pd.get_dummies(df_accidents[\"agglo\"])[\"Hors agglomeration\"]\n",
    "\n",
    "df_accidents[\"A chaussées séparées\"] = pd.get_dummies(df_accidents[\"circ\"])[\"A chaussées séparées\"]\n",
    "df_accidents[\"Bidirectionnelle\"] = pd.get_dummies(df_accidents[\"circ\"])[\"Bidirectionnelle\"]\n",
    "\n",
    "df_accidents[\"Nuit sans éclairage\"] = pd.get_dummies(df_accidents[\"lum\"])[\"Nuit sans éclairage public\"]\n",
    "df_accidents[\"Plein jour\"] = pd.get_dummies(df_accidents[\"lum\"])[\"Plein jour\"]\n",
    "\n",
    "df_accidents[\"Courbe\"] = pd.get_dummies(df_accidents[\"plan\"])[\"Courbe\"]"
   ]
  },
  {
   "cell_type": "markdown",
   "metadata": {},
   "source": [
    "Créer les échantillons de test et d'apprentissage"
   ]
  },
  {
   "cell_type": "code",
   "execution_count": 33,
   "metadata": {},
   "outputs": [],
   "source": [
    "# Les variables explicatives sous forme d'indicatrices\n",
    "col = [\"Route dep ou nationale\", \"Sur accotement\", \"Autre lieu de l'accident\", \"Hors agglomeration\",\n",
    "       \"A chaussées séparées\", \"Bidirectionnelle\", \"Nuit sans éclairage\", \"Plein jour\",\n",
    "       \"Courbe\"]\n",
    "\n",
    "# Créer de la base de donner avec uniquement les variables explicatives\n",
    "df_temp = df_accidents[col]\n",
    "\n",
    "# Création des échantillons de test et d'apprentissage\n",
    "xTrain, xTest, yTrain, yTest = train_test_split(df_temp, df_accidents[\"y\"].values.ravel(), test_size = 0.2, random_state = 0)"
   ]
  },
  {
   "cell_type": "markdown",
   "metadata": {},
   "source": [
    "## Modélisation et performance du modèle"
   ]
  },
  {
   "cell_type": "markdown",
   "metadata": {},
   "source": [
    "Nous allons étudier différents types de modèles :\n",
    "* Classification\n",
    "* Régression linéaire\n",
    "* Arbre de décision\n",
    "\n",
    "Pour cela, nous codons des fonctions pour tracer les courbes ROC et les matrices de confusion.\n",
    "\n",
    "### Fonctions utiles"
   ]
  },
  {
   "cell_type": "code",
   "execution_count": 34,
   "metadata": {},
   "outputs": [],
   "source": [
    "def courbe_roc(modele, prob_pred, y) :\n",
    "    prob_sans_modele = [0 for _ in range(len(y))]\n",
    "    \n",
    "    # calculate scores\n",
    "    auc_sans_modele = roc_auc_score(yTest, prob_sans_modele)\n",
    "    auc = roc_auc_score(yTest, prob_pred)\n",
    "    # summarize scores\n",
    "    print('Modèle aléatoire : ROC AUC=%.3f' % (auc_sans_modele))\n",
    "    print('Modèle : ROC AUC=%.3f' % (auc))\n",
    "    # calculate roc curves\n",
    "    fpr_sans_modele, tpr_sans_modele, _ = roc_curve(y, prob_sans_modele)\n",
    "    fpr, tpr, _ = roc_curve(yTest, prob_pred)\n",
    "    # plot the roc curve for the model\n",
    "    plt.plot(fpr_sans_modele, tpr_sans_modele, linestyle='--', label='Modèle aléatoire')\n",
    "    plt.plot(fpr, tpr, label='Modèle')\n",
    "    # axis labels\n",
    "    plt.xlabel('Taux de vrais positifs')\n",
    "    plt.ylabel('Taux de faux positifs')\n",
    "    # show the legend\n",
    "    plt.legend()\n",
    "    # show the plot\n",
    "    plt.show() "
   ]
  },
  {
   "cell_type": "code",
   "execution_count": 35,
   "metadata": {},
   "outputs": [],
   "source": [
    "def courbe_roc_synthese(liste_modele, nom_modele) :\n",
    "    prob_sans_modele = [0 for _ in range(len(yTest))]\n",
    "    # predict probabilities\n",
    "    liste_prob_pred = []\n",
    "    for modele in liste_modele :\n",
    "        prob_pred = modele.predict_proba(xTest)[:, 1]\n",
    "        liste_prob_pred.append(prob_pred)\n",
    "        \n",
    "    pred_regression_logistique = modele_logistique.predict(sm.tools.add_constant(xTest))\n",
    "    liste_prob_pred.append(pred_regression_logistique)\n",
    "    nom_modele.append(\"Régression logistique\")\n",
    "    \n",
    "    # calculate scores\n",
    "    auc_sans_modele = roc_auc_score(yTest, prob_sans_modele)\n",
    "    auc = []\n",
    "    for prob_pred in liste_prob_pred :\n",
    "        auc.append(roc_auc_score(yTest, prob_pred))\n",
    "        \n",
    "    # summarize scores\n",
    "    print('Modèle aléatoire : ROC AUC=%.3f' % (auc_sans_modele))\n",
    "    for i in range(len(auc)) :\n",
    "        print('Modèle ' + nom_modele[i] +' : ROC AUC=%.3f' % (auc[i]))\n",
    "\n",
    "    # calculate roc curves\n",
    "    fpr_sans_modele, tpr_sans_modele, _ = roc_curve(yTest, prob_sans_modele)\n",
    "    \n",
    "    fpr = []\n",
    "    tpr = []\n",
    "    \n",
    "    for prob_pred in liste_prob_pred :\n",
    "        fpr.append(roc_curve(yTest, prob_pred)[0])\n",
    "        tpr.append(roc_curve(yTest, prob_pred)[1])\n",
    "\n",
    "    # plot the roc curve for the model\n",
    "    plt.plot(fpr_sans_modele, tpr_sans_modele, linestyle='--', label='Modèle aléatoire')\n",
    "    for i in range(len(fpr)) :\n",
    "        plt.plot(fpr[i], tpr[i], label = nom_modele[i])\n",
    "    \n",
    "    \n",
    "    \n",
    "    # axis labels\n",
    "    plt.xlabel('Taux de vrais positifs')\n",
    "    plt.ylabel('Taux de faux positifs')\n",
    "    # show the legend\n",
    "    plt.legend()\n",
    "    # show the plot\n",
    "    plt.show()"
   ]
  },
  {
   "cell_type": "code",
   "execution_count": 36,
   "metadata": {},
   "outputs": [],
   "source": [
    "def matrice_confusion(modele) :\n",
    "    sklearn.metrics.plot_confusion_matrix(modele, xTest, yTest)\n",
    "    plt.show()"
   ]
  },
  {
   "cell_type": "markdown",
   "metadata": {},
   "source": [
    "### Classification"
   ]
  },
  {
   "cell_type": "markdown",
   "metadata": {},
   "source": [
    "Nous testons les modèles de classification suivants:\n",
    "- Linear SVC\n",
    "- SGD Classifier\n",
    "- KNeighbors Classifier  \n",
    "\n",
    "pour déterminer celui le plus précis et le plus adapté à notre base de données"
   ]
  },
  {
   "cell_type": "markdown",
   "metadata": {},
   "source": [
    "###### 1. Modèle Linear SVC"
   ]
  },
  {
   "cell_type": "markdown",
   "metadata": {},
   "source": [
    "Entrainement d'un classifieur SVM avec comme paramètre de régularisation C=1"
   ]
  },
  {
   "cell_type": "code",
   "execution_count": 42,
   "metadata": {},
   "outputs": [],
   "source": [
    "classification_SVC = svm.SVC(kernel='linear', C=1, probability = True).fit(xTrain, yTrain)\n",
    "y_pred = classification_SVC.predict(xTest)"
   ]
  },
  {
   "cell_type": "markdown",
   "metadata": {},
   "source": [
    "Calcul des indicateurs"
   ]
  },
  {
   "cell_type": "code",
   "execution_count": 47,
   "metadata": {},
   "outputs": [
    {
     "name": "stdout",
     "output_type": "stream",
     "text": [
      "Accuracy : 0.717\n",
      "Precision : 0.418\n",
      "Recall : 0.683\n",
      "F1 : 0.519\n"
     ]
    }
   ],
   "source": [
    "sc_accuracy_SVC = sklearn.metrics.accuracy_score(y_pred, yTest)\n",
    "sc_precision_SVC = sklearn.metrics.precision_score(y_pred, yTest)\n",
    "sc_recall_SVC = sklearn.metrics.recall_score(y_pred, yTest)\n",
    "sc_f1_SVC = sklearn.metrics.f1_score(y_pred, yTest)\n",
    "print('Accuracy : ' + str(round(sc_accuracy_SVC, 3)))\n",
    "print('Precision : ' + str(round(sc_precision_SVC, 3)))\n",
    "print('Recall : ' + str(round(sc_recall_SVC, 3)))\n",
    "print('F1 : ' + str(round(sc_f1_SVC, 3)))"
   ]
  },
  {
   "cell_type": "markdown",
   "metadata": {},
   "source": [
    "Tracé de la courbe ROC"
   ]
  },
  {
   "cell_type": "code",
   "execution_count": 48,
   "metadata": {},
   "outputs": [
    {
     "name": "stdout",
     "output_type": "stream",
     "text": [
      "Modèle aléatoire : ROC AUC=0.500\n",
      "Modèle : ROC AUC=0.719\n"
     ]
    },
    {
     "data": {
      "image/png": "[encoded data removed]",
      "text/plain": [
       "<Figure size 432x288 with 1 Axes>"
      ]
     },
     "metadata": {
      "needs_background": "light"
     },
     "output_type": "display_data"
    }
   ],
   "source": [
    "prob_pred = classification_SVC.predict_proba(xTest)[:, 1]\n",
    "courbe_roc(classification_SVC, prob_pred, yTest)"
   ]
  },
  {
   "cell_type": "markdown",
   "metadata": {},
   "source": [
    "Détermination de la matrice de confusion"
   ]
  },
  {
   "cell_type": "code",
   "execution_count": 93,
   "metadata": {
    "scrolled": true
   },
   "outputs": [
    {
     "name": "stderr",
     "output_type": "stream",
     "text": [
      "/Users/camille/anaconda3/lib/python3.7/site-packages/sklearn/utils/deprecation.py:87: FutureWarning: Function plot_confusion_matrix is deprecated; Function `plot_confusion_matrix` is deprecated in 1.0 and will be removed in 1.2. Use one of the class methods: ConfusionMatrixDisplay.from_predictions or ConfusionMatrixDisplay.from_estimator.\n",
      "  warnings.warn(msg, category=FutureWarning)\n"
     ]
    },
    {
     "data": {
      "image/png": "[encoded data removed]",
      "text/plain": [
       "<Figure size 432x288 with 2 Axes>"
      ]
     },
     "metadata": {},
     "output_type": "display_data"
    }
   ],
   "source": [
    "matrice_confusion(classification_SVC)"
   ]
  },
  {
   "cell_type": "markdown",
   "metadata": {},
   "source": [
    "Ainsi, si la mesure de précision (0.72) et la courbe ROC sont plutôt satisfaisantes, la F-mesure (0.52) pourrait être améliorée et la matrice de confusion montre une proportion de faux négatifs assez élevée."
   ]
  },
  {
   "cell_type": "markdown",
   "metadata": {},
   "source": [
    "###### 2. Modèle SGD Classifier"
   ]
  },
  {
   "cell_type": "markdown",
   "metadata": {},
   "source": [
    "Entrainement d'un classifieur SGD, avec calibrement du classifieur afin de calculer les probabilités des valeurs, nécessaires au tracé de la courbe ROC"
   ]
  },
  {
   "cell_type": "code",
   "execution_count": 37,
   "metadata": {},
   "outputs": [],
   "source": [
    "classification_SGD = SGDClassifier(max_iter=1000, tol=0.001)\n",
    "calibrated_classification_SGD = CalibratedClassifierCV(classification_SGD, cv=5, method='sigmoid').fit(xTrain,yTrain)\n",
    "y_pred = calibrated_classification_SGD.predict(xTest)"
   ]
  },
  {
   "cell_type": "markdown",
   "metadata": {},
   "source": [
    "Calcul des indicateurs"
   ]
  },
  {
   "cell_type": "code",
   "execution_count": 68,
   "metadata": {},
   "outputs": [
    {
     "name": "stdout",
     "output_type": "stream",
     "text": [
      "Accuracy : 0.72\n",
      "F1 : 0.528\n",
      "Recall : 0.689\n",
      "Precision : 0.427\n"
     ]
    }
   ],
   "source": [
    "sc_accuracy_SGD = sklearn.metrics.accuracy_score(y_pred, yTest)\n",
    "sc_precision_SGD = sklearn.metrics.precision_score(y_pred, yTest)\n",
    "sc_recall_SGD = sklearn.metrics.recall_score(y_pred, yTest)\n",
    "sc_f1_SGD = sklearn.metrics.f1_score(y_pred, yTest)\n",
    "print('Accuracy : ' + str(round(sc_accuracy_SGD, 3)))\n",
    "print('F1 : ' + str(round(sc_f1_SGD, 3)))\n",
    "print('Recall : ' + str(round(sc_recall_SGD, 3)))\n",
    "print('Precision : ' + str(round(sc_precision_SGD, 3)))"
   ]
  },
  {
   "cell_type": "markdown",
   "metadata": {},
   "source": [
    "Tracé de la courbe ROC"
   ]
  },
  {
   "cell_type": "code",
   "execution_count": 70,
   "metadata": {
    "scrolled": true
   },
   "outputs": [
    {
     "name": "stdout",
     "output_type": "stream",
     "text": [
      "Modèle aléatoire : ROC AUC=0.500\n",
      "Modèle : ROC AUC=0.717\n"
     ]
    },
    {
     "data": {
      "image/png": "[encoded data removed]",
      "text/plain": [
       "<Figure size 432x288 with 1 Axes>"
      ]
     },
     "metadata": {
      "needs_background": "light"
     },
     "output_type": "display_data"
    }
   ],
   "source": [
    "prob_pred = calibrated_classification_SGD.predict_proba(xTest)[:, 1]\n",
    "courbe_roc(calibrated_classification_SGD, prob_pred, yTest)"
   ]
  },
  {
   "cell_type": "markdown",
   "metadata": {},
   "source": [
    "Détermination de la matrice de confusion"
   ]
  },
  {
   "cell_type": "code",
   "execution_count": 71,
   "metadata": {
    "scrolled": false
   },
   "outputs": [
    {
     "data": {
      "image/png": "[encoded data removed]",
      "text/plain": [
       "<Figure size 432x288 with 2 Axes>"
      ]
     },
     "metadata": {
      "needs_background": "light"
     },
     "output_type": "display_data"
    }
   ],
   "source": [
    "matrice_confusion(calibrated_classification_SGD)"
   ]
  },
  {
   "cell_type": "markdown",
   "metadata": {},
   "source": [
    "Ainsi, comme le modèle Linear SVC, la mesure de précision (0.72) et la courbe ROC sont plutôt satisfaisantes mais la F-mesure (0.52) pourrait être améliorée. La matrice de confusion montre également une proportion de faux négatifs assez élevée."
   ]
  },
  {
   "cell_type": "markdown",
   "metadata": {},
   "source": [
    "###### 3. Modèle KNeighbors Classifier"
   ]
  },
  {
   "cell_type": "markdown",
   "metadata": {},
   "source": [
    "Entrainement d'un classifieur KNeighbors"
   ]
  },
  {
   "cell_type": "code",
   "execution_count": 50,
   "metadata": {},
   "outputs": [],
   "source": [
    "classification_KNN = KNeighborsClassifier(n_neighbors = 5).fit(xTrain,yTrain)\n",
    "y_pred = classification_KNN.predict(xTest)"
   ]
  },
  {
   "cell_type": "markdown",
   "metadata": {},
   "source": [
    "Calcul des indicateurs"
   ]
  },
  {
   "cell_type": "code",
   "execution_count": 51,
   "metadata": {},
   "outputs": [
    {
     "name": "stdout",
     "output_type": "stream",
     "text": [
      "Accuracy : 0.666\n",
      "Precision : 0.279\n",
      "Recall : 0.592\n",
      "F1 : 0.379\n"
     ]
    }
   ],
   "source": [
    "sc_accuracy_KNN = sklearn.metrics.accuracy_score(y_pred, yTest)\n",
    "sc_precision_KNN = sklearn.metrics.precision_score(y_pred, yTest)\n",
    "sc_recall_KNN = sklearn.metrics.recall_score(y_pred, yTest)\n",
    "sc_f1_KNN = sklearn.metrics.f1_score(y_pred, yTest)\n",
    "print('Accuracy : ' + str(round(sc_accuracy_KNN, 3)))\n",
    "print('Precision : ' + str(round(sc_precision_KNN, 3)))\n",
    "print('Recall : ' + str(round(sc_recall_KNN, 3)))\n",
    "print('F1 : ' + str(round(sc_f1_KNN, 3)))"
   ]
  },
  {
   "cell_type": "markdown",
   "metadata": {},
   "source": [
    "Tracé de la courbe ROC"
   ]
  },
  {
   "cell_type": "code",
   "execution_count": 52,
   "metadata": {
    "scrolled": true
   },
   "outputs": [
    {
     "name": "stdout",
     "output_type": "stream",
     "text": [
      "Modèle aléatoire : ROC AUC=0.500\n",
      "Modèle : ROC AUC=0.675\n"
     ]
    },
    {
     "data": {
      "image/png": "[encoded data removed]",
      "text/plain": [
       "<Figure size 432x288 with 1 Axes>"
      ]
     },
     "metadata": {
      "needs_background": "light"
     },
     "output_type": "display_data"
    }
   ],
   "source": [
    "prob_pred = classification_KNN.predict_proba(xTest)[:, 1]\n",
    "courbe_roc(classification_KNN, prob_pred, yTest)"
   ]
  },
  {
   "cell_type": "markdown",
   "metadata": {},
   "source": [
    "Détermination de la matrice de confusion"
   ]
  },
  {
   "cell_type": "code",
   "execution_count": 72,
   "metadata": {
    "scrolled": false
   },
   "outputs": [
    {
     "data": {
      "image/png": "[encoded data removed]",
      "text/plain": [
       "<Figure size 432x288 with 2 Axes>"
      ]
     },
     "metadata": {
      "needs_background": "light"
     },
     "output_type": "display_data"
    }
   ],
   "source": [
    "matrice_confusion(classification_KNN)"
   ]
  },
  {
   "cell_type": "markdown",
   "metadata": {},
   "source": [
    "Ainsi, les indicateurs et notamment la mesure de précision (0.67) et la F-mesure (0.38) sont inférieurs aux indicateurs des 2 précédents modèles. La courbe ROC est nettement moins satisfaisante que les autres courbes ROC. Le Modèle KNeighbors Classifier est donc moins adapté à nos données."
   ]
  },
  {
   "cell_type": "markdown",
   "metadata": {},
   "source": [
    "### Régression logistique"
   ]
  },
  {
   "cell_type": "markdown",
   "metadata": {},
   "source": [
    "La régression logistique est une méthode de classification supervisée apartenant aux modèles linéaires généralisée. Elle permet de prédire la probabilité d'un événement binaire (ici la gravité de l'accident) en utilisant des variables explicatives quantitatives ou qualitatives."
   ]
  },
  {
   "cell_type": "code",
   "execution_count": 53,
   "metadata": {},
   "outputs": [
    {
     "name": "stdout",
     "output_type": "stream",
     "text": [
      "Optimization terminated successfully.\n",
      "         Current function value: 0.574689\n",
      "         Iterations 5\n"
     ]
    },
    {
     "name": "stderr",
     "output_type": "stream",
     "text": [
      "/Users/cloclo/opt/anaconda3/lib/python3.7/site-packages/statsmodels/tsa/tsatools.py:130: FutureWarning: In a future version of pandas all arguments of concat except for the argument 'objs' will be keyword-only\n",
      "  x = pd.concat(x[::order], 1)\n"
     ]
    }
   ],
   "source": [
    "from statsmodels.tools import add_constant\n",
    "from statsmodels.api import Logit\n",
    "\n",
    "# On ajoute une constante à notre tableau de variables explicatives\n",
    "XTrainBis = sm.tools.add_constant(xTrain)\n",
    "\n",
    "# Apprentissage du modèle :\n",
    "modele_logistique = Logit(endog=yTrain,exog=XTrainBis).fit()"
   ]
  },
  {
   "cell_type": "code",
   "execution_count": 54,
   "metadata": {},
   "outputs": [
    {
     "name": "stdout",
     "output_type": "stream",
     "text": [
      "                           Logit Regression Results                           \n",
      "==============================================================================\n",
      "Dep. Variable:                      y   No. Observations:                51772\n",
      "Model:                          Logit   Df Residuals:                    51762\n",
      "Method:                           MLE   Df Model:                            9\n",
      "Date:                Tue, 04 Jan 2022   Pseudo R-squ.:                  0.1234\n",
      "Time:                        10:18:30   Log-Likelihood:                -29753.\n",
      "converged:                       True   LL-Null:                       -33942.\n",
      "Covariance Type:            nonrobust   LLR p-value:                     0.000\n",
      "============================================================================================\n",
      "                               coef    std err          z      P>|z|      [0.025      0.975]\n",
      "--------------------------------------------------------------------------------------------\n",
      "const                       -1.9869      0.034    -58.459      0.000      -2.053      -1.920\n",
      "Route dep ou nationale       0.7065      0.021     33.570      0.000       0.665       0.748\n",
      "Sur accotement               0.8575      0.041     20.796      0.000       0.777       0.938\n",
      "Autre lieu de l'accident     0.6479      0.039     16.432      0.000       0.571       0.725\n",
      "Hors agglomeration           0.8063      0.024     33.962      0.000       0.760       0.853\n",
      "A chaussées séparées        -0.0174      0.036     -0.479      0.632      -0.088       0.054\n",
      "Bidirectionnelle             0.8562      0.027     31.967      0.000       0.804       0.909\n",
      "Nuit sans éclairage          0.3190      0.042      7.676      0.000       0.238       0.400\n",
      "Plein jour                  -0.0046      0.029     -0.159      0.874      -0.061       0.052\n",
      "Courbe                       0.3255      0.026     12.755      0.000       0.276       0.376\n",
      "============================================================================================\n"
     ]
    }
   ],
   "source": [
    "print(modele_logistique.summary())"
   ]
  },
  {
   "cell_type": "markdown",
   "metadata": {},
   "source": [
    "On remarque que les variables \"A chaussées séparées\" (circ) et \"Plein jour\" (lum) ne sont pas significatives au seuil de 5%. On regroupe donc la modalité plein jour avec la modalité \"Nuit avec éclairage public allumé\" et la modalité \"Chaussées Séparées\" avec \"A sens unique\"."
   ]
  },
  {
   "cell_type": "code",
   "execution_count": 74,
   "metadata": {},
   "outputs": [
    {
     "name": "stderr",
     "output_type": "stream",
     "text": [
      "/Users/cloclo/opt/anaconda3/lib/python3.7/site-packages/ipykernel_launcher.py:1: FutureWarning: In a future version of pandas all arguments of DataFrame.drop except for the argument 'labels' will be keyword-only\n",
      "  \"\"\"Entry point for launching an IPython kernel.\n",
      "/Users/cloclo/opt/anaconda3/lib/python3.7/site-packages/ipykernel_launcher.py:2: FutureWarning: In a future version of pandas all arguments of DataFrame.drop except for the argument 'labels' will be keyword-only\n",
      "  \n"
     ]
    }
   ],
   "source": [
    "xTrain2 = xTrain.drop(['A chaussées séparées', 'Plein jour'], 1)\n",
    "xTest2 = xTest.drop(['A chaussées séparées', 'Plein jour'], 1)"
   ]
  },
  {
   "cell_type": "code",
   "execution_count": 75,
   "metadata": {},
   "outputs": [
    {
     "name": "stdout",
     "output_type": "stream",
     "text": [
      "Optimization terminated successfully.\n",
      "         Current function value: 0.574691\n",
      "         Iterations 5\n"
     ]
    },
    {
     "name": "stderr",
     "output_type": "stream",
     "text": [
      "/Users/cloclo/opt/anaconda3/lib/python3.7/site-packages/statsmodels/tsa/tsatools.py:130: FutureWarning: In a future version of pandas all arguments of concat except for the argument 'objs' will be keyword-only\n",
      "  x = pd.concat(x[::order], 1)\n"
     ]
    }
   ],
   "source": [
    "modele_logistique_2 = Logit(endog=yTrain,exog=sm.tools.add_constant(xTrain2)).fit()"
   ]
  },
  {
   "cell_type": "markdown",
   "metadata": {},
   "source": [
    "#### Interprétation des coefficients :\n",
    "Pour interprêter les coefficients, on utilise les odd ratios. Il y a plus de risque que l'accident soit grave s'il a lieu sur une route département ou nationale, hors agglomération, sur une route bidirectionnelle, sans éclarage."
   ]
  },
  {
   "cell_type": "code",
   "execution_count": 78,
   "metadata": {},
   "outputs": [
    {
     "data": {
      "text/html": [
       "<div>\n",
       "<style scoped>\n",
       "    .dataframe tbody tr th:only-of-type {\n",
       "        vertical-align: middle;\n",
       "    }\n",
       "\n",
       "    .dataframe tbody tr th {\n",
       "        vertical-align: top;\n",
       "    }\n",
       "\n",
       "    .dataframe thead th {\n",
       "        text-align: right;\n",
       "    }\n",
       "</style>\n",
       "<table border=\"1\" class=\"dataframe\">\n",
       "  <thead>\n",
       "    <tr style=\"text-align: right;\">\n",
       "      <th></th>\n",
       "      <th>Coefficient</th>\n",
       "      <th>Odd Ratio</th>\n",
       "      <th>p-value</th>\n",
       "      <th>2.5%</th>\n",
       "      <th>97.5%</th>\n",
       "    </tr>\n",
       "  </thead>\n",
       "  <tbody>\n",
       "    <tr>\n",
       "      <th>const</th>\n",
       "      <td>-1.997171</td>\n",
       "      <td>0.135719</td>\n",
       "      <td>0.0</td>\n",
       "      <td>0.130016</td>\n",
       "      <td>0.141671</td>\n",
       "    </tr>\n",
       "    <tr>\n",
       "      <th>Route dep ou nationale</th>\n",
       "      <td>0.706936</td>\n",
       "      <td>2.027769</td>\n",
       "      <td>0.0</td>\n",
       "      <td>1.945920</td>\n",
       "      <td>2.113062</td>\n",
       "    </tr>\n",
       "    <tr>\n",
       "      <th>Sur accotement</th>\n",
       "      <td>0.857566</td>\n",
       "      <td>2.357415</td>\n",
       "      <td>0.0</td>\n",
       "      <td>2.174426</td>\n",
       "      <td>2.555804</td>\n",
       "    </tr>\n",
       "    <tr>\n",
       "      <th>Autre lieu de l'accident</th>\n",
       "      <td>0.648153</td>\n",
       "      <td>1.912006</td>\n",
       "      <td>0.0</td>\n",
       "      <td>1.769821</td>\n",
       "      <td>2.065615</td>\n",
       "    </tr>\n",
       "    <tr>\n",
       "      <th>Hors agglomeration</th>\n",
       "      <td>0.803135</td>\n",
       "      <td>2.232530</td>\n",
       "      <td>0.0</td>\n",
       "      <td>2.135513</td>\n",
       "      <td>2.333954</td>\n",
       "    </tr>\n",
       "    <tr>\n",
       "      <th>Bidirectionnelle</th>\n",
       "      <td>0.863311</td>\n",
       "      <td>2.370997</td>\n",
       "      <td>0.0</td>\n",
       "      <td>2.270329</td>\n",
       "      <td>2.476128</td>\n",
       "    </tr>\n",
       "    <tr>\n",
       "      <th>Nuit sans éclairage</th>\n",
       "      <td>0.322420</td>\n",
       "      <td>1.380464</td>\n",
       "      <td>0.0</td>\n",
       "      <td>1.295440</td>\n",
       "      <td>1.471069</td>\n",
       "    </tr>\n",
       "    <tr>\n",
       "      <th>Courbe</th>\n",
       "      <td>0.326678</td>\n",
       "      <td>1.386355</td>\n",
       "      <td>0.0</td>\n",
       "      <td>1.318996</td>\n",
       "      <td>1.457154</td>\n",
       "    </tr>\n",
       "  </tbody>\n",
       "</table>\n",
       "</div>"
      ],
      "text/plain": [
       "                          Coefficient  Odd Ratio  p-value      2.5%     97.5%\n",
       "const                       -1.997171   0.135719      0.0  0.130016  0.141671\n",
       "Route dep ou nationale       0.706936   2.027769      0.0  1.945920  2.113062\n",
       "Sur accotement               0.857566   2.357415      0.0  2.174426  2.555804\n",
       "Autre lieu de l'accident     0.648153   1.912006      0.0  1.769821  2.065615\n",
       "Hors agglomeration           0.803135   2.232530      0.0  2.135513  2.333954\n",
       "Bidirectionnelle             0.863311   2.370997      0.0  2.270329  2.476128\n",
       "Nuit sans éclairage          0.322420   1.380464      0.0  1.295440  1.471069\n",
       "Courbe                       0.326678   1.386355      0.0  1.318996  1.457154"
      ]
     },
     "execution_count": 78,
     "metadata": {},
     "output_type": "execute_result"
    }
   ],
   "source": [
    "model_odds = pd.DataFrame(modele_logistique_2.params, columns= ['Coefficient'])\n",
    "model_odds[\"Odd Ratio\"] = np.exp(modele_logistique_2.params)\n",
    "model_odds['p-value']= round(modele_logistique_2.pvalues, 3)\n",
    "model_odds[['2.5%', '97.5%']] = np.exp(modele_logistique_2.conf_int())\n",
    "\n",
    "model_odds"
   ]
  },
  {
   "cell_type": "markdown",
   "metadata": {},
   "source": [
    "#### Evaluation de la performance du modele :"
   ]
  },
  {
   "cell_type": "code",
   "execution_count": 79,
   "metadata": {},
   "outputs": [
    {
     "name": "stderr",
     "output_type": "stream",
     "text": [
      "/Users/cloclo/opt/anaconda3/lib/python3.7/site-packages/statsmodels/tsa/tsatools.py:130: FutureWarning: In a future version of pandas all arguments of concat except for the argument 'objs' will be keyword-only\n",
      "  x = pd.concat(x[::order], 1)\n"
     ]
    },
    {
     "name": "stdout",
     "output_type": "stream",
     "text": [
      "Modèle aléatoire : ROC AUC=0.500\n",
      "Modèle : ROC AUC=0.723\n"
     ]
    },
    {
     "data": {
      "image/png": "[encoded data removed]",
      "text/plain": [
       "<Figure size 432x288 with 1 Axes>"
      ]
     },
     "metadata": {
      "needs_background": "light"
     },
     "output_type": "display_data"
    }
   ],
   "source": [
    "from sklearn.metrics import roc_curve, auc, roc_auc_score\n",
    "\n",
    "pred = modele_logistique_2.predict(sm.tools.add_constant(xTest2))\n",
    "courbe_roc(modele_logistique_2, pred, yTest)"
   ]
  },
  {
   "cell_type": "code",
   "execution_count": 80,
   "metadata": {},
   "outputs": [
    {
     "name": "stderr",
     "output_type": "stream",
     "text": [
      "/Users/cloclo/opt/anaconda3/lib/python3.7/site-packages/statsmodels/tsa/tsatools.py:130: FutureWarning: In a future version of pandas all arguments of concat except for the argument 'objs' will be keyword-only\n",
      "  x = pd.concat(x[::order], 1)\n"
     ]
    }
   ],
   "source": [
    "# Création de la prédiction de y\n",
    "proba_pred = modele_logistique_2.predict(sm.tools.add_constant(xTest2))\n",
    "pred = pd.DataFrame(proba_pred, columns = [\"proba_pred\"])\n",
    "\n",
    "conditions = [pred[\"proba_pred\"] <= 0.5, pred[\"proba_pred\"] > 0.5]\n",
    "categories = [0, 1]\n",
    "pred['y_pred'] = np.select(conditions, categories)"
   ]
  },
  {
   "cell_type": "markdown",
   "metadata": {},
   "source": [
    "La matrice de confusion est :"
   ]
  },
  {
   "cell_type": "code",
   "execution_count": 81,
   "metadata": {},
   "outputs": [
    {
     "data": {
      "text/html": [
       "<div>\n",
       "<style scoped>\n",
       "    .dataframe tbody tr th:only-of-type {\n",
       "        vertical-align: middle;\n",
       "    }\n",
       "\n",
       "    .dataframe tbody tr th {\n",
       "        vertical-align: top;\n",
       "    }\n",
       "\n",
       "    .dataframe thead th {\n",
       "        text-align: right;\n",
       "    }\n",
       "</style>\n",
       "<table border=\"1\" class=\"dataframe\">\n",
       "  <thead>\n",
       "    <tr style=\"text-align: right;\">\n",
       "      <th>y_pred</th>\n",
       "      <th>0</th>\n",
       "      <th>1</th>\n",
       "    </tr>\n",
       "    <tr>\n",
       "      <th>row_0</th>\n",
       "      <th></th>\n",
       "      <th></th>\n",
       "    </tr>\n",
       "  </thead>\n",
       "  <tbody>\n",
       "    <tr>\n",
       "      <th>0</th>\n",
       "      <td>7310</td>\n",
       "      <td>908</td>\n",
       "    </tr>\n",
       "    <tr>\n",
       "      <th>1</th>\n",
       "      <td>2712</td>\n",
       "      <td>2014</td>\n",
       "    </tr>\n",
       "  </tbody>\n",
       "</table>\n",
       "</div>"
      ],
      "text/plain": [
       "y_pred     0     1\n",
       "row_0             \n",
       "0       7310   908\n",
       "1       2712  2014"
      ]
     },
     "execution_count": 81,
     "metadata": {},
     "output_type": "execute_result"
    }
   ],
   "source": [
    "matrice_confusion_logistique = pd.crosstab(yTest,pred['y_pred'])\n",
    "matrice_confusion_logistique"
   ]
  },
  {
   "cell_type": "code",
   "execution_count": 83,
   "metadata": {},
   "outputs": [
    {
     "name": "stdout",
     "output_type": "stream",
     "text": [
      "Accuracy :0.72\n",
      "Precision :0.216\n",
      "Recall :0.689\n",
      "F1 :0.329\n"
     ]
    }
   ],
   "source": [
    "TP = matrice_confusion_logistique[1][1]\n",
    "TN = matrice_confusion_logistique[0][0]\n",
    "FP = matrice_confusion_logistique[0][1]\n",
    "FN = matrice_confusion_logistique[1][0]\n",
    "\n",
    "sc_accuracy_log = (TP+TN)/(TP+TN+FP+FN)\n",
    "sc_precision_log = TP/(TP+TN)\n",
    "sc_recall_log = TP/(TP+FN)\n",
    "sc_f1_log = 2*sc_precision_log*sc_recall_log/(sc_precision_log + sc_recall_log)\n",
    "\n",
    "print('Accuracy :' + str(round(sc_accuracy_log, 3)))\n",
    "print('Precision :' + str(round(sc_precision_log, 3)))\n",
    "print('Recall :' + str(round(sc_recall_log, 3)))\n",
    "print('F1 :' + str(round(sc_f1_log, 3)))"
   ]
  },
  {
   "cell_type": "markdown",
   "metadata": {},
   "source": [
    "### Arbre de décision"
   ]
  },
  {
   "cell_type": "markdown",
   "metadata": {},
   "source": [
    "Dans cette partie, nous allons tester le modèle de classification par arbre de décision. Dans notre cas, les feuilles de l'arbre représentent les états de notre variable d'intéret à savoir la gravité de l'accident, il y a donc deux états possibles :\n",
    "* accident grave (grave=2)\n",
    "* accident peu grave (grave=1)\n",
    "\n",
    "Les embranchements de l'arbre quant à eux correspondent à des combinaisons de nos variables d'entrées (catégorie de la route, luminosité, point de collision...). \n",
    "On utilise alors le training set pour construire l'arbre ce qui nous permet par la suite d'extrapoler le résultat de la variable sur les données de test."
   ]
  },
  {
   "cell_type": "code",
   "execution_count": 101,
   "metadata": {},
   "outputs": [],
   "source": [
    "classification_DTree = tree.DecisionTreeClassifier()\n",
    "classification_DTree.fit(xTrain, yTrain)\n",
    "y_pred = classification_DTree.predict(xTest)"
   ]
  },
  {
   "cell_type": "markdown",
   "metadata": {},
   "source": [
    "Calcul des indicateurs\n"
   ]
  },
  {
   "cell_type": "code",
   "execution_count": 102,
   "metadata": {},
   "outputs": [],
   "source": [
    "# Les indicateurs (cf le TP sur la classification)\n",
    "sc_accuracy_DTree = sklearn.metrics.accuracy_score(y_pred, yTest)\n",
    "sc_f1_DTree = sklearn.metrics.f1_score(y_pred, yTest)\n",
    "sc_recall_DTree = sklearn.metrics.recall_score(y_pred, yTest)\n",
    "sc_precision_DTree = sklearn.metrics.precision_score(y_pred, yTest)"
   ]
  },
  {
   "cell_type": "code",
   "execution_count": 107,
   "metadata": {},
   "outputs": [
    {
     "name": "stdout",
     "output_type": "stream",
     "text": [
      "accuracy : 0.72\n",
      "F1 score : 0.528\n",
      "Recall : 0.689\n",
      "Precision : 0.427\n"
     ]
    }
   ],
   "source": [
    "print('accuracy : ' + str(round(sc_accuracy_DTree, 3)))\n",
    "print('F1 score : ' + str(round(sc_f1_DTree, 3)))\n",
    "print('Recall : ' + str(round(sc_recall_DTree, 3)))\n",
    "print('Precision : ' + str(round(sc_precision_DTree, 3)))"
   ]
  },
  {
   "cell_type": "code",
   "execution_count": 104,
   "metadata": {},
   "outputs": [
    {
     "name": "stdout",
     "output_type": "stream",
     "text": [
      "Modèle aléatoire : ROC AUC=0.500\n",
      "Modèle : ROC AUC=0.726\n"
     ]
    },
    {
     "data": {
      "image/png": "[encoded data removed]",
      "text/plain": [
       "<Figure size 432x288 with 1 Axes>"
      ]
     },
     "metadata": {
      "needs_background": "light"
     },
     "output_type": "display_data"
    }
   ],
   "source": [
    "pred_proba = classification_DTree.predict_proba(xTest)[:, 1]\n",
    "courbe_roc(classification_DTree, pred_proba, yTest)"
   ]
  },
  {
   "cell_type": "code",
   "execution_count": 105,
   "metadata": {},
   "outputs": [
    {
     "data": {
      "image/png": "[encoded data removed]",
      "text/plain": [
       "<Figure size 432x288 with 2 Axes>"
      ]
     },
     "metadata": {
      "needs_background": "light"
     },
     "output_type": "display_data"
    }
   ],
   "source": [
    "matrice_confusion(classification_DTree)"
   ]
  },
  {
   "cell_type": "markdown",
   "metadata": {},
   "source": [
    "On obtient ainsi une Accuracy de 0.72 et un Recall de 0.69 ce qui est satisfaisant. Le Recall est particulièrement d'intéret dans notre cas car on cherche surtout à limiter les feux négatifs (ie dire qu'un accident est peu grave alors qu'en réalité il l'est) car on part du principe qu'il vaut mieux envoyer trop de secours que pas assez dans notre cas."
   ]
  },
  {
   "cell_type": "markdown",
   "metadata": {},
   "source": [
    "## Comparaison des différents modèles"
   ]
  },
  {
   "cell_type": "markdown",
   "metadata": {},
   "source": [
    "On dresse un tableau récapitulatif des indicateurs obtenus lors des différents tests."
   ]
  },
  {
   "cell_type": "code",
   "execution_count": 96,
   "metadata": {},
   "outputs": [
    {
     "data": {
      "text/html": [
       "<div>\n",
       "<style scoped>\n",
       "    .dataframe tbody tr th:only-of-type {\n",
       "        vertical-align: middle;\n",
       "    }\n",
       "\n",
       "    .dataframe tbody tr th {\n",
       "        vertical-align: top;\n",
       "    }\n",
       "\n",
       "    .dataframe thead th {\n",
       "        text-align: right;\n",
       "    }\n",
       "</style>\n",
       "<table border=\"1\" class=\"dataframe\">\n",
       "  <thead>\n",
       "    <tr style=\"text-align: right;\">\n",
       "      <th></th>\n",
       "      <th>Accuracy</th>\n",
       "      <th>Precision</th>\n",
       "      <th>Recall</th>\n",
       "      <th>F1</th>\n",
       "    </tr>\n",
       "  </thead>\n",
       "  <tbody>\n",
       "    <tr>\n",
       "      <th>Linear SVC</th>\n",
       "      <td>0.716703</td>\n",
       "      <td>0.417901</td>\n",
       "      <td>0.683155</td>\n",
       "      <td>0.518577</td>\n",
       "    </tr>\n",
       "    <tr>\n",
       "      <th>SGD Classifier</th>\n",
       "      <td>0.720488</td>\n",
       "      <td>0.427423</td>\n",
       "      <td>0.688950</td>\n",
       "      <td>0.527553</td>\n",
       "    </tr>\n",
       "    <tr>\n",
       "      <th>KNeighbors Classifier</th>\n",
       "      <td>0.666409</td>\n",
       "      <td>0.278883</td>\n",
       "      <td>0.591562</td>\n",
       "      <td>0.379062</td>\n",
       "    </tr>\n",
       "    <tr>\n",
       "      <th>DecisionTree Classifier</th>\n",
       "      <td>0.714771</td>\n",
       "      <td>0.378544</td>\n",
       "      <td>0.703223</td>\n",
       "      <td>0.492160</td>\n",
       "    </tr>\n",
       "    <tr>\n",
       "      <th>Régression logistique</th>\n",
       "      <td>0.720334</td>\n",
       "      <td>0.216002</td>\n",
       "      <td>0.689254</td>\n",
       "      <td>0.328924</td>\n",
       "    </tr>\n",
       "  </tbody>\n",
       "</table>\n",
       "</div>"
      ],
      "text/plain": [
       "                         Accuracy  Precision    Recall        F1\n",
       "Linear SVC               0.716703   0.417901  0.683155  0.518577\n",
       "SGD Classifier           0.720488   0.427423  0.688950  0.527553\n",
       "KNeighbors Classifier    0.666409   0.278883  0.591562  0.379062\n",
       "DecisionTree Classifier  0.714771   0.378544  0.703223  0.492160\n",
       "Régression logistique    0.720334   0.216002  0.689254  0.328924"
      ]
     },
     "execution_count": 96,
     "metadata": {},
     "output_type": "execute_result"
    }
   ],
   "source": [
    "data = np.array([[sc_accuracy_SVC, sc_precision_SVC, sc_recall_SVC, sc_f1_SVC],\n",
    "             [sc_accuracy_SGD, sc_precision_SGD, sc_recall_SGD, sc_f1_SGD],\n",
    "             [sc_accuracy_KNN, sc_precision_KNN, sc_recall_KNN, sc_f1_KNN],\n",
    "             [sc_accuracy_DTree, sc_precision_DTree, sc_recall_DTree, sc_f1_DTree],\n",
    "                [sc_accuracy_log, sc_precision_log, sc_recall_log, sc_f1_log]])\n",
    "columns = ['Accuracy', 'Precision', 'Recall', 'F1']\n",
    "index = ['Linear SVC', 'SGD Classifier', 'KNeighbors Classifier', 'DecisionTree Classifier', 'Régression logistique']\n",
    "tableau = pd.DataFrame(data=data,index=index,columns=columns)\n",
    "tableau"
   ]
  },
  {
   "cell_type": "markdown",
   "metadata": {},
   "source": [
    "Nous superposons les courbes ROC sur un même graphe afin de déterminer le modèle le plus satisfaisant."
   ]
  },
  {
   "cell_type": "code",
   "execution_count": 106,
   "metadata": {},
   "outputs": [
    {
     "name": "stderr",
     "output_type": "stream",
     "text": [
      "/Users/cloclo/opt/anaconda3/lib/python3.7/site-packages/statsmodels/tsa/tsatools.py:130: FutureWarning: In a future version of pandas all arguments of concat except for the argument 'objs' will be keyword-only\n",
      "  x = pd.concat(x[::order], 1)\n"
     ]
    },
    {
     "name": "stdout",
     "output_type": "stream",
     "text": [
      "Modèle aléatoire : ROC AUC=0.500\n",
      "Modèle SVC : ROC AUC=0.719\n",
      "Modèle SGD : ROC AUC=0.717\n",
      "Modèle KNN : ROC AUC=0.675\n",
      "Modèle DTree : ROC AUC=0.726\n",
      "Modèle Régression logistique : ROC AUC=0.723\n"
     ]
    },
    {
     "data": {
      "image/png": "[encoded data removed]",
      "text/plain": [
       "<Figure size 432x288 with 1 Axes>"
      ]
     },
     "metadata": {
      "needs_background": "light"
     },
     "output_type": "display_data"
    }
   ],
   "source": [
    "liste_des_modeles = [classification_SVC, calibrated_classification_SGD, classification_KNN, classification_DTree]\n",
    "nom_des_modeles = [\"SVC\", \"SGD\", \"KNN\", \"DTree\"]\n",
    "courbe_roc_synthese(liste_des_modeles, nom_des_modeles)"
   ]
  },
  {
   "cell_type": "markdown",
   "metadata": {},
   "source": [
    "En conclusion de cette partie Classification, le graphe ci-dessus nous permet de suite d'éliminer le modèle KNeighbors Classifier, mais il ne nous permet pas de départager entre le modèle Linear SVC et le modèle SGD Classifier. Le tableau récapitulatif des indicateurs de précision montre que le modèle Linear SVC a une F-mesure (0.52) un petit peu plus inférieure que celle du modèle SGD Classifier (0.53).  \n",
    "Les modèles Linear SVC et SGD Classifier sont donc équivalents, \n",
    "Par ailleurs le modèle Decision Tree nous donne une meilleure accuracy, un meilleur recall et un F1 score satisfaisant. De plus la courbe ROC de ce dernier est plus satifaisante que les trois autres modèles de classification. Le modèle Decision Tree apparait donc plus plus adapté à nos données."
   ]
  }
 ],
 "metadata": {
  "kernelspec": {
   "display_name": "Python 3",
   "language": "python",
   "name": "python3"
  },
  "language_info": {
   "codemirror_mode": {
    "name": "ipython",
    "version": 3
   },
   "file_extension": ".py",
   "mimetype": "text/x-python",
   "name": "python",
   "nbconvert_exporter": "python",
   "pygments_lexer": "ipython3",
   "version": "3.7.1"
  }
 },
 "nbformat": 4,
 "nbformat_minor": 4
}
