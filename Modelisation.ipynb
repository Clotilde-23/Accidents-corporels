{
 "cells": [
  {
   "cell_type": "markdown",
   "metadata": {},
   "source": [
    "# <center> Modélisation"
   ]
  },
  {
   "cell_type": "markdown",
   "metadata": {},
   "source": [
    "Dans cette section, nous cherchons à prédire la gravité de l'accident grâce aux variables explicatives telles que le type de la collision, le type de la route, la luminosité, etc. \\\n",
    "Pour cela, notre variable cible s'appelle \"gravite\", elle vaut 1 si lors de l'accident, il y a eu au moins un blessé hospitalisé et/ou une personne tuée et elle vaut 0 sinon (les usagers sont soit indemnes, soit des blessés légers)."
   ]
  },
  {
   "cell_type": "code",
   "execution_count": 11,
   "metadata": {},
   "outputs": [],
   "source": [
    "%run \"./Ouverture_donnees.ipynb\""
   ]
  },
  {
   "cell_type": "markdown",
   "metadata": {},
   "source": [
    "Les importations nécessaires à la modélisation : "
   ]
  },
  {
   "cell_type": "code",
   "execution_count": 6,
   "metadata": {},
   "outputs": [],
   "source": [
    "import scipy.stats as ss\n",
    "import matplotlib.pyplot as plt\n",
    "import pandas as pd\n",
    "import numpy as np\n",
    "from sklearn import svm\n",
    "import sklearn.metrics\n",
    "from sklearn.model_selection import train_test_split\n",
    "from sklearn.model_selection import cross_val_score\n",
    "from sklearn import preprocessing\n",
    "\n",
    "from sklearn.datasets import make_classification\n",
    "from sklearn.linear_model import LogisticRegression\n",
    "from sklearn.metrics import roc_curve\n",
    "from sklearn.metrics import roc_auc_score\n",
    "\n",
    "from sklearn import tree"
   ]
  },
  {
   "cell_type": "code",
   "execution_count": 4,
   "metadata": {},
   "outputs": [],
   "source": [
    "#df_accidents.columns"
   ]
  },
  {
   "cell_type": "markdown",
   "metadata": {},
   "source": [
    "## Préparation des données"
   ]
  },
  {
   "cell_type": "markdown",
   "metadata": {},
   "source": [
    "Pour une meilleure modélisation, il est essentiel d'avoir un nombre de modalités raisonnable. Ainsi, nous regroupons les modalités ensemble si elles correspondent à un pourcentage d'accidents graves proche."
   ]
  },
  {
   "cell_type": "code",
   "execution_count": 36,
   "metadata": {},
   "outputs": [],
   "source": [
    "# Mettre des modalités ensemble :\n",
    "df_accidents[\"collision\"] = df_accidents[\"collision\"].replace([\"2 - frontale\", \"2-arriere\", \"3 vehicules\", \"2-cote\"], \"2 ou 3 véhicules\")\n",
    "\n",
    "df_accidents[\"catr\"] = df_accidents[\"catr\"].replace([\"Route départementale\", \"Route nationale\", \"Autre\"], \"Route départementale ou nationale + Autre\")\n",
    "df_accidents[\"catr\"] = df_accidents[\"catr\"].replace([\"Autoroute\", \"Voie Communale\"], \"Autoroute + Voie Communale\")\n",
    "\n",
    "df_accidents[\"lum\"] = df_accidents[\"lum\"].replace([\"Crépuscule ou aube\"], \"Plein jour\")\n",
    "\n",
    "df_accidents[\"obstacle_fixe\"] = df_accidents[\"obstacle\"].replace([\"1 obstacle mobile\", \"Pas dobstacle\"], 0)\n",
    "df_accidents[\"obstacle_fixe\"] = df_accidents[\"obstacle_fixe\"].replace([\"1 obstacle mobile et 1 obstacle fixe\", \"1 obstacle fixe\"], 1)\n"
   ]
  },
  {
   "cell_type": "markdown",
   "metadata": {},
   "source": [
    "## Sélection de variables\n",
    "Dans un premier temps, on étudie le pouvoir prédictif des variables explicatives. \\\n",
    "Le V de Cramer mesure l'association entre la variable explicative et la variable cible \"gravité\". On a réalisé un test d'indépendance du Chi-2. Si la p-valeur est inférieur à 0.05, alors l'hypothèse nulle d'indépendance est rejetée et il existe une dépendance entre la variable explicative et la variable cible. \\\n",
    "On retrouve ci-dessous les différentes valeurs de V de Cramer et de p-valeurs."
   ]
  },
  {
   "cell_type": "code",
   "execution_count": 27,
   "metadata": {},
   "outputs": [
    {
     "data": {
      "text/html": [
       "<div>\n",
       "<style scoped>\n",
       "    .dataframe tbody tr th:only-of-type {\n",
       "        vertical-align: middle;\n",
       "    }\n",
       "\n",
       "    .dataframe tbody tr th {\n",
       "        vertical-align: top;\n",
       "    }\n",
       "\n",
       "    .dataframe thead th {\n",
       "        text-align: right;\n",
       "    }\n",
       "</style>\n",
       "<table border=\"1\" class=\"dataframe\">\n",
       "  <thead>\n",
       "    <tr style=\"text-align: right;\">\n",
       "      <th></th>\n",
       "      <th>V de Cramer</th>\n",
       "      <th>p_value</th>\n",
       "    </tr>\n",
       "  </thead>\n",
       "  <tbody>\n",
       "    <tr>\n",
       "      <th>situ</th>\n",
       "      <td>0.288</td>\n",
       "      <td>0.000</td>\n",
       "    </tr>\n",
       "    <tr>\n",
       "      <th>obstacle_fixe</th>\n",
       "      <td>0.206</td>\n",
       "      <td>0.000</td>\n",
       "    </tr>\n",
       "    <tr>\n",
       "      <th>agglo</th>\n",
       "      <td>0.209</td>\n",
       "      <td>0.001</td>\n",
       "    </tr>\n",
       "    <tr>\n",
       "      <th>catr</th>\n",
       "      <td>0.221</td>\n",
       "      <td>0.001</td>\n",
       "    </tr>\n",
       "    <tr>\n",
       "      <th>circ</th>\n",
       "      <td>0.200</td>\n",
       "      <td>0.001</td>\n",
       "    </tr>\n",
       "    <tr>\n",
       "      <th>lum</th>\n",
       "      <td>0.191</td>\n",
       "      <td>0.002</td>\n",
       "    </tr>\n",
       "    <tr>\n",
       "      <th>plan</th>\n",
       "      <td>0.151</td>\n",
       "      <td>0.032</td>\n",
       "    </tr>\n",
       "    <tr>\n",
       "      <th>collision</th>\n",
       "      <td>0.139</td>\n",
       "      <td>0.051</td>\n",
       "    </tr>\n",
       "    <tr>\n",
       "      <th>prof</th>\n",
       "      <td>0.095</td>\n",
       "      <td>0.261</td>\n",
       "    </tr>\n",
       "    <tr>\n",
       "      <th>atm</th>\n",
       "      <td>0.080</td>\n",
       "      <td>0.465</td>\n",
       "    </tr>\n",
       "    <tr>\n",
       "      <th>int</th>\n",
       "      <td>0.072</td>\n",
       "      <td>0.552</td>\n",
       "    </tr>\n",
       "    <tr>\n",
       "      <th>infra</th>\n",
       "      <td>0.072</td>\n",
       "      <td>0.562</td>\n",
       "    </tr>\n",
       "    <tr>\n",
       "      <th>surf</th>\n",
       "      <td>0.027</td>\n",
       "      <td>0.895</td>\n",
       "    </tr>\n",
       "    <tr>\n",
       "      <th>pieton</th>\n",
       "      <td>0.006</td>\n",
       "      <td>0.995</td>\n",
       "    </tr>\n",
       "  </tbody>\n",
       "</table>\n",
       "</div>"
      ],
      "text/plain": [
       "               V de Cramer  p_value\n",
       "situ                 0.288    0.000\n",
       "obstacle_fixe        0.206    0.000\n",
       "agglo                0.209    0.001\n",
       "catr                 0.221    0.001\n",
       "circ                 0.200    0.001\n",
       "lum                  0.191    0.002\n",
       "plan                 0.151    0.032\n",
       "collision            0.139    0.051\n",
       "prof                 0.095    0.261\n",
       "atm                  0.080    0.465\n",
       "int                  0.072    0.552\n",
       "infra                0.072    0.562\n",
       "surf                 0.027    0.895\n",
       "pieton               0.006    0.995"
      ]
     },
     "execution_count": 27,
     "metadata": {},
     "output_type": "execute_result"
    }
   ],
   "source": [
    "colonne = [\"agglo\", \"lum\", \"int\", \"collision\", \"atm\", \"catr\", \"circ\", \"surf\", \"prof\", \"plan\", \"infra\", \"situ\", \"obstacle_fixe\", \"pieton\"]\n",
    "\n",
    "def cramers(df):\n",
    "    L_cramer = []\n",
    "    L_pvalue = []\n",
    "    L_var = []\n",
    "    for elem in colonne :\n",
    "        crosstab = pd.crosstab(df[elem], df.gravite, margins = True, normalize = 'index')*100\n",
    "        chi2 = ss.chi2_contingency(crosstab)[0]\n",
    "        p_value = round(ss.chi2_contingency(crosstab)[1], 3)\n",
    "        n = sum(crosstab.sum())\n",
    "        VCramer = round(np.sqrt(chi2 / (n*(min(crosstab.shape)-1))), 3)\n",
    "        #print(\"Pour la variable \" + elem + \", le V de Cramer est : \" + VCramer.astype(str))\n",
    "        #print(\"La p-valeur du test du Chi-2 est : \" + p_value.astype(str))\n",
    "        L_cramer.append(VCramer)\n",
    "        L_pvalue.append(p_value)\n",
    "        L_var.append(elem)\n",
    "    tableau = np.array([L_cramer, L_pvalue])\n",
    "    pd_tableau = pd.DataFrame(tableau.T, index = L_var, columns = ['V de Cramer', 'p_value'])\n",
    "    return pd_tableau.sort_values(\"p_value\")\n",
    "\n",
    "cramers(df_accidents)"
   ]
  },
  {
   "cell_type": "markdown",
   "metadata": {},
   "source": [
    "Ainsi, les variables utilisées seront Catr (le type de route), Situ (lieu de l'accident), Agglo (si l'accident a lieu en agglomération), Circ (le sens de circulation), Lum (la lminosité), plan (si la route est rectiligne ou courbée) et collision."
   ]
  },
  {
   "cell_type": "markdown",
   "metadata": {},
   "source": [
    "Créer les indicatrices nécessaires"
   ]
  },
  {
   "cell_type": "code",
   "execution_count": 32,
   "metadata": {},
   "outputs": [],
   "source": [
    "# Variable cible :\n",
    "df_accidents[\"y\"] = (df_accidents[\"gravite\"]==2).astype(int)\n",
    "\n",
    "\n",
    "# Variables explicatives :\n",
    "df_accidents[\"Sans collision\"] = pd.get_dummies(df_accidents[\"collision\"])[\"Sans collision\"]\n",
    "df_accidents[\"Autre collision\"] = pd.get_dummies(df_accidents[\"collision\"])[\"autre\"]\n",
    "\n",
    "df_accidents[\"Route dep ou nationale\"] = pd.get_dummies(df_accidents[\"catr\"])[\"Route départementale ou nationale + Autre\"]\n",
    "\n",
    "df_accidents[\"Sur accotement\"] = pd.get_dummies(df_accidents[\"situ\"])[\"Sur accotement\"]\n",
    "df_accidents[\"Autre lieu de l'accident\"] = pd.get_dummies(df_accidents[\"situ\"])[\"Autre\"]\n",
    "\n",
    "df_accidents[\"Hors agglomeration\"] = pd.get_dummies(df_accidents[\"agglo\"])[\"Hors agglomeration\"]\n",
    "\n",
    "df_accidents[\"A chaussées séparées\"] = pd.get_dummies(df_accidents[\"circ\"])[\"A chaussées séparées\"]\n",
    "df_accidents[\"Bidirectionnelle\"] = pd.get_dummies(df_accidents[\"circ\"])[\"Bidirectionnelle\"]\n",
    "\n",
    "df_accidents[\"Nuit sans éclairage\"] = pd.get_dummies(df_accidents[\"lum\"])[\"Nuit sans éclairage public\"]\n",
    "df_accidents[\"Plein jour\"] = pd.get_dummies(df_accidents[\"lum\"])[\"Plein jour\"]\n",
    "\n",
    "df_accidents[\"Courbe\"] = pd.get_dummies(df_accidents[\"plan\"])[\"Courbe\"]"
   ]
  },
  {
   "cell_type": "code",
   "execution_count": 37,
   "metadata": {},
   "outputs": [
    {
     "data": {
      "text/plain": [
       "0      51035\n",
       "1      13620\n",
       "NaN       61\n",
       "Name: obstacle_fixe, dtype: int64"
      ]
     },
     "execution_count": 37,
     "metadata": {},
     "output_type": "execute_result"
    }
   ],
   "source": [
    "df_accidents[\"obstacle_fixe\"].value_counts()"
   ]
  },
  {
   "cell_type": "code",
   "execution_count": 128,
   "metadata": {},
   "outputs": [],
   "source": [
    "#data = pd.get_dummies(df_accidents[col],drop_first=True)"
   ]
  },
  {
   "cell_type": "markdown",
   "metadata": {},
   "source": [
    "Créer les échantillons de test et d'apprentissage"
   ]
  },
  {
   "cell_type": "code",
   "execution_count": 43,
   "metadata": {},
   "outputs": [],
   "source": [
    "# Les variables explicatives sous forme d'indicatrices\n",
    "col = [\"Route dep ou nationale\", \"Sur accotement\", \"Autre lieu de l'accident\", \"Hors agglomeration\",\n",
    "       \"A chaussées séparées\", \"Bidirectionnelle\", \"Nuit sans éclairage\", \"Plein jour\",\n",
    "       \"Sans collision\", \"Autre collision\", \"Courbe\"]\n",
    "\n",
    "# Créer de la base de donner avec uniquement les variables explicatives\n",
    "df_temp = df_accidents[col]\n",
    "\n",
    "# Création des échantillons de test et d'apprentissage\n",
    "xTrain, xTest, yTrain, yTest = train_test_split(df_temp, df_accidents[\"y\"].values.ravel(), test_size = 0.2, random_state = 0)"
   ]
  },
  {
   "cell_type": "markdown",
   "metadata": {},
   "source": [
    "## Modélisation et performance du modèle"
   ]
  },
  {
   "cell_type": "markdown",
   "metadata": {},
   "source": [
    "Nous allons étudier différents types de modèles :\n",
    "* Classification\n",
    "* Régression linéaire\n",
    "* Arbre de décision\n",
    "\n",
    "Pour cela, nous codons des fonctions pour tracer les courbes ROC et les matrices de confusion.\n",
    "\n",
    "### Fonctions utiles"
   ]
  },
  {
   "cell_type": "code",
   "execution_count": 110,
   "metadata": {},
   "outputs": [],
   "source": [
    "import matplotlib.pyplot as plt\n",
    "def courbe_roc(modele, prob_pred, y) :\n",
    "    prob_sans_modele = [0 for _ in range(len(y))]\n",
    "    # predict probabilities\n",
    "    #prob_pred = modele.predict_proba(x)\n",
    "    # keep probabilities for the positive outcome only\n",
    "    #prob_pred = prob_pred[:, 1]\n",
    "    # calculate scores\n",
    "    auc_sans_modele = roc_auc_score(y, prob_sans_modele)\n",
    "    auc = roc_auc_score(y, prob_pred)\n",
    "    # summarize scores\n",
    "    print('Modèle aléatoire : ROC AUC=%.3f' % (auc_sans_modele))\n",
    "    print('Modèle logistique : ROC AUC=%.3f' % (auc))\n",
    "    # calculate roc curves\n",
    "    fpr_sans_modele, tpr_sans_modele, _ = roc_curve(y, prob_sans_modele)\n",
    "    fpr, tpr, _ = roc_curve(y, prob_pred)\n",
    "    # plot the roc curve for the model\n",
    "    plt.plot(fpr_sans_modele, tpr_sans_modele, linestyle='--', label='Modèle aléatoire')\n",
    "    plt.plot(fpr, tpr, label='Modèle logistique')\n",
    "    # axis labels\n",
    "    plt.xlabel('Taux de vrais positifs')\n",
    "    plt.ylabel('Taux de faux positifs')\n",
    "    # show the legend\n",
    "    plt.legend()\n",
    "    # show the plot\n",
    "    plt.show() "
   ]
  },
  {
   "cell_type": "code",
   "execution_count": 40,
   "metadata": {},
   "outputs": [],
   "source": [
    "def matrice_confusion(modele) :\n",
    "    sklearn.metrics.plot_confusion_matrix(modele, xTest, yTest)\n",
    "    plt.show()"
   ]
  },
  {
   "cell_type": "markdown",
   "metadata": {},
   "source": [
    "### Classification\n",
    "On réalise une classification comme dans le TP vu en cours (expliquer le principe ?)"
   ]
  },
  {
   "cell_type": "code",
   "execution_count": 111,
   "metadata": {},
   "outputs": [
    {
     "ename": "NameError",
     "evalue": "name 'clf' is not defined",
     "output_type": "error",
     "traceback": [
      "\u001b[0;31m---------------------------------------------------------------------------\u001b[0m",
      "\u001b[0;31mNameError\u001b[0m                                 Traceback (most recent call last)",
      "\u001b[0;32m<ipython-input-111-acf6c4e624c9>\u001b[0m in \u001b[0;36m<module>\u001b[0;34m\u001b[0m\n\u001b[1;32m      1\u001b[0m \u001b[0mclassification\u001b[0m \u001b[0;34m=\u001b[0m \u001b[0msvm\u001b[0m\u001b[0;34m.\u001b[0m\u001b[0mSVC\u001b[0m\u001b[0;34m(\u001b[0m\u001b[0mkernel\u001b[0m\u001b[0;34m=\u001b[0m\u001b[0;34m'linear'\u001b[0m\u001b[0;34m,\u001b[0m \u001b[0mC\u001b[0m\u001b[0;34m=\u001b[0m\u001b[0;36m1\u001b[0m\u001b[0;34m,\u001b[0m \u001b[0mprobability\u001b[0m \u001b[0;34m=\u001b[0m \u001b[0;32mTrue\u001b[0m\u001b[0;34m)\u001b[0m\u001b[0;34m.\u001b[0m\u001b[0mfit\u001b[0m\u001b[0;34m(\u001b[0m\u001b[0mxTrain\u001b[0m\u001b[0;34m,\u001b[0m \u001b[0myTrain\u001b[0m\u001b[0;34m)\u001b[0m\u001b[0;34m\u001b[0m\u001b[0;34m\u001b[0m\u001b[0m\n\u001b[0;32m----> 2\u001b[0;31m \u001b[0my_pred\u001b[0m \u001b[0;34m=\u001b[0m \u001b[0mclf\u001b[0m\u001b[0;34m.\u001b[0m\u001b[0mpredict\u001b[0m\u001b[0;34m(\u001b[0m\u001b[0mxTest\u001b[0m\u001b[0;34m)\u001b[0m\u001b[0;34m\u001b[0m\u001b[0;34m\u001b[0m\u001b[0m\n\u001b[0m",
      "\u001b[0;31mNameError\u001b[0m: name 'clf' is not defined"
     ]
    }
   ],
   "source": [
    "classification = svm.SVC(kernel='linear', C=1, probability = True).fit(xTrain, yTrain)\n",
    "y_pred = classification.predict(xTest)"
   ]
  },
  {
   "cell_type": "code",
   "execution_count": 57,
   "metadata": {},
   "outputs": [],
   "source": [
    "# Les indicateurs (cf le TP sur la classification)\n",
    "sc_accuracy = sklearn.metrics.accuracy_score(y_pred, yTest)\n",
    "sc_f1 = sklearn.metrics.f1_score(y_pred, yTest)\n",
    "sc_recall = sklearn.metrics.recall_score(y_pred, yTest)\n",
    "sc_precision = sklearn.metrics.precision_score(y_pred, yTest)"
   ]
  },
  {
   "cell_type": "code",
   "execution_count": 58,
   "metadata": {},
   "outputs": [
    {
     "name": "stdout",
     "output_type": "stream",
     "text": [
      "0.7203433038749151\n",
      "0.5213090909090909\n",
      "0.6624768946395564\n",
      "0.42973621103117504\n"
     ]
    }
   ],
   "source": [
    "print(sc_accuracy)\n",
    "print(sc_f1)\n",
    "print(sc_recall)\n",
    "print(sc_precision)"
   ]
  },
  {
   "cell_type": "code",
   "execution_count": 86,
   "metadata": {},
   "outputs": [
    {
     "name": "stdout",
     "output_type": "stream",
     "text": [
      "Modèle aléatoire : ROC AUC=0.500\n",
      "Modèle logistique : ROC AUC=0.713\n"
     ]
    },
    {
     "data": {
      "image/png": "[encoded data removed]",
      "text/plain": [
       "<Figure size 432x288 with 1 Axes>"
      ]
     },
     "metadata": {
      "needs_background": "light"
     },
     "output_type": "display_data"
    }
   ],
   "source": [
    "courbe_roc(classification, classification.predict_proba(xTest)[:, 1], yTest)"
   ]
  },
  {
   "cell_type": "code",
   "execution_count": 81,
   "metadata": {},
   "outputs": [
    {
     "data": {
      "image/png": "[encoded data removed]",
      "text/plain": [
       "<Figure size 432x288 with 2 Axes>"
      ]
     },
     "metadata": {
      "needs_background": "light"
     },
     "output_type": "display_data"
    }
   ],
   "source": [
    "matrice_confusion(classification)"
   ]
  },
  {
   "cell_type": "markdown",
   "metadata": {},
   "source": [
    "### Régression logistique"
   ]
  },
  {
   "cell_type": "code",
   "execution_count": 70,
   "metadata": {},
   "outputs": [
    {
     "name": "stdout",
     "output_type": "stream",
     "text": [
      "Optimization terminated successfully.\n",
      "         Current function value: 0.569682\n",
      "         Iterations 6\n"
     ]
    }
   ],
   "source": [
    "import statsmodels as sm\n",
    "from statsmodels.tools import add_constant\n",
    "XTrainBis = sm.tools.add_constant(xTrain)\n",
    "\n",
    "from statsmodels.api import Logit\n",
    "#régression logistique - on passe la cible et les explicatives\n",
    "modele_logistique = Logit(endog=yTrain,exog=XTrainBis).fit()"
   ]
  },
  {
   "cell_type": "code",
   "execution_count": 46,
   "metadata": {},
   "outputs": [
    {
     "name": "stdout",
     "output_type": "stream",
     "text": [
      "                           Logit Regression Results                           \n",
      "==============================================================================\n",
      "Dep. Variable:                      y   No. Observations:                51772\n",
      "Model:                          Logit   Df Residuals:                    51760\n",
      "Method:                           MLE   Df Model:                           11\n",
      "Date:                Thu, 30 Dec 2021   Pseudo R-squ.:                  0.1311\n",
      "Time:                        21:00:41   Log-Likelihood:                -29494.\n",
      "converged:                       True   LL-Null:                       -33942.\n",
      "Covariance Type:            nonrobust   LLR p-value:                     0.000\n",
      "============================================================================================\n",
      "                               coef    std err          z      P>|z|      [0.025      0.975]\n",
      "--------------------------------------------------------------------------------------------\n",
      "const                       -2.2296      0.036    -61.748      0.000      -2.300      -2.159\n",
      "Route dep ou nationale       0.7356      0.021     34.657      0.000       0.694       0.777\n",
      "Sur accotement               0.6240      0.043     14.395      0.000       0.539       0.709\n",
      "Autre lieu de l'accident     0.5011      0.040     12.373      0.000       0.422       0.580\n",
      "Hors agglomeration           0.8755      0.024     36.146      0.000       0.828       0.923\n",
      "A chaussées séparées         0.0125      0.036      0.342      0.732      -0.059       0.084\n",
      "Bidirectionnelle             0.8854      0.027     32.841      0.000       0.833       0.938\n",
      "Nuit sans éclairage          0.2873      0.042      6.864      0.000       0.205       0.369\n",
      "Plein jour                   0.0267      0.029      0.922      0.356      -0.030       0.084\n",
      "Sans collision               0.4087      0.036     11.340      0.000       0.338       0.479\n",
      "Autre collision              0.5147      0.023     22.013      0.000       0.469       0.561\n",
      "Courbe                       0.2743      0.026     10.599      0.000       0.224       0.325\n",
      "============================================================================================\n"
     ]
    }
   ],
   "source": [
    "print(modele_logistique.summary())"
   ]
  },
  {
   "cell_type": "markdown",
   "metadata": {},
   "source": [
    "On remarque que les variables \"A chaussées séparées\" (circ) et \"Plein jour\" (lum) ne sont pas significatives au seuil de 5%. On regroupe donc la modalité plein jour avec la modalité \"Nuit avec éclairage public allumé\" et la modalité \"Chaussées Séparées\" avec \"A sens unique\"."
   ]
  },
  {
   "cell_type": "code",
   "execution_count": 68,
   "metadata": {},
   "outputs": [],
   "source": [
    "# Les variables explicatives sous forme d'indicatrices\n",
    "col2 = [\"Route dep ou nationale\", \"Sur accotement\", \"Autre lieu de l'accident\", \"Hors agglomeration\",\n",
    "       \"Bidirectionnelle\", \"Nuit sans éclairage\",\n",
    "       \"Sans collision\", \"Autre collision\", \"Courbe\"]\n",
    "\n",
    "# Créer de la base de donner avec uniquement les variables explicatives\n",
    "df_temp2 = df_accidents[col2]\n",
    "\n",
    "# Création des échantillons de test et d'apprentissage\n",
    "xTrain2, xTest2, yTrain2, yTest2 = train_test_split(df_temp2, df_accidents[\"y\"].values.ravel(), test_size = 0.2, random_state = 0)"
   ]
  },
  {
   "cell_type": "code",
   "execution_count": 69,
   "metadata": {},
   "outputs": [
    {
     "name": "stdout",
     "output_type": "stream",
     "text": [
      "Optimization terminated successfully.\n",
      "         Current function value: 0.569691\n",
      "         Iterations 5\n"
     ]
    },
    {
     "name": "stderr",
     "output_type": "stream",
     "text": [
      "/Users/cloclo/opt/anaconda3/lib/python3.7/site-packages/statsmodels/tsa/tsatools.py:130: FutureWarning: In a future version of pandas all arguments of concat except for the argument 'objs' will be keyword-only\n",
      "  x = pd.concat(x[::order], 1)\n"
     ]
    }
   ],
   "source": [
    "modele_logistique_2 = Logit(endog=yTrain2,exog=sm.tools.add_constant(xTrain2)).fit()"
   ]
  },
  {
   "cell_type": "code",
   "execution_count": 72,
   "metadata": {},
   "outputs": [
    {
     "name": "stdout",
     "output_type": "stream",
     "text": [
      "                           Logit Regression Results                           \n",
      "==============================================================================\n",
      "Dep. Variable:                      y   No. Observations:                51772\n",
      "Model:                          Logit   Df Residuals:                    51762\n",
      "Method:                           MLE   Df Model:                            9\n",
      "Date:                Fri, 31 Dec 2021   Pseudo R-squ.:                  0.1310\n",
      "Time:                        14:20:49   Log-Likelihood:                -29494.\n",
      "converged:                       True   LL-Null:                       -33942.\n",
      "Covariance Type:            nonrobust   LLR p-value:                     0.000\n",
      "============================================================================================\n",
      "                               coef    std err          z      P>|z|      [0.025      0.975]\n",
      "--------------------------------------------------------------------------------------------\n",
      "const                       -2.2041      0.024    -91.101      0.000      -2.252      -2.157\n",
      "Route dep ou nationale       0.7352      0.021     34.680      0.000       0.694       0.777\n",
      "Sur accotement               0.6250      0.043     14.421      0.000       0.540       0.710\n",
      "Autre lieu de l'accident     0.5013      0.040     12.381      0.000       0.422       0.581\n",
      "Hors agglomeration           0.8816      0.023     37.962      0.000       0.836       0.927\n",
      "Bidirectionnelle             0.8809      0.022     39.569      0.000       0.837       0.925\n",
      "Nuit sans éclairage          0.2639      0.033      8.049      0.000       0.200       0.328\n",
      "Sans collision               0.4074      0.036     11.315      0.000       0.337       0.478\n",
      "Autre collision              0.5135      0.023     21.995      0.000       0.468       0.559\n",
      "Courbe                       0.2735      0.026     10.609      0.000       0.223       0.324\n",
      "============================================================================================\n"
     ]
    }
   ],
   "source": [
    "print(modele_logistique_2.summary())"
   ]
  },
  {
   "cell_type": "markdown",
   "metadata": {},
   "source": [
    "#### Interprétation des coefficients :"
   ]
  },
  {
   "cell_type": "markdown",
   "metadata": {},
   "source": [
    "Pour interprêter les coefficients, on utilise les odd ratios. Il y a plus de risque que l'accident soit grave s'il a lieu sur une route département ou nationale, hors agglomération, sur une route bidirectionnelle, sans éclarage."
   ]
  },
  {
   "cell_type": "code",
   "execution_count": 79,
   "metadata": {},
   "outputs": [
    {
     "data": {
      "text/html": [
       "<div>\n",
       "<style scoped>\n",
       "    .dataframe tbody tr th:only-of-type {\n",
       "        vertical-align: middle;\n",
       "    }\n",
       "\n",
       "    .dataframe tbody tr th {\n",
       "        vertical-align: top;\n",
       "    }\n",
       "\n",
       "    .dataframe thead th {\n",
       "        text-align: right;\n",
       "    }\n",
       "</style>\n",
       "<table border=\"1\" class=\"dataframe\">\n",
       "  <thead>\n",
       "    <tr style=\"text-align: right;\">\n",
       "      <th></th>\n",
       "      <th>Coefficient</th>\n",
       "      <th>Odd Ratio</th>\n",
       "      <th>p-value</th>\n",
       "      <th>2.5%</th>\n",
       "      <th>97.5%</th>\n",
       "    </tr>\n",
       "  </thead>\n",
       "  <tbody>\n",
       "    <tr>\n",
       "      <th>const</th>\n",
       "      <td>-2.204127</td>\n",
       "      <td>0.110347</td>\n",
       "      <td>0.000000e+00</td>\n",
       "      <td>0.105236</td>\n",
       "      <td>0.115706</td>\n",
       "    </tr>\n",
       "    <tr>\n",
       "      <th>Route dep ou nationale</th>\n",
       "      <td>0.735244</td>\n",
       "      <td>2.085991</td>\n",
       "      <td>1.592760e-263</td>\n",
       "      <td>2.001088</td>\n",
       "      <td>2.174497</td>\n",
       "    </tr>\n",
       "    <tr>\n",
       "      <th>Sur accotement</th>\n",
       "      <td>0.624996</td>\n",
       "      <td>1.868238</td>\n",
       "      <td>3.823150e-47</td>\n",
       "      <td>1.716095</td>\n",
       "      <td>2.033868</td>\n",
       "    </tr>\n",
       "    <tr>\n",
       "      <th>Autre lieu de l'accident</th>\n",
       "      <td>0.501348</td>\n",
       "      <td>1.650946</td>\n",
       "      <td>3.319527e-35</td>\n",
       "      <td>1.524981</td>\n",
       "      <td>1.787316</td>\n",
       "    </tr>\n",
       "    <tr>\n",
       "      <th>Hors agglomeration</th>\n",
       "      <td>0.881570</td>\n",
       "      <td>2.414687</td>\n",
       "      <td>0.000000e+00</td>\n",
       "      <td>2.307246</td>\n",
       "      <td>2.527132</td>\n",
       "    </tr>\n",
       "    <tr>\n",
       "      <th>Bidirectionnelle</th>\n",
       "      <td>0.880892</td>\n",
       "      <td>2.413050</td>\n",
       "      <td>0.000000e+00</td>\n",
       "      <td>2.310026</td>\n",
       "      <td>2.520669</td>\n",
       "    </tr>\n",
       "    <tr>\n",
       "      <th>Nuit sans éclairage</th>\n",
       "      <td>0.263875</td>\n",
       "      <td>1.301965</td>\n",
       "      <td>8.328482e-16</td>\n",
       "      <td>1.220942</td>\n",
       "      <td>1.388366</td>\n",
       "    </tr>\n",
       "    <tr>\n",
       "      <th>Sans collision</th>\n",
       "      <td>0.407389</td>\n",
       "      <td>1.502889</td>\n",
       "      <td>1.101387e-29</td>\n",
       "      <td>1.400493</td>\n",
       "      <td>1.612772</td>\n",
       "    </tr>\n",
       "    <tr>\n",
       "      <th>Autre collision</th>\n",
       "      <td>0.513477</td>\n",
       "      <td>1.671091</td>\n",
       "      <td>3.206670e-107</td>\n",
       "      <td>1.596352</td>\n",
       "      <td>1.749328</td>\n",
       "    </tr>\n",
       "    <tr>\n",
       "      <th>Courbe</th>\n",
       "      <td>0.273519</td>\n",
       "      <td>1.314582</td>\n",
       "      <td>2.699425e-26</td>\n",
       "      <td>1.249806</td>\n",
       "      <td>1.382715</td>\n",
       "    </tr>\n",
       "  </tbody>\n",
       "</table>\n",
       "</div>"
      ],
      "text/plain": [
       "                          Coefficient  Odd Ratio        p-value      2.5%  \\\n",
       "const                       -2.204127   0.110347   0.000000e+00  0.105236   \n",
       "Route dep ou nationale       0.735244   2.085991  1.592760e-263  2.001088   \n",
       "Sur accotement               0.624996   1.868238   3.823150e-47  1.716095   \n",
       "Autre lieu de l'accident     0.501348   1.650946   3.319527e-35  1.524981   \n",
       "Hors agglomeration           0.881570   2.414687   0.000000e+00  2.307246   \n",
       "Bidirectionnelle             0.880892   2.413050   0.000000e+00  2.310026   \n",
       "Nuit sans éclairage          0.263875   1.301965   8.328482e-16  1.220942   \n",
       "Sans collision               0.407389   1.502889   1.101387e-29  1.400493   \n",
       "Autre collision              0.513477   1.671091  3.206670e-107  1.596352   \n",
       "Courbe                       0.273519   1.314582   2.699425e-26  1.249806   \n",
       "\n",
       "                             97.5%  \n",
       "const                     0.115706  \n",
       "Route dep ou nationale    2.174497  \n",
       "Sur accotement            2.033868  \n",
       "Autre lieu de l'accident  1.787316  \n",
       "Hors agglomeration        2.527132  \n",
       "Bidirectionnelle          2.520669  \n",
       "Nuit sans éclairage       1.388366  \n",
       "Sans collision            1.612772  \n",
       "Autre collision           1.749328  \n",
       "Courbe                    1.382715  "
      ]
     },
     "execution_count": 79,
     "metadata": {},
     "output_type": "execute_result"
    }
   ],
   "source": [
    "model_odds = pd.DataFrame(modele_logistique_2.params, columns= ['Coefficient'])\n",
    "model_odds[\"Odd Ratio\"] = np.exp(modele_logistique_2.params)\n",
    "model_odds['p-value']= modele_logistique_2.pvalues\n",
    "model_odds[['2.5%', '97.5%']] = np.exp(modele_logistique_2.conf_int())\n",
    "\n",
    "model_odds"
   ]
  },
  {
   "cell_type": "markdown",
   "metadata": {},
   "source": [
    "#### Evaluation de la performance du modele :"
   ]
  },
  {
   "cell_type": "code",
   "execution_count": 109,
   "metadata": {},
   "outputs": [
    {
     "name": "stdout",
     "output_type": "stream",
     "text": [
      "Modèle aléatoire : ROC AUC=0.500\n",
      "Modèle logistique : ROC AUC=0.731\n"
     ]
    },
    {
     "data": {
      "image/png": "[encoded data removed]",
      "text/plain": [
       "<Figure size 432x288 with 1 Axes>"
      ]
     },
     "metadata": {
      "needs_background": "light"
     },
     "output_type": "display_data"
    },
    {
     "name": "stdout",
     "output_type": "stream",
     "text": [
      "Modèle aléatoire : ROC AUC=0.500\n",
      "Modèle logistique : ROC AUC=0.733\n"
     ]
    },
    {
     "name": "stderr",
     "output_type": "stream",
     "text": [
      "/Users/cloclo/opt/anaconda3/lib/python3.7/site-packages/statsmodels/tsa/tsatools.py:130: FutureWarning: In a future version of pandas all arguments of concat except for the argument 'objs' will be keyword-only\n",
      "  x = pd.concat(x[::order], 1)\n"
     ]
    },
    {
     "data": {
      "image/png": "[encoded data removed]",
      "text/plain": [
       "<Figure size 432x288 with 1 Axes>"
      ]
     },
     "metadata": {
      "needs_background": "light"
     },
     "output_type": "display_data"
    }
   ],
   "source": [
    "from sklearn.metrics import roc_curve, auc, roc_auc_score\n",
    "from bioinfokit.visuz import stat\n",
    "\n",
    "pred = modele_logistique_2.predict(sm.tools.add_constant(xTest2))\n",
    "courbe_roc(modele_logistique_2, pred, xTest2, yTest2)\n",
    "\n",
    "pred_train = modele_logistique_2.predict(sm.tools.add_constant(xTrain2))\n",
    "courbe_roc(modele_logistique_2, pred_train, xTrain2, yTrain2)"
   ]
  },
  {
   "cell_type": "markdown",
   "metadata": {},
   "source": [
    "### Arbre de décision"
   ]
  },
  {
   "cell_type": "code",
   "execution_count": null,
   "metadata": {},
   "outputs": [],
   "source": []
  }
 ],
 "metadata": {
  "kernelspec": {
   "display_name": "Python 3",
   "language": "python",
   "name": "python3"
  },
  "language_info": {
   "codemirror_mode": {
    "name": "ipython",
    "version": 3
   },
   "file_extension": ".py",
   "mimetype": "text/x-python",
   "name": "python",
   "nbconvert_exporter": "python",
   "pygments_lexer": "ipython3",
   "version": "3.7.6"
  }
 },
 "nbformat": 4,
 "nbformat_minor": 4
}
