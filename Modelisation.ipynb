{
 "cells": [
  {
   "cell_type": "markdown",
   "metadata": {},
   "source": [
    "# <center> Modélisation"
   ]
  },
  {
   "cell_type": "code",
   "execution_count": 2,
   "metadata": {},
   "outputs": [],
   "source": [
    "%run \"./Ouverture_donnees.ipynb\""
   ]
  },
  {
   "cell_type": "markdown",
   "metadata": {},
   "source": [
    "Les importations nécessaires à la modélisation : "
   ]
  },
  {
   "cell_type": "code",
   "execution_count": 3,
   "metadata": {},
   "outputs": [],
   "source": [
    "import scipy.stats as ss\n",
    "import matplotlib.pyplot as plt\n",
    "import pandas as pd\n",
    "import numpy as np\n",
    "from sklearn import svm\n",
    "import sklearn.metrics\n",
    "from sklearn.model_selection import train_test_split\n",
    "from sklearn.model_selection import cross_val_score\n",
    "from sklearn import preprocessing\n",
    "\n",
    "from sklearn.datasets import make_classification\n",
    "from sklearn.linear_model import LogisticRegression\n",
    "from sklearn.metrics import roc_curve\n",
    "from sklearn.metrics import roc_auc_score\n",
    "\n",
    "from sklearn import tree"
   ]
  },
  {
   "cell_type": "code",
   "execution_count": 4,
   "metadata": {},
   "outputs": [],
   "source": [
    "#df_accidents.columns"
   ]
  },
  {
   "cell_type": "markdown",
   "metadata": {},
   "source": [
    "Dans cette section, nous cherchons à prédire la gravité de l'accident grâce aux variables explicatives telles que le type de la collision, le type de la route, la luminosité, etc. \\\n",
    "Pour cela, notre variable cible s'appelle \"gravite\", elle vaut 1 si lors de l'accident, il y a eu au moins un blessé hospitalisé et/ou une personne tuée et elle vaut 0 sinon (les usagers sont soit indemnes, soit des blessés légers)."
   ]
  },
  {
   "cell_type": "markdown",
   "metadata": {},
   "source": [
    "## Préparation des données"
   ]
  },
  {
   "cell_type": "markdown",
   "metadata": {},
   "source": [
    "Pour une meilleure modélisation, il est essentiel d'avoir un nombre de modalités raisonnable. Ainsi, nous regroupons les modalités ensemble si elles correspondent à un pourcentage d'accidents graves proche."
   ]
  },
  {
   "cell_type": "code",
   "execution_count": 5,
   "metadata": {},
   "outputs": [],
   "source": [
    "# Mettre des modalités ensemble :\n",
    "df_accidents[\"collision\"] = df_accidents[\"collision\"].replace([\"2 - frontale\", \"2-arriere\", \"3 vehicules\", \"2-cote\"], \"2 ou 3 véhicules\")\n",
    "\n",
    "df_accidents[\"catr\"] = df_accidents[\"catr\"].replace([\"Route départementale\", \"Route nationale\", \"Autre\"], \"Route départementale ou nationale + Autre\")\n",
    "df_accidents[\"catr\"] = df_accidents[\"catr\"].replace([\"Autoroute\", \"Voie Communale\"], \"Autoroute + Voie Communale\")\n",
    "\n",
    "df_accidents[\"lum\"] = df_accidents[\"lum\"].replace([\"Crépuscule ou aube\"], \"Plein jour\")"
   ]
  },
  {
   "cell_type": "markdown",
   "metadata": {},
   "source": [
    "## Sélection de variables\n",
    "Dans un premier temps, on étudie le pouvoir prédictif des variables explicatives. \\\n",
    "Le V de Cramer mesure l'association entre la variable explicative et la variable cible \"gravité\". On a réalisé un test d'indépendance du Chi-2. Si la p-valeur est inférieur à 0.05, alors l'hypothèse nulle d'indépendance est rejetée et il existe une dépendance entre la variable explicative et la variable cible. \\\n",
    "On retrouve ci-dessous les différentes valeurs de V de Cramer et de p-valeurs."
   ]
  },
  {
   "cell_type": "code",
   "execution_count": 6,
   "metadata": {},
   "outputs": [
    {
     "data": {
      "text/html": [
       "<div>\n",
       "<style scoped>\n",
       "    .dataframe tbody tr th:only-of-type {\n",
       "        vertical-align: middle;\n",
       "    }\n",
       "\n",
       "    .dataframe tbody tr th {\n",
       "        vertical-align: top;\n",
       "    }\n",
       "\n",
       "    .dataframe thead th {\n",
       "        text-align: right;\n",
       "    }\n",
       "</style>\n",
       "<table border=\"1\" class=\"dataframe\">\n",
       "  <thead>\n",
       "    <tr style=\"text-align: right;\">\n",
       "      <th></th>\n",
       "      <th>V de Cramer</th>\n",
       "      <th>p_value</th>\n",
       "    </tr>\n",
       "  </thead>\n",
       "  <tbody>\n",
       "    <tr>\n",
       "      <th>catr</th>\n",
       "      <td>0.225</td>\n",
       "      <td>0.000</td>\n",
       "    </tr>\n",
       "    <tr>\n",
       "      <th>situ</th>\n",
       "      <td>0.298</td>\n",
       "      <td>0.000</td>\n",
       "    </tr>\n",
       "    <tr>\n",
       "      <th>agglo</th>\n",
       "      <td>0.214</td>\n",
       "      <td>0.001</td>\n",
       "    </tr>\n",
       "    <tr>\n",
       "      <th>circ</th>\n",
       "      <td>0.203</td>\n",
       "      <td>0.001</td>\n",
       "    </tr>\n",
       "    <tr>\n",
       "      <th>lum</th>\n",
       "      <td>0.196</td>\n",
       "      <td>0.002</td>\n",
       "    </tr>\n",
       "    <tr>\n",
       "      <th>plan</th>\n",
       "      <td>0.158</td>\n",
       "      <td>0.023</td>\n",
       "    </tr>\n",
       "    <tr>\n",
       "      <th>collision</th>\n",
       "      <td>0.149</td>\n",
       "      <td>0.031</td>\n",
       "    </tr>\n",
       "    <tr>\n",
       "      <th>prof</th>\n",
       "      <td>0.097</td>\n",
       "      <td>0.245</td>\n",
       "    </tr>\n",
       "    <tr>\n",
       "      <th>atm</th>\n",
       "      <td>0.082</td>\n",
       "      <td>0.444</td>\n",
       "    </tr>\n",
       "    <tr>\n",
       "      <th>int</th>\n",
       "      <td>0.081</td>\n",
       "      <td>0.453</td>\n",
       "    </tr>\n",
       "    <tr>\n",
       "      <th>infra</th>\n",
       "      <td>0.069</td>\n",
       "      <td>0.598</td>\n",
       "    </tr>\n",
       "    <tr>\n",
       "      <th>surf</th>\n",
       "      <td>0.025</td>\n",
       "      <td>0.910</td>\n",
       "    </tr>\n",
       "  </tbody>\n",
       "</table>\n",
       "</div>"
      ],
      "text/plain": [
       "           V de Cramer  p_value\n",
       "catr             0.225    0.000\n",
       "situ             0.298    0.000\n",
       "agglo            0.214    0.001\n",
       "circ             0.203    0.001\n",
       "lum              0.196    0.002\n",
       "plan             0.158    0.023\n",
       "collision        0.149    0.031\n",
       "prof             0.097    0.245\n",
       "atm              0.082    0.444\n",
       "int              0.081    0.453\n",
       "infra            0.069    0.598\n",
       "surf             0.025    0.910"
      ]
     },
     "execution_count": 6,
     "metadata": {},
     "output_type": "execute_result"
    }
   ],
   "source": [
    "colonne = [\"agglo\", \"lum\", \"int\", \"collision\", \"atm\", \"catr\", \"circ\", \"surf\", \"prof\", \"plan\", \"infra\", \"situ\"]\n",
    "\n",
    "def cramers(df):\n",
    "    L_cramer = []\n",
    "    L_pvalue = []\n",
    "    L_var = []\n",
    "    for elem in colonne :\n",
    "        crosstab = pd.crosstab(df[elem], df.gravite, margins = True, normalize = 'index')*100\n",
    "        chi2 = ss.chi2_contingency(crosstab)[0]\n",
    "        p_value = round(ss.chi2_contingency(crosstab)[1], 3)\n",
    "        n = sum(crosstab.sum())\n",
    "        VCramer = round(np.sqrt(chi2 / (n*(min(crosstab.shape)-1))), 3)\n",
    "        #print(\"Pour la variable \" + elem + \", le V de Cramer est : \" + VCramer.astype(str))\n",
    "        #print(\"La p-valeur du test du Chi-2 est : \" + p_value.astype(str))\n",
    "        L_cramer.append(VCramer)\n",
    "        L_pvalue.append(p_value)\n",
    "        L_var.append(elem)\n",
    "    tableau = np.array([L_cramer, L_pvalue])\n",
    "    pd_tableau = pd.DataFrame(tableau.T, index = L_var, columns = ['V de Cramer', 'p_value'])\n",
    "    return pd_tableau.sort_values(\"p_value\")\n",
    "\n",
    "cramers(df_accidents)"
   ]
  },
  {
   "cell_type": "markdown",
   "metadata": {},
   "source": [
    "Ainsi, les variables utilisées seront Catr (le type de route), Situ (lieu de l'accident), Agglo (si l'accident a lieu en agglomération), Circ (le sens de circulation), Lum (la lminosité), plan (si la route est rectiligne ou courbée) et collision."
   ]
  },
  {
   "cell_type": "markdown",
   "metadata": {},
   "source": [
    "Créer les indicatrices nécessaires"
   ]
  },
  {
   "cell_type": "code",
   "execution_count": 7,
   "metadata": {},
   "outputs": [],
   "source": [
    "# Variable cible :\n",
    "df_accidents[\"y\"] = (df_accidents[\"gravite\"]==2).astype(int)\n",
    "\n",
    "\n",
    "# Variables explicatives :\n",
    "df_accidents[\"Sans collision\"] = pd.get_dummies(df_accidents[\"collision\"])[\"Sans collision\"]\n",
    "df_accidents[\"Autre collision\"] = pd.get_dummies(df_accidents[\"collision\"])[\"autre\"]\n",
    "\n",
    "df_accidents[\"Route dep ou nationale\"] = pd.get_dummies(df_accidents[\"catr\"])[\"Route départementale ou nationale + Autre\"]\n",
    "\n",
    "df_accidents[\"Sur accotement\"] = pd.get_dummies(df_accidents[\"situ\"])[\"Sur accotement\"]\n",
    "df_accidents[\"Autre lieu de l'accident\"] = pd.get_dummies(df_accidents[\"situ\"])[\"Autre\"]\n",
    "\n",
    "df_accidents[\"Hors agglomeration\"] = pd.get_dummies(df_accidents[\"agglo\"])[\"Hors agglomeration\"]\n",
    "\n",
    "df_accidents[\"A chaussées séparées\"] = pd.get_dummies(df_accidents[\"circ\"])[\"A chaussées séparées\"]\n",
    "df_accidents[\"Bidirectionnelle\"] = pd.get_dummies(df_accidents[\"circ\"])[\"Bidirectionnelle\"]\n",
    "\n",
    "df_accidents[\"Nuit sans éclairage\"] = pd.get_dummies(df_accidents[\"lum\"])[\"Nuit sans éclairage public\"]\n",
    "df_accidents[\"Plein jour\"] = pd.get_dummies(df_accidents[\"lum\"])[\"Plein jour\"]\n",
    "\n",
    "df_accidents[\"Courbe\"] = pd.get_dummies(df_accidents[\"plan\"])[\"Courbe\"]"
   ]
  },
  {
   "cell_type": "code",
   "execution_count": 128,
   "metadata": {},
   "outputs": [],
   "source": [
    "#data = pd.get_dummies(df_accidents[col],drop_first=True)"
   ]
  },
  {
   "cell_type": "markdown",
   "metadata": {},
   "source": [
    "Créer les échantillons de test et d'apprentissage"
   ]
  },
  {
   "cell_type": "code",
   "execution_count": 8,
   "metadata": {},
   "outputs": [],
   "source": [
    "# Les variables explicatives sous forme d'indicatrices\n",
    "col = [\"Route dep ou nationale\", \"Sur accotement\", \"Autre lieu de l'accident\", \"Hors agglomeration\",\n",
    "       \"A chaussées séparées\", \"Bidirectionnelle\", \"Nuit sans éclairage\", \"Plein jour\",\n",
    "       \"Sans collision\", \"Autre collision\", \"Courbe\"]\n",
    "\n",
    "# Créer de la base de donner avec uniquement les variables explicatives\n",
    "df_temp = df_accidents[col]\n",
    "\n",
    "# Création des échantillons de test et d'apprentissage\n",
    "xTrain, xTest, yTrain, yTest = train_test_split(df_temp, df_accidents[\"y\"].values.ravel(), test_size = 0.2, random_state = 0)"
   ]
  },
  {
   "cell_type": "markdown",
   "metadata": {},
   "source": [
    "## Modélisation et performance du modèle"
   ]
  },
  {
   "cell_type": "markdown",
   "metadata": {},
   "source": [
    "Nous allons étudier différents types de modèles :\n",
    "* Classification\n",
    "* Régression linéaire\n",
    "* Arbre de décision\n",
    "\n",
    "Pour cela, nous codons des fonctions pour tracer les courbes ROC et les matrices de confusion.\n",
    "\n",
    "### Fonctions utiles"
   ]
  },
  {
   "cell_type": "code",
   "execution_count": 9,
   "metadata": {},
   "outputs": [],
   "source": [
    "def courbe_roc(modele) :\n",
    "    prob_sans_modele = [0 for _ in range(len(yTest))]\n",
    "    # predict probabilities\n",
    "    prob_pred = modele.predict_proba(xTest)\n",
    "    # keep probabilities for the positive outcome only\n",
    "    prob_pred = prob_pred[:, 1]\n",
    "    # calculate scores\n",
    "    auc_sans_modele = roc_auc_score(yTest, prob_sans_modele)\n",
    "    auc = roc_auc_score(yTest, prob_pred)\n",
    "    # summarize scores\n",
    "    print('Modèle aléatoire : ROC AUC=%.3f' % (auc_sans_modele))\n",
    "    print('Modèle logistique : ROC AUC=%.3f' % (auc))\n",
    "    # calculate roc curves\n",
    "    fpr_sans_modele, tpr_sans_modele, _ = roc_curve(yTest, prob_sans_modele)\n",
    "    fpr, tpr, _ = roc_curve(yTest, prob_pred)\n",
    "    # plot the roc curve for the model\n",
    "    plt.plot(fpr_sans_modele, tpr_sans_modele, linestyle='--', label='Modèle aléatoire')\n",
    "    plt.plot(fpr, tpr, label='Modèle logistique')\n",
    "    # axis labels\n",
    "    plt.xlabel('Taux de vrais positifs')\n",
    "    plt.ylabel('Taux de faux positifs')\n",
    "    # show the legend\n",
    "    plt.legend()\n",
    "    # show the plot\n",
    "    plt.show() "
   ]
  },
  {
   "cell_type": "code",
   "execution_count": 10,
   "metadata": {},
   "outputs": [],
   "source": [
    "def matrice_confusion(modele) :\n",
    "    sklearn.metrics.plot_confusion_matrix(modele, xTest, yTest)\n",
    "    plt.show()"
   ]
  },
  {
   "cell_type": "markdown",
   "metadata": {},
   "source": [
    "### Classification\n",
    "On réalise une classification comme dans le TP vu en cours (expliquer le principe ?)"
   ]
  },
  {
   "cell_type": "code",
   "execution_count": 74,
   "metadata": {},
   "outputs": [],
   "source": [
    "classification = svm.SVC(kernel='linear', C=1, probability = True).fit(xTrain, yTrain)\n",
    "y_pred = clf.predict(xTest)"
   ]
  },
  {
   "cell_type": "code",
   "execution_count": 57,
   "metadata": {},
   "outputs": [],
   "source": [
    "# Les indicateurs (cf le TP sur la classification)\n",
    "sc_accuracy = sklearn.metrics.accuracy_score(y_pred, yTest)\n",
    "sc_f1 = sklearn.metrics.f1_score(y_pred, yTest)\n",
    "sc_recall = sklearn.metrics.recall_score(y_pred, yTest)\n",
    "sc_precision = sklearn.metrics.precision_score(y_pred, yTest)"
   ]
  },
  {
   "cell_type": "code",
   "execution_count": 58,
   "metadata": {},
   "outputs": [
    {
     "name": "stdout",
     "output_type": "stream",
     "text": [
      "0.7203433038749151\n",
      "0.5213090909090909\n",
      "0.6624768946395564\n",
      "0.42973621103117504\n"
     ]
    }
   ],
   "source": [
    "print(sc_accuracy)\n",
    "print(sc_f1)\n",
    "print(sc_recall)\n",
    "print(sc_precision)"
   ]
  },
  {
   "cell_type": "code",
   "execution_count": 86,
   "metadata": {},
   "outputs": [
    {
     "name": "stdout",
     "output_type": "stream",
     "text": [
      "Modèle aléatoire : ROC AUC=0.500\n",
      "Modèle logistique : ROC AUC=0.713\n"
     ]
    },
    {
     "data": {
      "image/png": "[encoded data removed]",
      "text/plain": [
       "<Figure size 432x288 with 1 Axes>"
      ]
     },
     "metadata": {
      "needs_background": "light"
     },
     "output_type": "display_data"
    }
   ],
   "source": [
    "courbe_roc(classification)"
   ]
  },
  {
   "cell_type": "code",
   "execution_count": 81,
   "metadata": {},
   "outputs": [
    {
     "data": {
      "image/png": "[encoded data removed]",
      "text/plain": [
       "<Figure size 432x288 with 2 Axes>"
      ]
     },
     "metadata": {
      "needs_background": "light"
     },
     "output_type": "display_data"
    }
   ],
   "source": [
    "matrice_confusion(classification)"
   ]
  },
  {
   "cell_type": "markdown",
   "metadata": {},
   "source": [
    "### Régression logistique"
   ]
  },
  {
   "cell_type": "code",
   "execution_count": 11,
   "metadata": {},
   "outputs": [
    {
     "name": "stderr",
     "output_type": "stream",
     "text": [
      "/Users/cloclo/opt/anaconda3/lib/python3.7/site-packages/statsmodels/tsa/tsatools.py:130: FutureWarning: In a future version of pandas all arguments of concat except for the argument 'objs' will be keyword-only\n",
      "  x = pd.concat(x[::order], 1)\n"
     ]
    },
    {
     "name": "stdout",
     "output_type": "stream",
     "text": [
      "<class 'pandas.core.frame.DataFrame'>\n",
      "Int64Index: 47072 entries, 126521 to 6056\n",
      "Data columns (total 12 columns):\n",
      " #   Column                    Non-Null Count  Dtype  \n",
      "---  ------                    --------------  -----  \n",
      " 0   const                     47072 non-null  float64\n",
      " 1   Route dep ou nationale    47072 non-null  uint8  \n",
      " 2   Sur accotement            47072 non-null  uint8  \n",
      " 3   Autre lieu de l'accident  47072 non-null  uint8  \n",
      " 4   Hors agglomeration        47072 non-null  uint8  \n",
      " 5   A chaussées séparées      47072 non-null  uint8  \n",
      " 6   Bidirectionnelle          47072 non-null  uint8  \n",
      " 7   Nuit sans éclairage       47072 non-null  uint8  \n",
      " 8   Plein jour                47072 non-null  uint8  \n",
      " 9   Sans collision            47072 non-null  uint8  \n",
      " 10  Autre collision           47072 non-null  uint8  \n",
      " 11  Courbe                    47072 non-null  uint8  \n",
      "dtypes: float64(1), uint8(11)\n",
      "memory usage: 1.2 MB\n",
      "None\n",
      "Optimization terminated successfully.\n",
      "         Current function value: 0.565495\n",
      "         Iterations 6\n"
     ]
    }
   ],
   "source": [
    "import statsmodels as sm\n",
    "from statsmodels.tools import add_constant\n",
    "XTrainBis = sm.tools.add_constant(xTrain)\n",
    "print(XTrainBis.info())\n",
    "\n",
    "from statsmodels.api import Logit\n",
    "#régression logistique - on passe la cible et les explicatives\n",
    "modele_logistique = Logit(endog=yTrain,exog=XTrainBis).fit()"
   ]
  },
  {
   "cell_type": "code",
   "execution_count": 14,
   "metadata": {},
   "outputs": [
    {
     "name": "stdout",
     "output_type": "stream",
     "text": [
      "                           Logit Regression Results                           \n",
      "==============================================================================\n",
      "Dep. Variable:                      y   No. Observations:                47072\n",
      "Model:                          Logit   Df Residuals:                    47060\n",
      "Method:                           MLE   Df Model:                           11\n",
      "Date:                Tue, 28 Dec 2021   Pseudo R-squ.:                  0.1362\n",
      "Time:                        13:52:07   Log-Likelihood:                -26619.\n",
      "converged:                       True   LL-Null:                       -30818.\n",
      "Covariance Type:            nonrobust   LLR p-value:                     0.000\n",
      "============================================================================================\n",
      "                               coef    std err          z      P>|z|      [0.025      0.975]\n",
      "--------------------------------------------------------------------------------------------\n",
      "const                       -2.2406      0.038    -59.425      0.000      -2.315      -2.167\n",
      "Route dep ou nationale       0.7660      0.022     34.347      0.000       0.722       0.810\n",
      "Sur accotement               0.6477      0.044     14.565      0.000       0.561       0.735\n",
      "Autre lieu de l'accident     0.5023      0.042     11.851      0.000       0.419       0.585\n",
      "Hors agglomeration           0.8654      0.026     33.625      0.000       0.815       0.916\n",
      "A chaussées séparées        -0.0417      0.039     -1.074      0.283      -0.118       0.034\n",
      "Bidirectionnelle             0.8658      0.028     30.813      0.000       0.811       0.921\n",
      "Nuit sans éclairage          0.2694      0.044      6.134      0.000       0.183       0.356\n",
      "Plein jour                   0.0179      0.030      0.594      0.552      -0.041       0.077\n",
      "Sans collision               0.4351      0.036     11.942      0.000       0.364       0.506\n",
      "Autre collision              0.5479      0.024     22.546      0.000       0.500       0.596\n",
      "Courbe                       0.2695      0.027      9.928      0.000       0.216       0.323\n",
      "============================================================================================\n"
     ]
    }
   ],
   "source": [
    "print(modele_logistique.summary())"
   ]
  },
  {
   "cell_type": "markdown",
   "metadata": {},
   "source": [
    "On remarque que les variables \"A chaussées séparées\" et \"Plein jour\" ne sont pas significatives au seuil de 5%."
   ]
  },
  {
   "cell_type": "markdown",
   "metadata": {},
   "source": [
    "### Arbre de décision"
   ]
  }
 ],
 "metadata": {
  "kernelspec": {
   "display_name": "Python 3",
   "language": "python",
   "name": "python3"
  },
  "language_info": {
   "codemirror_mode": {
    "name": "ipython",
    "version": 3
   },
   "file_extension": ".py",
   "mimetype": "text/x-python",
   "name": "python",
   "nbconvert_exporter": "python",
   "pygments_lexer": "ipython3",
   "version": "3.7.6"
  }
 },
 "nbformat": 4,
 "nbformat_minor": 4
}
