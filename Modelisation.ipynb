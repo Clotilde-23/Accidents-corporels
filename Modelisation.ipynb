{
 "cells": [
  {
   "cell_type": "markdown",
   "metadata": {},
   "source": [
    "# <center> Modélisation"
   ]
  },
  {
   "cell_type": "code",
   "execution_count": 79,
   "metadata": {},
   "outputs": [],
   "source": [
    "%run \"./Ouverture_donnees.ipynb\""
   ]
  },
  {
   "cell_type": "markdown",
   "metadata": {},
   "source": [
    "Les importations nécessaires à la modélisation : "
   ]
  },
  {
   "cell_type": "code",
   "execution_count": 80,
   "metadata": {},
   "outputs": [],
   "source": [
    "import scipy.stats as ss\n",
    "import matplotlib.pyplot as plt\n",
    "import pandas as pd\n",
    "import numpy as np\n",
    "from sklearn import svm\n",
    "import sklearn.metrics\n",
    "from sklearn.model_selection import train_test_split\n",
    "from sklearn.model_selection import cross_val_score\n",
    "from sklearn import preprocessing\n",
    "from sklearn.linear_model import SGDClassifier\n",
    "from sklearn.calibration import CalibratedClassifierCV\n",
    "from sklearn.neighbors import KNeighborsClassifier\n",
    "from sklearn.cluster import KMeans\n",
    "\n",
    "from sklearn.datasets import make_classification\n",
    "from sklearn.linear_model import LogisticRegression\n",
    "from sklearn.metrics import roc_curve\n",
    "from sklearn.metrics import roc_auc_score\n",
    "\n",
    "from sklearn import tree"
   ]
  },
  {
   "cell_type": "code",
   "execution_count": 81,
   "metadata": {},
   "outputs": [],
   "source": [
    "#df_accidents.columns"
   ]
  },
  {
   "cell_type": "markdown",
   "metadata": {},
   "source": [
    "Dans cette section, nous cherchons à prédire la gravité de l'accident grâce aux variables explicatives telles que le type de la collision, le type de la route, la luminosité, etc. \\\n",
    "Pour cela, notre variable cible s'appelle \"gravite\", elle vaut 1 si lors de l'accident, il y a eu au moins un blessé hospitalisé et/ou une personne tuée et elle vaut 0 sinon (les usagers sont soit indemnes, soit des blessés légers)."
   ]
  },
  {
   "cell_type": "markdown",
   "metadata": {},
   "source": [
    "## Préparation des données"
   ]
  },
  {
   "cell_type": "markdown",
   "metadata": {},
   "source": [
    "Pour une meilleure modélisation, il est essentiel d'avoir un nombre de modalités raisonnable. Ainsi, nous regroupons les modalités ensemble si elles correspondent à un pourcentage d'accidents graves proche."
   ]
  },
  {
   "cell_type": "code",
   "execution_count": 82,
   "metadata": {},
   "outputs": [],
   "source": [
    "# Mettre des modalités ensemble :\n",
    "df_accidents[\"collision\"] = df_accidents[\"collision\"].replace([\"2 - frontale\", \"2-arriere\", \"3 vehicules\", \"2-cote\"], \"2 ou 3 véhicules\")\n",
    "\n",
    "df_accidents[\"catr\"] = df_accidents[\"catr\"].replace([\"Route départementale\", \"Route nationale\", \"Autre\"], \"Route départementale ou nationale + Autre\")\n",
    "df_accidents[\"catr\"] = df_accidents[\"catr\"].replace([\"Autoroute\", \"Voie Communale\"], \"Autoroute + Voie Communale\")\n",
    "\n",
    "df_accidents[\"lum\"] = df_accidents[\"lum\"].replace([\"Crépuscule ou aube\"], \"Plein jour\")"
   ]
  },
  {
   "cell_type": "markdown",
   "metadata": {},
   "source": [
    "## Sélection de variables\n",
    "Dans un premier temps, on étudie le pouvoir prédictif des variables explicatives. \\\n",
    "Le V de Cramer mesure l'association entre la variable explicative et la variable cible \"gravité\". On a réalisé un test d'indépendance du Chi-2. Si la p-valeur est inférieur à 0.05, alors l'hypothèse nulle d'indépendance est rejetée et il existe une dépendance entre la variable explicative et la variable cible. \\\n",
    "On retrouve ci-dessous les différentes valeurs de V de Cramer et de p-valeurs."
   ]
  },
  {
   "cell_type": "code",
   "execution_count": 83,
   "metadata": {},
   "outputs": [
    {
     "data": {
      "text/html": [
       "<div>\n",
       "<style scoped>\n",
       "    .dataframe tbody tr th:only-of-type {\n",
       "        vertical-align: middle;\n",
       "    }\n",
       "\n",
       "    .dataframe tbody tr th {\n",
       "        vertical-align: top;\n",
       "    }\n",
       "\n",
       "    .dataframe thead th {\n",
       "        text-align: right;\n",
       "    }\n",
       "</style>\n",
       "<table border=\"1\" class=\"dataframe\">\n",
       "  <thead>\n",
       "    <tr style=\"text-align: right;\">\n",
       "      <th></th>\n",
       "      <th>V de Cramer</th>\n",
       "      <th>p_value</th>\n",
       "    </tr>\n",
       "  </thead>\n",
       "  <tbody>\n",
       "    <tr>\n",
       "      <th>situ</th>\n",
       "      <td>0.288</td>\n",
       "      <td>0.000</td>\n",
       "    </tr>\n",
       "    <tr>\n",
       "      <th>agglo</th>\n",
       "      <td>0.209</td>\n",
       "      <td>0.001</td>\n",
       "    </tr>\n",
       "    <tr>\n",
       "      <th>catr</th>\n",
       "      <td>0.221</td>\n",
       "      <td>0.001</td>\n",
       "    </tr>\n",
       "    <tr>\n",
       "      <th>circ</th>\n",
       "      <td>0.200</td>\n",
       "      <td>0.001</td>\n",
       "    </tr>\n",
       "    <tr>\n",
       "      <th>lum</th>\n",
       "      <td>0.191</td>\n",
       "      <td>0.002</td>\n",
       "    </tr>\n",
       "    <tr>\n",
       "      <th>plan</th>\n",
       "      <td>0.151</td>\n",
       "      <td>0.032</td>\n",
       "    </tr>\n",
       "    <tr>\n",
       "      <th>collision</th>\n",
       "      <td>0.139</td>\n",
       "      <td>0.051</td>\n",
       "    </tr>\n",
       "    <tr>\n",
       "      <th>prof</th>\n",
       "      <td>0.095</td>\n",
       "      <td>0.261</td>\n",
       "    </tr>\n",
       "    <tr>\n",
       "      <th>atm</th>\n",
       "      <td>0.080</td>\n",
       "      <td>0.465</td>\n",
       "    </tr>\n",
       "    <tr>\n",
       "      <th>int</th>\n",
       "      <td>0.072</td>\n",
       "      <td>0.552</td>\n",
       "    </tr>\n",
       "    <tr>\n",
       "      <th>infra</th>\n",
       "      <td>0.072</td>\n",
       "      <td>0.562</td>\n",
       "    </tr>\n",
       "    <tr>\n",
       "      <th>surf</th>\n",
       "      <td>0.027</td>\n",
       "      <td>0.895</td>\n",
       "    </tr>\n",
       "  </tbody>\n",
       "</table>\n",
       "</div>"
      ],
      "text/plain": [
       "           V de Cramer  p_value\n",
       "situ             0.288    0.000\n",
       "agglo            0.209    0.001\n",
       "catr             0.221    0.001\n",
       "circ             0.200    0.001\n",
       "lum              0.191    0.002\n",
       "plan             0.151    0.032\n",
       "collision        0.139    0.051\n",
       "prof             0.095    0.261\n",
       "atm              0.080    0.465\n",
       "int              0.072    0.552\n",
       "infra            0.072    0.562\n",
       "surf             0.027    0.895"
      ]
     },
     "execution_count": 83,
     "metadata": {},
     "output_type": "execute_result"
    }
   ],
   "source": [
    "colonne = [\"agglo\", \"lum\", \"int\", \"collision\", \"atm\", \"catr\", \"circ\", \"surf\", \"prof\", \"plan\", \"infra\", \"situ\"]\n",
    "\n",
    "def cramers(df):\n",
    "    L_cramer = []\n",
    "    L_pvalue = []\n",
    "    L_var = []\n",
    "    for elem in colonne :\n",
    "        crosstab = pd.crosstab(df[elem], df.gravite, margins = True, normalize = 'index')*100\n",
    "        chi2 = ss.chi2_contingency(crosstab)[0]\n",
    "        p_value = round(ss.chi2_contingency(crosstab)[1], 3)\n",
    "        n = sum(crosstab.sum())\n",
    "        VCramer = round(np.sqrt(chi2 / (n*(min(crosstab.shape)-1))), 3)\n",
    "        #print(\"Pour la variable \" + elem + \", le V de Cramer est : \" + VCramer.astype(str))\n",
    "        #print(\"La p-valeur du test du Chi-2 est : \" + p_value.astype(str))\n",
    "        L_cramer.append(VCramer)\n",
    "        L_pvalue.append(p_value)\n",
    "        L_var.append(elem)\n",
    "    tableau = np.array([L_cramer, L_pvalue])\n",
    "    pd_tableau = pd.DataFrame(tableau.T, index = L_var, columns = ['V de Cramer', 'p_value'])\n",
    "    return pd_tableau.sort_values(\"p_value\")\n",
    "\n",
    "cramers(df_accidents)"
   ]
  },
  {
   "cell_type": "markdown",
   "metadata": {},
   "source": [
    "Ainsi, les variables utilisées seront Catr (le type de route), Situ (lieu de l'accident), Agglo (si l'accident a lieu en agglomération), Circ (le sens de circulation), Lum (la lminosité), plan (si la route est rectiligne ou courbée) et collision."
   ]
  },
  {
   "cell_type": "markdown",
   "metadata": {},
   "source": [
    "Créer les indicatrices nécessaires"
   ]
  },
  {
   "cell_type": "code",
   "execution_count": 84,
   "metadata": {},
   "outputs": [],
   "source": [
    "# Variable cible :\n",
    "df_accidents[\"y\"] = (df_accidents[\"gravite\"]==2).astype(int)\n",
    "\n",
    "\n",
    "# Variables explicatives :\n",
    "df_accidents[\"Sans collision\"] = pd.get_dummies(df_accidents[\"collision\"])[\"Sans collision\"]\n",
    "df_accidents[\"Autre collision\"] = pd.get_dummies(df_accidents[\"collision\"])[\"autre\"]\n",
    "\n",
    "df_accidents[\"Route dep ou nationale\"] = pd.get_dummies(df_accidents[\"catr\"])[\"Route départementale ou nationale + Autre\"]\n",
    "\n",
    "df_accidents[\"Sur accotement\"] = pd.get_dummies(df_accidents[\"situ\"])[\"Sur accotement\"]\n",
    "df_accidents[\"Autre lieu de l'accident\"] = pd.get_dummies(df_accidents[\"situ\"])[\"Autre\"]\n",
    "\n",
    "df_accidents[\"Hors agglomeration\"] = pd.get_dummies(df_accidents[\"agglo\"])[\"Hors agglomeration\"]\n",
    "\n",
    "df_accidents[\"A chaussées séparées\"] = pd.get_dummies(df_accidents[\"circ\"])[\"A chaussées séparées\"]\n",
    "df_accidents[\"Bidirectionnelle\"] = pd.get_dummies(df_accidents[\"circ\"])[\"Bidirectionnelle\"]\n",
    "\n",
    "df_accidents[\"Nuit sans éclairage\"] = pd.get_dummies(df_accidents[\"lum\"])[\"Nuit sans éclairage public\"]\n",
    "df_accidents[\"Plein jour\"] = pd.get_dummies(df_accidents[\"lum\"])[\"Plein jour\"]\n",
    "\n",
    "df_accidents[\"Courbe\"] = pd.get_dummies(df_accidents[\"plan\"])[\"Courbe\"]"
   ]
  },
  {
   "cell_type": "code",
   "execution_count": 85,
   "metadata": {},
   "outputs": [],
   "source": [
    "#data = pd.get_dummies(df_accidents[col],drop_first=True)"
   ]
  },
  {
   "cell_type": "markdown",
   "metadata": {},
   "source": [
    "Créer les échantillons de test et d'apprentissage"
   ]
  },
  {
   "cell_type": "code",
   "execution_count": 86,
   "metadata": {},
   "outputs": [],
   "source": [
    "# Les variables explicatives sous forme d'indicatrices\n",
    "col = [\"Route dep ou nationale\", \"Sur accotement\", \"Autre lieu de l'accident\", \"Hors agglomeration\",\n",
    "       \"A chaussées séparées\", \"Bidirectionnelle\", \"Nuit sans éclairage\", \"Plein jour\",\n",
    "       \"Sans collision\", \"Autre collision\", \"Courbe\"]\n",
    "\n",
    "# Créer de la base de donner avec uniquement les variables explicatives\n",
    "df_temp = df_accidents[col]\n",
    "\n",
    "# Création des échantillons de test et d'apprentissage\n",
    "xTrain, xTest, yTrain, yTest = train_test_split(df_temp, df_accidents[\"y\"].values.ravel(), test_size = 0.2, random_state = 0)"
   ]
  },
  {
   "cell_type": "markdown",
   "metadata": {},
   "source": [
    "## Modélisation et performance du modèle"
   ]
  },
  {
   "cell_type": "markdown",
   "metadata": {},
   "source": [
    "Nous allons étudier différents types de modèles :\n",
    "* Classification\n",
    "* Régression linéaire\n",
    "* Arbre de décision\n",
    "\n",
    "Pour cela, nous codons des fonctions pour tracer les courbes ROC et les matrices de confusion.\n",
    "\n",
    "### Fonctions utiles"
   ]
  },
  {
   "cell_type": "code",
   "execution_count": 87,
   "metadata": {},
   "outputs": [],
   "source": [
    "def courbe_roc(modele) :\n",
    "    prob_sans_modele = [0 for _ in range(len(yTest))]\n",
    "    # predict probabilities\n",
    "    prob_pred = modele.predict_proba(xTest)\n",
    "    # keep probabilities for the positive outcome only\n",
    "    prob_pred = prob_pred[:, 1]\n",
    "    # calculate scores\n",
    "    auc_sans_modele = roc_auc_score(yTest, prob_sans_modele)\n",
    "    auc = roc_auc_score(yTest, prob_pred)\n",
    "    # summarize scores\n",
    "    print('Modèle aléatoire : ROC AUC=%.3f' % (auc_sans_modele))\n",
    "    print('Modèle logistique : ROC AUC=%.3f' % (auc))\n",
    "    # calculate roc curves\n",
    "    fpr_sans_modele, tpr_sans_modele, _ = roc_curve(yTest, prob_sans_modele)\n",
    "    fpr, tpr, _ = roc_curve(yTest, prob_pred)\n",
    "    # plot the roc curve for the model\n",
    "    plt.plot(fpr_sans_modele, tpr_sans_modele, linestyle='--', label='Modèle aléatoire')\n",
    "    plt.plot(fpr, tpr, label='Modèle logistique')\n",
    "    # axis labels\n",
    "    plt.xlabel('Taux de vrais positifs')\n",
    "    plt.ylabel('Taux de faux positifs')\n",
    "    # show the legend\n",
    "    plt.legend()\n",
    "    # show the plot\n",
    "    plt.show() "
   ]
  },
  {
   "cell_type": "code",
   "execution_count": 112,
   "metadata": {},
   "outputs": [],
   "source": [
    "#Fonction servant à comparer graphiquement les courbes ROC de différents modèles de classification\n",
    "def courbe_roc_synthese(modele1,modele2,modele3,modele4) :\n",
    "    prob_sans_modele = [0 for _ in range(len(yTest))]\n",
    "    # predict probabilities\n",
    "    prob_pred1 = modele1.predict_proba(xTest)\n",
    "    prob_pred2 = modele2.predict_proba(xTest)\n",
    "    prob_pred3 = modele3.predict_proba(xTest)\n",
    "    prob_pred4 = modele4.predict_proba(xTest)\n",
    "    # keep probabilities for the positive outcome only\n",
    "    prob_pred1 = prob_pred1[:, 1]\n",
    "    prob_pred2 = prob_pred2[:, 1]\n",
    "    prob_pred3 = prob_pred3[:, 1]\n",
    "    prob_pred4 = prob_pred4[:, 1]\n",
    "    # calculate scores\n",
    "    auc_sans_modele = roc_auc_score(yTest, prob_sans_modele)\n",
    "    auc1 = roc_auc_score(yTest, prob_pred1)\n",
    "    auc2 = roc_auc_score(yTest, prob_pred2)\n",
    "    auc3 = roc_auc_score(yTest, prob_pred3)\n",
    "    auc4 = roc_auc_score(yTest, prob_pred4)\n",
    "    # summarize scores\n",
    "    print('Modèle aléatoire : ROC AUC=%.3f' % (auc_sans_modele))\n",
    "    print('Modèle logistique : ROC AUC=%.3f' % (auc1))\n",
    "    print('Modèle logistique : ROC AUC=%.3f' % (auc2))\n",
    "    print('Modèle logistique : ROC AUC=%.3f' % (auc3))\n",
    "    print('Modèle logistique : ROC AUC=%.3f' % (auc4))\n",
    "    # calculate roc curves\n",
    "    fpr_sans_modele, tpr_sans_modele, _ = roc_curve(yTest, prob_sans_modele)\n",
    "    fpr1, tpr1, _ = roc_curve(yTest, prob_pred1)\n",
    "    fpr2, tpr2, _ = roc_curve(yTest, prob_pred2)\n",
    "    fpr3, tpr3, _ = roc_curve(yTest, prob_pred3)\n",
    "    fpr4, tpr4, _ = roc_curve(yTest, prob_pred4)\n",
    "    # plot the roc curve for the model\n",
    "    plt.plot(fpr_sans_modele, tpr_sans_modele, linestyle='--', label='Modèle aléatoire')\n",
    "    plt.plot(fpr1, tpr1, label='Modèle logistique SVC')\n",
    "    plt.plot(fpr2, tpr2, label='Modèle logistique SGD')\n",
    "    plt.plot(fpr3, tpr3, label='Modèle logistique KNN')\n",
    "    plt.plot(fpr4, tpr4, label='Modèle logistique DTree')\n",
    "    # axis labels\n",
    "    plt.xlabel('Taux de vrais positifs')\n",
    "    plt.ylabel('Taux de faux positifs')\n",
    "    # show the legend\n",
    "    plt.legend()\n",
    "    # show the plot\n",
    "    plt.show()"
   ]
  },
  {
   "cell_type": "code",
   "execution_count": 89,
   "metadata": {},
   "outputs": [],
   "source": [
    "def matrice_confusion(modele) :\n",
    "    sklearn.metrics.plot_confusion_matrix(modele, xTest, yTest)\n",
    "    plt.show()"
   ]
  },
  {
   "cell_type": "markdown",
   "metadata": {},
   "source": [
    "### Classification"
   ]
  },
  {
   "cell_type": "markdown",
   "metadata": {},
   "source": [
    "Nous testons les modèles de classification suivants:\n",
    "- Linear SVC\n",
    "- SGD Classifier\n",
    "- KNeighbors Classifier  \n",
    "\n",
    "pour déterminer celui le plus précis et le plus adapté à notre base de données"
   ]
  },
  {
   "cell_type": "markdown",
   "metadata": {},
   "source": [
    "###### 1. Modèle Linear SVC"
   ]
  },
  {
   "cell_type": "markdown",
   "metadata": {},
   "source": [
    "Entrainement d'un classifieur SVM avec comme paramètre de régularisation C=1"
   ]
  },
  {
   "cell_type": "code",
   "execution_count": 90,
   "metadata": {},
   "outputs": [],
   "source": [
    "classification_SVC = svm.SVC(kernel='linear', C=1, probability = True).fit(xTrain, yTrain)\n",
    "y_pred = classification_SVC.predict(xTest)"
   ]
  },
  {
   "cell_type": "markdown",
   "metadata": {},
   "source": [
    "Calcul des indicateurs"
   ]
  },
  {
   "cell_type": "code",
   "execution_count": 91,
   "metadata": {},
   "outputs": [
    {
     "name": "stdout",
     "output_type": "stream",
     "text": [
      "0.7164709517923362\n",
      "0.44371561574269996\n",
      "0.6682600382409177\n",
      "0.5333163784333673\n"
     ]
    }
   ],
   "source": [
    "sc_accuracy_SVC = sklearn.metrics.accuracy_score(y_pred, yTest)\n",
    "sc_precision_SVC = sklearn.metrics.precision_score(y_pred, yTest)\n",
    "sc_recall_SVC = sklearn.metrics.recall_score(y_pred, yTest)\n",
    "sc_f1_SVC = sklearn.metrics.f1_score(y_pred, yTest)\n",
    "print(sc_accuracy_SVC)\n",
    "print(sc_precision_SVC)\n",
    "print(sc_recall_SVC)\n",
    "print(sc_f1_SVC)"
   ]
  },
  {
   "cell_type": "markdown",
   "metadata": {},
   "source": [
    "Tracé de la courbe ROC"
   ]
  },
  {
   "cell_type": "code",
   "execution_count": 92,
   "metadata": {},
   "outputs": [
    {
     "name": "stdout",
     "output_type": "stream",
     "text": [
      "Modèle aléatoire : ROC AUC=0.500\n",
      "Modèle logistique : ROC AUC=0.724\n"
     ]
    },
    {
     "data": {
      "image/png": "[encoded data removed]",
      "text/plain": [
       "<Figure size 432x288 with 1 Axes>"
      ]
     },
     "metadata": {},
     "output_type": "display_data"
    }
   ],
   "source": [
    "courbe_roc(classification_SVC)"
   ]
  },
  {
   "cell_type": "markdown",
   "metadata": {},
   "source": [
    "Détermination de la matrice de confusion"
   ]
  },
  {
   "cell_type": "code",
   "execution_count": 93,
   "metadata": {
    "scrolled": true
   },
   "outputs": [
    {
     "name": "stderr",
     "output_type": "stream",
     "text": [
      "/Users/camille/anaconda3/lib/python3.7/site-packages/sklearn/utils/deprecation.py:87: FutureWarning: Function plot_confusion_matrix is deprecated; Function `plot_confusion_matrix` is deprecated in 1.0 and will be removed in 1.2. Use one of the class methods: ConfusionMatrixDisplay.from_predictions or ConfusionMatrixDisplay.from_estimator.\n",
      "  warnings.warn(msg, category=FutureWarning)\n"
     ]
    },
    {
     "data": {
      "image/png": "[encoded data removed]",
      "text/plain": [
       "<Figure size 432x288 with 2 Axes>"
      ]
     },
     "metadata": {},
     "output_type": "display_data"
    }
   ],
   "source": [
    "matrice_confusion(classification_SVC)"
   ]
  },
  {
   "cell_type": "markdown",
   "metadata": {},
   "source": [
    "Ainsi, si la mesure de précision (0.72) et la courbe ROC sont plutôt satisfaisantes, la F-mesure (0.53) pourrait être améliorée et la matrice de confusion montre une proportion de faux négatifs assez élevée."
   ]
  },
  {
   "cell_type": "markdown",
   "metadata": {},
   "source": [
    "###### 2. Modèle SGD Classifier"
   ]
  },
  {
   "cell_type": "markdown",
   "metadata": {},
   "source": [
    "Entrainement d'un classifieur SGD, avec calibrement du classifieur afin de calculer les probabilités des valeurs, nécessaires au tracé de la courbe ROC"
   ]
  },
  {
   "cell_type": "code",
   "execution_count": 94,
   "metadata": {},
   "outputs": [],
   "source": [
    "classification_SGD = SGDClassifier(max_iter=1000, tol=0.001)\n",
    "calibrated_classification_SGD = CalibratedClassifierCV(classification_SGD, cv=5, method='sigmoid').fit(xTrain,yTrain)\n",
    "y_pred = calibrated_classification_SGD.predict(xTest)"
   ]
  },
  {
   "cell_type": "markdown",
   "metadata": {},
   "source": [
    "Calcul des indicateurs"
   ]
  },
  {
   "cell_type": "code",
   "execution_count": 95,
   "metadata": {},
   "outputs": [
    {
     "name": "stdout",
     "output_type": "stream",
     "text": [
      "0.7195611866501854\n",
      "0.525614218504966\n",
      "0.6872863978127136\n",
      "0.42551840880236985\n"
     ]
    }
   ],
   "source": [
    "sc_accuracy_SGD = sklearn.metrics.accuracy_score(y_pred, yTest)\n",
    "sc_precision_SGD = sklearn.metrics.precision_score(y_pred, yTest)\n",
    "sc_recall_SGD = sklearn.metrics.recall_score(y_pred, yTest)\n",
    "sc_f1_SGD = sklearn.metrics.f1_score(y_pred, yTest)\n",
    "print(sc_accuracy_SGD)\n",
    "print(sc_f1_SGD)\n",
    "print(sc_recall_SGD)\n",
    "print(sc_precision_SGD)"
   ]
  },
  {
   "cell_type": "markdown",
   "metadata": {},
   "source": [
    "Tracé de la courbe ROC"
   ]
  },
  {
   "cell_type": "code",
   "execution_count": 96,
   "metadata": {
    "scrolled": true
   },
   "outputs": [
    {
     "name": "stdout",
     "output_type": "stream",
     "text": [
      "Modèle aléatoire : ROC AUC=0.500\n",
      "Modèle logistique : ROC AUC=0.725\n"
     ]
    },
    {
     "data": {
      "image/png": "[encoded data removed]",
      "text/plain": [
       "<Figure size 432x288 with 1 Axes>"
      ]
     },
     "metadata": {},
     "output_type": "display_data"
    }
   ],
   "source": [
    "courbe_roc(calibrated_classification_SGD)"
   ]
  },
  {
   "cell_type": "markdown",
   "metadata": {},
   "source": [
    "Détermination de la matrice de confusion"
   ]
  },
  {
   "cell_type": "code",
   "execution_count": 97,
   "metadata": {
    "scrolled": false
   },
   "outputs": [
    {
     "name": "stderr",
     "output_type": "stream",
     "text": [
      "/Users/camille/anaconda3/lib/python3.7/site-packages/sklearn/utils/deprecation.py:87: FutureWarning: Function plot_confusion_matrix is deprecated; Function `plot_confusion_matrix` is deprecated in 1.0 and will be removed in 1.2. Use one of the class methods: ConfusionMatrixDisplay.from_predictions or ConfusionMatrixDisplay.from_estimator.\n",
      "  warnings.warn(msg, category=FutureWarning)\n"
     ]
    },
    {
     "data": {
      "image/png": "[encoded data removed]",
      "text/plain": [
       "<Figure size 432x288 with 2 Axes>"
      ]
     },
     "metadata": {},
     "output_type": "display_data"
    }
   ],
   "source": [
    "matrice_confusion(calibrated_classification_SGD)"
   ]
  },
  {
   "cell_type": "markdown",
   "metadata": {},
   "source": [
    "Ainsi, comme le modèle Linear SVC, la mesure de précision (0.72) et la courbe ROC sont plutôt satisfaisantes mais la F-mesure (0.42) pourrait être améliorée. La matrice de confusion montre également une proportion de faux négatifs assez élevée."
   ]
  },
  {
   "cell_type": "markdown",
   "metadata": {},
   "source": [
    "###### 3. Modèle KNeighbors Classifier"
   ]
  },
  {
   "cell_type": "markdown",
   "metadata": {},
   "source": [
    "Entrainement d'un classifieur KNeighbors"
   ]
  },
  {
   "cell_type": "code",
   "execution_count": 98,
   "metadata": {},
   "outputs": [],
   "source": [
    "classification_KNN = KNeighborsClassifier(n_neighbors = 5).fit(xTrain,yTrain)\n",
    "y_pred = classification_KNN.predict(xTest)"
   ]
  },
  {
   "cell_type": "markdown",
   "metadata": {},
   "source": [
    "Calcul des indicateurs"
   ]
  },
  {
   "cell_type": "code",
   "execution_count": 99,
   "metadata": {},
   "outputs": [
    {
     "name": "stdout",
     "output_type": "stream",
     "text": [
      "0.6879635352286774\n",
      "0.5478205670757512\n",
      "0.5764863059452238\n",
      "0.5617880004339808\n"
     ]
    }
   ],
   "source": [
    "sc_accuracy_KNN = sklearn.metrics.accuracy_score(y_pred, yTest)\n",
    "sc_precision_KNN = sklearn.metrics.precision_score(y_pred, yTest)\n",
    "sc_recall_KNN = sklearn.metrics.recall_score(y_pred, yTest)\n",
    "sc_f1_KNN = sklearn.metrics.f1_score(y_pred, yTest)\n",
    "print(sc_accuracy_KNN)\n",
    "print(sc_precision_KNN)\n",
    "print(sc_recall_KNN)\n",
    "print(sc_f1_KNN)"
   ]
  },
  {
   "cell_type": "markdown",
   "metadata": {},
   "source": [
    "Tracé de la courbe ROC"
   ]
  },
  {
   "cell_type": "code",
   "execution_count": 100,
   "metadata": {
    "scrolled": true
   },
   "outputs": [
    {
     "name": "stdout",
     "output_type": "stream",
     "text": [
      "Modèle aléatoire : ROC AUC=0.500\n",
      "Modèle logistique : ROC AUC=0.692\n"
     ]
    },
    {
     "data": {
      "image/png": "[encoded data removed]",
      "text/plain": [
       "<Figure size 432x288 with 1 Axes>"
      ]
     },
     "metadata": {},
     "output_type": "display_data"
    }
   ],
   "source": [
    "courbe_roc(classification_KNN)"
   ]
  },
  {
   "cell_type": "markdown",
   "metadata": {},
   "source": [
    "Détermination de la matrice de confusion"
   ]
  },
  {
   "cell_type": "code",
   "execution_count": 101,
   "metadata": {
    "scrolled": false
   },
   "outputs": [
    {
     "name": "stderr",
     "output_type": "stream",
     "text": [
      "/Users/camille/anaconda3/lib/python3.7/site-packages/sklearn/utils/deprecation.py:87: FutureWarning: Function plot_confusion_matrix is deprecated; Function `plot_confusion_matrix` is deprecated in 1.0 and will be removed in 1.2. Use one of the class methods: ConfusionMatrixDisplay.from_predictions or ConfusionMatrixDisplay.from_estimator.\n",
      "  warnings.warn(msg, category=FutureWarning)\n"
     ]
    },
    {
     "data": {
      "image/png": "[encoded data removed]",
      "text/plain": [
       "<Figure size 432x288 with 2 Axes>"
      ]
     },
     "metadata": {},
     "output_type": "display_data"
    }
   ],
   "source": [
    "matrice_confusion(classification_KNN)"
   ]
  },
  {
   "cell_type": "markdown",
   "metadata": {},
   "source": [
    "Ainsi, les indicateurs et notamment la mesure de précision (0.67) et la F-mesure (0.42) sont inférieurs aux indicateurs des 2 précédents modèles. La courbe ROC est nettement moins satisfaisante que les autres courbes ROC. Le Modèle KNeighbors Classifier est donc moins adapté à nos données."
   ]
  },
  {
   "cell_type": "markdown",
   "metadata": {},
   "source": [
    "### Régression logistique"
   ]
  },
  {
   "cell_type": "code",
   "execution_count": 102,
   "metadata": {},
   "outputs": [
    {
     "ename": "AttributeError",
     "evalue": "module 'pandas' has no attribute 'Panel'",
     "output_type": "error",
     "traceback": [
      "\u001b[0;31m---------------------------------------------------------------------------\u001b[0m",
      "\u001b[0;31mAttributeError\u001b[0m                            Traceback (most recent call last)",
      "\u001b[0;32m<ipython-input-102-ea3ef53caab0>\u001b[0m in \u001b[0;36m<module>\u001b[0;34m\u001b[0m\n\u001b[1;32m      1\u001b[0m \u001b[0;32mimport\u001b[0m \u001b[0mstatsmodels\u001b[0m \u001b[0;32mas\u001b[0m \u001b[0msm\u001b[0m\u001b[0;34m\u001b[0m\u001b[0;34m\u001b[0m\u001b[0m\n\u001b[1;32m      2\u001b[0m \u001b[0;32mfrom\u001b[0m \u001b[0mstatsmodels\u001b[0m\u001b[0;34m.\u001b[0m\u001b[0mtools\u001b[0m \u001b[0;32mimport\u001b[0m \u001b[0madd_constant\u001b[0m\u001b[0;34m\u001b[0m\u001b[0;34m\u001b[0m\u001b[0m\n\u001b[0;32m----> 3\u001b[0;31m \u001b[0mXTrainBis\u001b[0m \u001b[0;34m=\u001b[0m \u001b[0msm\u001b[0m\u001b[0;34m.\u001b[0m\u001b[0mtools\u001b[0m\u001b[0;34m.\u001b[0m\u001b[0madd_constant\u001b[0m\u001b[0;34m(\u001b[0m\u001b[0mxTrain\u001b[0m\u001b[0;34m)\u001b[0m\u001b[0;34m\u001b[0m\u001b[0;34m\u001b[0m\u001b[0m\n\u001b[0m\u001b[1;32m      4\u001b[0m \u001b[0mprint\u001b[0m\u001b[0;34m(\u001b[0m\u001b[0mXTrainBis\u001b[0m\u001b[0;34m.\u001b[0m\u001b[0minfo\u001b[0m\u001b[0;34m(\u001b[0m\u001b[0;34m)\u001b[0m\u001b[0;34m)\u001b[0m\u001b[0;34m\u001b[0m\u001b[0;34m\u001b[0m\u001b[0m\n\u001b[1;32m      5\u001b[0m \u001b[0;34m\u001b[0m\u001b[0m\n",
      "\u001b[0;32m~/anaconda3/lib/python3.7/site-packages/statsmodels/tools/tools.py\u001b[0m in \u001b[0;36madd_constant\u001b[0;34m(data, prepend, has_constant)\u001b[0m\n\u001b[1;32m    266\u001b[0m     \u001b[0mcolumn\u001b[0m\u001b[0;34m's name is '\u001b[0m\u001b[0mconst\u001b[0m\u001b[0;31m'\u001b[0m\u001b[0;34m.\u001b[0m\u001b[0;34m\u001b[0m\u001b[0;34m\u001b[0m\u001b[0m\n\u001b[1;32m    267\u001b[0m     \"\"\"\n\u001b[0;32m--> 268\u001b[0;31m     \u001b[0;32mif\u001b[0m \u001b[0m_is_using_pandas\u001b[0m\u001b[0;34m(\u001b[0m\u001b[0mdata\u001b[0m\u001b[0;34m,\u001b[0m \u001b[0;32mNone\u001b[0m\u001b[0;34m)\u001b[0m \u001b[0;32mor\u001b[0m \u001b[0m_is_recarray\u001b[0m\u001b[0;34m(\u001b[0m\u001b[0mdata\u001b[0m\u001b[0;34m)\u001b[0m\u001b[0;34m:\u001b[0m\u001b[0;34m\u001b[0m\u001b[0;34m\u001b[0m\u001b[0m\n\u001b[0m\u001b[1;32m    269\u001b[0m         \u001b[0;32mfrom\u001b[0m \u001b[0mstatsmodels\u001b[0m\u001b[0;34m.\u001b[0m\u001b[0mtsa\u001b[0m\u001b[0;34m.\u001b[0m\u001b[0mtsatools\u001b[0m \u001b[0;32mimport\u001b[0m \u001b[0madd_trend\u001b[0m\u001b[0;34m\u001b[0m\u001b[0;34m\u001b[0m\u001b[0m\n\u001b[1;32m    270\u001b[0m         \u001b[0;32mreturn\u001b[0m \u001b[0madd_trend\u001b[0m\u001b[0;34m(\u001b[0m\u001b[0mdata\u001b[0m\u001b[0;34m,\u001b[0m \u001b[0mtrend\u001b[0m\u001b[0;34m=\u001b[0m\u001b[0;34m'c'\u001b[0m\u001b[0;34m,\u001b[0m \u001b[0mprepend\u001b[0m\u001b[0;34m=\u001b[0m\u001b[0mprepend\u001b[0m\u001b[0;34m,\u001b[0m \u001b[0mhas_constant\u001b[0m\u001b[0;34m=\u001b[0m\u001b[0mhas_constant\u001b[0m\u001b[0;34m)\u001b[0m\u001b[0;34m\u001b[0m\u001b[0;34m\u001b[0m\u001b[0m\n",
      "\u001b[0;32m~/anaconda3/lib/python3.7/site-packages/statsmodels/tools/data.py\u001b[0m in \u001b[0;36m_is_using_pandas\u001b[0;34m(endog, exog)\u001b[0m\n\u001b[1;32m     98\u001b[0m \u001b[0;34m\u001b[0m\u001b[0m\n\u001b[1;32m     99\u001b[0m \u001b[0;32mdef\u001b[0m \u001b[0m_is_using_pandas\u001b[0m\u001b[0;34m(\u001b[0m\u001b[0mendog\u001b[0m\u001b[0;34m,\u001b[0m \u001b[0mexog\u001b[0m\u001b[0;34m)\u001b[0m\u001b[0;34m:\u001b[0m\u001b[0;34m\u001b[0m\u001b[0;34m\u001b[0m\u001b[0m\n\u001b[0;32m--> 100\u001b[0;31m     \u001b[0;32mfrom\u001b[0m \u001b[0mstatsmodels\u001b[0m\u001b[0;34m.\u001b[0m\u001b[0mcompat\u001b[0m\u001b[0;34m.\u001b[0m\u001b[0mpandas\u001b[0m \u001b[0;32mimport\u001b[0m \u001b[0mdata_klasses\u001b[0m \u001b[0;32mas\u001b[0m \u001b[0mklasses\u001b[0m\u001b[0;34m\u001b[0m\u001b[0;34m\u001b[0m\u001b[0m\n\u001b[0m\u001b[1;32m    101\u001b[0m     \u001b[0;32mreturn\u001b[0m \u001b[0;34m(\u001b[0m\u001b[0misinstance\u001b[0m\u001b[0;34m(\u001b[0m\u001b[0mendog\u001b[0m\u001b[0;34m,\u001b[0m \u001b[0mklasses\u001b[0m\u001b[0;34m)\u001b[0m \u001b[0;32mor\u001b[0m \u001b[0misinstance\u001b[0m\u001b[0;34m(\u001b[0m\u001b[0mexog\u001b[0m\u001b[0;34m,\u001b[0m \u001b[0mklasses\u001b[0m\u001b[0;34m)\u001b[0m\u001b[0;34m)\u001b[0m\u001b[0;34m\u001b[0m\u001b[0;34m\u001b[0m\u001b[0m\n\u001b[1;32m    102\u001b[0m \u001b[0;34m\u001b[0m\u001b[0m\n",
      "\u001b[0;32m~/anaconda3/lib/python3.7/site-packages/statsmodels/compat/pandas.py\u001b[0m in \u001b[0;36m<module>\u001b[0;34m\u001b[0m\n\u001b[1;32m     47\u001b[0m \u001b[0;32mif\u001b[0m \u001b[0mversion\u001b[0m \u001b[0;34m>=\u001b[0m \u001b[0;34m'0.20'\u001b[0m\u001b[0;34m:\u001b[0m\u001b[0;34m\u001b[0m\u001b[0;34m\u001b[0m\u001b[0m\n\u001b[1;32m     48\u001b[0m     \u001b[0;32mfrom\u001b[0m \u001b[0mpandas\u001b[0m\u001b[0;34m.\u001b[0m\u001b[0mtseries\u001b[0m \u001b[0;32mimport\u001b[0m \u001b[0mfrequencies\u001b[0m\u001b[0;34m\u001b[0m\u001b[0;34m\u001b[0m\u001b[0m\n\u001b[0;32m---> 49\u001b[0;31m     \u001b[0mdata_klasses\u001b[0m \u001b[0;34m=\u001b[0m \u001b[0;34m(\u001b[0m\u001b[0mpandas\u001b[0m\u001b[0;34m.\u001b[0m\u001b[0mSeries\u001b[0m\u001b[0;34m,\u001b[0m \u001b[0mpandas\u001b[0m\u001b[0;34m.\u001b[0m\u001b[0mDataFrame\u001b[0m\u001b[0;34m,\u001b[0m \u001b[0mpandas\u001b[0m\u001b[0;34m.\u001b[0m\u001b[0mPanel\u001b[0m\u001b[0;34m)\u001b[0m\u001b[0;34m\u001b[0m\u001b[0;34m\u001b[0m\u001b[0m\n\u001b[0m\u001b[1;32m     50\u001b[0m \u001b[0;32melse\u001b[0m\u001b[0;34m:\u001b[0m\u001b[0;34m\u001b[0m\u001b[0;34m\u001b[0m\u001b[0m\n\u001b[1;32m     51\u001b[0m     \u001b[0;32mtry\u001b[0m\u001b[0;34m:\u001b[0m\u001b[0;34m\u001b[0m\u001b[0;34m\u001b[0m\u001b[0m\n",
      "\u001b[0;32m~/anaconda3/lib/python3.7/site-packages/pandas/__init__.py\u001b[0m in \u001b[0;36m__getattr__\u001b[0;34m(name)\u001b[0m\n\u001b[1;32m    242\u001b[0m         \u001b[0;32mreturn\u001b[0m \u001b[0m_SparseArray\u001b[0m\u001b[0;34m\u001b[0m\u001b[0;34m\u001b[0m\u001b[0m\n\u001b[1;32m    243\u001b[0m \u001b[0;34m\u001b[0m\u001b[0m\n\u001b[0;32m--> 244\u001b[0;31m     \u001b[0;32mraise\u001b[0m \u001b[0mAttributeError\u001b[0m\u001b[0;34m(\u001b[0m\u001b[0;34mf\"module 'pandas' has no attribute '{name}'\"\u001b[0m\u001b[0;34m)\u001b[0m\u001b[0;34m\u001b[0m\u001b[0;34m\u001b[0m\u001b[0m\n\u001b[0m\u001b[1;32m    245\u001b[0m \u001b[0;34m\u001b[0m\u001b[0m\n\u001b[1;32m    246\u001b[0m \u001b[0;34m\u001b[0m\u001b[0m\n",
      "\u001b[0;31mAttributeError\u001b[0m: module 'pandas' has no attribute 'Panel'"
     ]
    }
   ],
   "source": [
    "import statsmodels as sm\n",
    "from statsmodels.tools import add_constant\n",
    "XTrainBis = sm.tools.add_constant(xTrain)\n",
    "print(XTrainBis.info())\n",
    "\n",
    "from statsmodels.api import Logit\n",
    "#régression logistique - on passe la cible et les explicatives\n",
    "modele_logistique = Logit(endog=yTrain,exog=XTrainBis).fit()"
   ]
  },
  {
   "cell_type": "code",
   "execution_count": 103,
   "metadata": {},
   "outputs": [
    {
     "ename": "NameError",
     "evalue": "name 'modele_logistique' is not defined",
     "output_type": "error",
     "traceback": [
      "\u001b[0;31m---------------------------------------------------------------------------\u001b[0m",
      "\u001b[0;31mNameError\u001b[0m                                 Traceback (most recent call last)",
      "\u001b[0;32m<ipython-input-103-c6f25e285c86>\u001b[0m in \u001b[0;36m<module>\u001b[0;34m\u001b[0m\n\u001b[0;32m----> 1\u001b[0;31m \u001b[0mprint\u001b[0m\u001b[0;34m(\u001b[0m\u001b[0mmodele_logistique\u001b[0m\u001b[0;34m.\u001b[0m\u001b[0msummary\u001b[0m\u001b[0;34m(\u001b[0m\u001b[0;34m)\u001b[0m\u001b[0;34m)\u001b[0m\u001b[0;34m\u001b[0m\u001b[0;34m\u001b[0m\u001b[0m\n\u001b[0m",
      "\u001b[0;31mNameError\u001b[0m: name 'modele_logistique' is not defined"
     ]
    }
   ],
   "source": [
    "print(modele_logistique.summary())"
   ]
  },
  {
   "cell_type": "markdown",
   "metadata": {},
   "source": [
    "On remarque que les variables \"A chaussées séparées\" et \"Plein jour\" ne sont pas significatives au seuil de 5%."
   ]
  },
  {
   "cell_type": "markdown",
   "metadata": {},
   "source": [
    "### Arbre de décision"
   ]
  },
  {
   "cell_type": "markdown",
   "metadata": {},
   "source": [
    "Dans cette partie, nous allons tester le modèle de classification par arbre de décision. Dans notre cas, les feuilles de l'arbre représentent les états de notre variable d'intéret à savoir la gravité de l'accident, il y a donc deux états possibles :\n",
    "* accident grave (grave=2)\n",
    "* accident peu grave (grave=1)\n",
    "\n",
    "Les embranchements de l'arbre quant à eux correspondent à des combinaisons de nos variables d'entrées (catégorie de la route, luminosité, point de collision...). \n",
    "On utilise alors le training set pour construire l'arbre ce qui nous permet par la suite d'extrapoler le résultat de la variable sur les données de test."
   ]
  },
  {
   "cell_type": "code",
   "execution_count": 104,
   "metadata": {},
   "outputs": [],
   "source": [
    "classification_DTree = tree.DecisionTreeClassifier()\n",
    "classification_DTree.fit(xTrain, yTrain)\n",
    "y_pred = classification.predict(xTest)"
   ]
  },
  {
   "cell_type": "markdown",
   "metadata": {},
   "source": [
    "Calcul des indicateurs\n"
   ]
  },
  {
   "cell_type": "code",
   "execution_count": 105,
   "metadata": {},
   "outputs": [],
   "source": [
    "# Les indicateurs (cf le TP sur la classification)\n",
    "sc_accuracy_DTree = sklearn.metrics.accuracy_score(y_pred, yTest)\n",
    "sc_f1_DTree = sklearn.metrics.f1_score(y_pred, yTest)\n",
    "sc_recall_DTree = sklearn.metrics.recall_score(y_pred, yTest)\n",
    "sc_precision_DTree = sklearn.metrics.precision_score(y_pred, yTest)"
   ]
  },
  {
   "cell_type": "code",
   "execution_count": 106,
   "metadata": {},
   "outputs": [
    {
     "name": "stdout",
     "output_type": "stream",
     "text": [
      "accuracy : 0.7280593325092707\n",
      "F1 score : 0.5510204081632654\n",
      "Recall : 0.6936416184971098\n",
      "Precision : 0.45704612780363946\n"
     ]
    }
   ],
   "source": [
    "print('accuracy : ' + str(sc_accuracy_DTree))\n",
    "print('F1 score : ' + str(sc_f1_DTree))\n",
    "print('Recall : ' + str(sc_recall_DTree))\n",
    "print('Precision : ' + str(sc_precision_DTree))"
   ]
  },
  {
   "cell_type": "code",
   "execution_count": 107,
   "metadata": {},
   "outputs": [
    {
     "name": "stdout",
     "output_type": "stream",
     "text": [
      "Modèle aléatoire : ROC AUC=0.500\n",
      "Modèle logistique : ROC AUC=0.737\n"
     ]
    },
    {
     "data": {
      "image/png": "[encoded data removed]",
      "text/plain": [
       "<Figure size 432x288 with 1 Axes>"
      ]
     },
     "metadata": {},
     "output_type": "display_data"
    }
   ],
   "source": [
    "courbe_roc(classification_DTree)"
   ]
  },
  {
   "cell_type": "code",
   "execution_count": 108,
   "metadata": {},
   "outputs": [
    {
     "name": "stderr",
     "output_type": "stream",
     "text": [
      "/Users/camille/anaconda3/lib/python3.7/site-packages/sklearn/utils/deprecation.py:87: FutureWarning: Function plot_confusion_matrix is deprecated; Function `plot_confusion_matrix` is deprecated in 1.0 and will be removed in 1.2. Use one of the class methods: ConfusionMatrixDisplay.from_predictions or ConfusionMatrixDisplay.from_estimator.\n",
      "  warnings.warn(msg, category=FutureWarning)\n"
     ]
    },
    {
     "data": {
      "image/png": "[encoded data removed]",
      "text/plain": [
       "<Figure size 432x288 with 2 Axes>"
      ]
     },
     "metadata": {},
     "output_type": "display_data"
    }
   ],
   "source": [
    "matrice_confusion(classification_DTree)"
   ]
  },
  {
   "cell_type": "markdown",
   "metadata": {},
   "source": [
    "On obtient ainsi une Accuracy de 0.73 et un Recall de 0.68 ce qui est satisfaisant. Le Recall est particulièrement d'intéret dans notre cas car on cherche surtout à limiter les feux négatifs (ie dire qu'un accident est peu grave alors qu'en réalité il l'est) car on part du principe qu'il vaut mieux envoyer trop de secours que pas assez dans notre cas."
   ]
  },
  {
   "cell_type": "markdown",
   "metadata": {},
   "source": [
    "## Comparaison des différents modèles"
   ]
  },
  {
   "cell_type": "markdown",
   "metadata": {},
   "source": [
    "On dresse un tableau récapitulatif des indicateurs obtenus lors des différents tests."
   ]
  },
  {
   "cell_type": "code",
   "execution_count": 109,
   "metadata": {},
   "outputs": [
    {
     "data": {
      "text/html": [
       "<div>\n",
       "<style scoped>\n",
       "    .dataframe tbody tr th:only-of-type {\n",
       "        vertical-align: middle;\n",
       "    }\n",
       "\n",
       "    .dataframe tbody tr th {\n",
       "        vertical-align: top;\n",
       "    }\n",
       "\n",
       "    .dataframe thead th {\n",
       "        text-align: right;\n",
       "    }\n",
       "</style>\n",
       "<table border=\"1\" class=\"dataframe\">\n",
       "  <thead>\n",
       "    <tr style=\"text-align: right;\">\n",
       "      <th></th>\n",
       "      <th>Accuracy</th>\n",
       "      <th>Precision</th>\n",
       "      <th>Recall</th>\n",
       "      <th>F1</th>\n",
       "    </tr>\n",
       "  </thead>\n",
       "  <tbody>\n",
       "    <tr>\n",
       "      <th>Linear SVC</th>\n",
       "      <td>0.716471</td>\n",
       "      <td>0.443716</td>\n",
       "      <td>0.668260</td>\n",
       "      <td>0.533316</td>\n",
       "    </tr>\n",
       "    <tr>\n",
       "      <th>SGD Classifier</th>\n",
       "      <td>0.719561</td>\n",
       "      <td>0.425518</td>\n",
       "      <td>0.687286</td>\n",
       "      <td>0.525614</td>\n",
       "    </tr>\n",
       "    <tr>\n",
       "      <th>KNeighbors Classifier</th>\n",
       "      <td>0.687964</td>\n",
       "      <td>0.547821</td>\n",
       "      <td>0.576486</td>\n",
       "      <td>0.561788</td>\n",
       "    </tr>\n",
       "    <tr>\n",
       "      <th>DecisionTree Classifier</th>\n",
       "      <td>0.728059</td>\n",
       "      <td>0.457046</td>\n",
       "      <td>0.693642</td>\n",
       "      <td>0.551020</td>\n",
       "    </tr>\n",
       "  </tbody>\n",
       "</table>\n",
       "</div>"
      ],
      "text/plain": [
       "                         Accuracy  Precision    Recall        F1\n",
       "Linear SVC               0.716471   0.443716  0.668260  0.533316\n",
       "SGD Classifier           0.719561   0.425518  0.687286  0.525614\n",
       "KNeighbors Classifier    0.687964   0.547821  0.576486  0.561788\n",
       "DecisionTree Classifier  0.728059   0.457046  0.693642  0.551020"
      ]
     },
     "execution_count": 109,
     "metadata": {},
     "output_type": "execute_result"
    }
   ],
   "source": [
    "data = np.array([[sc_accuracy_SVC, sc_precision_SVC, sc_recall_SVC, sc_f1_SVC],\n",
    "             [sc_accuracy_SGD, sc_precision_SGD, sc_recall_SGD, sc_f1_SGD],\n",
    "             [sc_accuracy_KNN, sc_precision_KNN, sc_recall_KNN, sc_f1_KNN],\n",
    "             [sc_accuracy_DTree, sc_precision_DTree, sc_recall_DTree, sc_f1_DTree]])\n",
    "columns = ['Accuracy', 'Precision', 'Recall', 'F1']\n",
    "index = ['Linear SVC', 'SGD Classifier', 'KNeighbors Classifier', 'DecisionTree Classifier']\n",
    "tableau = pd.DataFrame(data=data,index=index,columns=columns)\n",
    "tableau"
   ]
  },
  {
   "cell_type": "markdown",
   "metadata": {},
   "source": [
    "Nous superposons les courbes ROC sur un même graphe afin de déterminer le modèle le plus satisfaisant."
   ]
  },
  {
   "cell_type": "code",
   "execution_count": 113,
   "metadata": {
    "scrolled": true
   },
   "outputs": [
    {
     "name": "stdout",
     "output_type": "stream",
     "text": [
      "Modèle aléatoire : ROC AUC=0.500\n",
      "Modèle logistique : ROC AUC=0.724\n",
      "Modèle logistique : ROC AUC=0.725\n",
      "Modèle logistique : ROC AUC=0.692\n",
      "Modèle logistique : ROC AUC=0.737\n"
     ]
    },
    {
     "data": {
      "image/png": "[encoded data removed]",
      "text/plain": [
       "<Figure size 432x288 with 1 Axes>"
      ]
     },
     "metadata": {},
     "output_type": "display_data"
    }
   ],
   "source": [
    "courbe_roc_synthese(classification_SVC, calibrated_classification_SGD, classification_KNN, classification_DTree)"
   ]
  },
  {
   "cell_type": "markdown",
   "metadata": {},
   "source": [
    "En conclusion de cette partie Classification, le graphe ci-dessus nous permet de suite d'éliminer le modèle KNeighbors Classifier, mais il ne nous permet pas de départager entre le modèle Linear SVC et le modèle SGD Classifier. Le tableau récapitulatif des indicateurs de précision montre que le modèle Linear SVC a une F-mesure (0.53) un petit peu plus supérieure que celle du modèle SGD Classifier (0.52).  \n",
    "Les modèles Linear SVC et SGD Classifier sont donc équivalents, \n",
    "Par ailleurs le modèle Decision Tree nous donne une meilleure accuracy, un meilleur recall et un F1 score satisfaisant. De plus la courbe ROC de ce dernier est plus satifaisante que les trois autres modèles de classification. Le modèle Decision Tree apparait donc plus plus adapté à nos données."
   ]
  },
  {
   "cell_type": "code",
   "execution_count": null,
   "metadata": {},
   "outputs": [],
   "source": []
  }
 ],
 "metadata": {
  "kernelspec": {
   "display_name": "Python 3",
   "language": "python",
   "name": "python3"
  },
  "language_info": {
   "codemirror_mode": {
    "name": "ipython",
    "version": 3
   },
   "file_extension": ".py",
   "mimetype": "text/x-python",
   "name": "python",
   "nbconvert_exporter": "python",
   "pygments_lexer": "ipython3",
   "version": "3.7.1"
  }
 },
 "nbformat": 4,
 "nbformat_minor": 4
}
