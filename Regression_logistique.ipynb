{
 "cells": [
  {
   "cell_type": "code",
   "execution_count": 22,
   "metadata": {},
   "outputs": [
    {
     "name": "stdout",
     "output_type": "stream",
     "text": [
      "Requirement already satisfied: graphviz in /Users/cloclo/opt/anaconda3/lib/python3.7/site-packages (0.17)\n",
      "Note: you may need to restart the kernel to use updated packages.\n",
      "Pour la variable agglo :\n",
      "Agglomeration         62.259639\n",
      "Hors agglomeration    37.740361\n",
      "Name: agglo, dtype: float64\n",
      "\n",
      "\n",
      "Pour la variable sexe :\n",
      "Homme    67.969649\n",
      "Femme    32.030351\n",
      "Name: sexe, dtype: float64\n",
      "\n",
      "\n",
      "Pour la variable catr :\n",
      "Voie Communale                 41.478602\n",
      "Route départementale           35.390331\n",
      "Autoroute                      11.968235\n",
      "Route nationale                 7.215534\n",
      "Routes de métropole urbaine     2.202637\n",
      "Autre                           0.923468\n",
      "Parc de stationnement           0.699369\n",
      "Hors réseau public              0.121826\n",
      "Name: catr, dtype: float64\n",
      "\n",
      "\n",
      "Pour la variable catu :\n",
      "Conducteur    73.212661\n",
      "Passager      18.315949\n",
      "Pieton         8.471390\n",
      "Name: catu, dtype: float64\n",
      "\n",
      "\n",
      "Pour la variable grav2 :\n",
      "Blesse     58.403333\n",
      "Indemne    41.596667\n",
      "Name: grav2, dtype: float64\n",
      "\n",
      "\n",
      "Pour la variable grav4 :\n",
      "Indemne               41.596667\n",
      "Blesse leger          40.087384\n",
      "Blesse hospitalise    15.685419\n",
      "Tue                    2.630530\n",
      "Name: grav4, dtype: float64\n",
      "\n",
      "\n",
      "Pour la variable collision :\n",
      "2-cote            30.343593\n",
      "autre             26.198516\n",
      "2-arriere         13.518879\n",
      "2 - frontale      10.495048\n",
      "3-chaine           6.987675\n",
      "Sans collision     6.514660\n",
      "3-multiple         5.940125\n",
      "Name: collision, dtype: float64\n",
      "\n",
      "\n",
      "Pour la variable atm :\n",
      "Normale         79.216707\n",
      "Pluie legere    11.091392\n",
      "Couvert          3.717936\n",
      "Pluie forte      2.439520\n",
      "Eblouissant      1.756695\n",
      "Brouillard       0.543703\n",
      "Autre            0.493318\n",
      "Neige            0.463990\n",
      "Vent fort        0.275988\n",
      "Name: atm, dtype: float64\n",
      "\n",
      "\n",
      "Pour la variable surf :\n",
      "Normale               80.052189\n",
      "Mouillée              18.534784\n",
      "Autre                  0.461734\n",
      "Verglecée              0.326372\n",
      "Enneigée               0.191762\n",
      "Flaques                0.176722\n",
      "Corps gras - huile     0.147394\n",
      "Boue                   0.043617\n",
      "Inondée                0.035344\n",
      "Name: surf, dtype: float64\n",
      "\n",
      "\n",
      "Pour la variable agglo :\n",
      "Agglomeration         62.259639\n",
      "Hors agglomeration    37.740361\n",
      "Name: agglo, dtype: float64\n",
      "\n",
      "\n",
      "Pour la variable sexe :\n",
      "Homme    67.969649\n",
      "Femme    32.030351\n",
      "Name: sexe, dtype: float64\n",
      "\n",
      "\n",
      "Pour la variable catr :\n",
      "Voie Communale          41.478602\n",
      "Route départementale    35.390331\n",
      "Autoroute               11.968235\n",
      "Route nationale          7.215534\n",
      "Autre                    3.947299\n",
      "Name: catr, dtype: float64\n",
      "\n",
      "\n",
      "Pour la variable catu :\n",
      "Conducteur    73.212661\n",
      "Passager      18.315949\n",
      "Pieton         8.471390\n",
      "Name: catu, dtype: float64\n",
      "\n",
      "\n",
      "Pour la variable grav2 :\n",
      "Blesse     58.403333\n",
      "Indemne    41.596667\n",
      "Name: grav2, dtype: float64\n",
      "\n",
      "\n",
      "Pour la variable grav4 :\n",
      "Indemne               41.596667\n",
      "Blesse leger          40.087384\n",
      "Blesse hospitalise    15.685419\n",
      "Autre                  2.630530\n",
      "Name: grav4, dtype: float64\n",
      "\n",
      "\n",
      "Pour la variable collision :\n",
      "2-cote            30.343593\n",
      "autre             26.198516\n",
      "2-arriere         13.518879\n",
      "2 - frontale      10.495048\n",
      "3-chaine           6.987675\n",
      "Sans collision     6.514660\n",
      "3-multiple         5.940125\n",
      "Name: collision, dtype: float64\n",
      "\n",
      "\n",
      "Pour la variable atm :\n",
      "Normale         79.216707\n",
      "Pluie legere    11.091392\n",
      "Autre            9.691150\n",
      "Name: atm, dtype: float64\n",
      "\n",
      "\n",
      "Pour la variable surf :\n",
      "Normale     80.052189\n",
      "Mouillée    18.534784\n",
      "Autre        1.382946\n",
      "Name: surf, dtype: float64\n",
      "\n",
      "\n"
     ]
    },
    {
     "data": {
      "image/png": "[encoded data removed]",
      "text/plain": [
       "<Figure size 432x288 with 1 Axes>"
      ]
     },
     "metadata": {},
     "output_type": "display_data"
    },
    {
     "name": "stdout",
     "output_type": "stream",
     "text": [
      "Pour la variable agglo :\n"
     ]
    },
    {
     "data": {
      "image/png": "[encoded data removed]",
      "text/plain": [
       "<Figure size 432x288 with 1 Axes>"
      ]
     },
     "metadata": {},
     "output_type": "display_data"
    },
    {
     "data": {
      "image/png": "[encoded data removed]",
      "text/plain": [
       "<Figure size 432x288 with 1 Axes>"
      ]
     },
     "metadata": {},
     "output_type": "display_data"
    },
    {
     "ename": "NameError",
     "evalue": "name 'df_usager' is not defined",
     "output_type": "error",
     "traceback": [
      "\u001b[0;31m---------------------------------------------------------------------------\u001b[0m",
      "\u001b[0;31mNameError\u001b[0m                                 Traceback (most recent call last)",
      "\u001b[0;32m~/Desktop/Python/Accidents-corporels/Ouverture_donnees.ipynb\u001b[0m in \u001b[0;36m<module>\u001b[0;34m\u001b[0m\n\u001b[0;32m----> 1\u001b[0;31m \u001b[0mdf_usager\u001b[0m\u001b[0;34m[\u001b[0m\u001b[0;34m\"secu1\"\u001b[0m\u001b[0;34m]\u001b[0m\u001b[0;34m.\u001b[0m\u001b[0mvalue_counts\u001b[0m\u001b[0;34m(\u001b[0m\u001b[0;34m)\u001b[0m\u001b[0;34m.\u001b[0m\u001b[0mplot\u001b[0m\u001b[0;34m(\u001b[0m\u001b[0mkind\u001b[0m \u001b[0;34m=\u001b[0m \u001b[0;34m'pie'\u001b[0m\u001b[0;34m)\u001b[0m\u001b[0;34m\u001b[0m\u001b[0;34m\u001b[0m\u001b[0m\n\u001b[0m",
      "\u001b[0;31mNameError\u001b[0m: name 'df_usager' is not defined"
     ]
    }
   ],
   "source": [
    "%run \"/Users/cloclo/Desktop/Python/Accidents-corporels/Ouverture_donnees.ipynb\""
   ]
  },
  {
   "cell_type": "code",
   "execution_count": 13,
   "metadata": {},
   "outputs": [],
   "source": [
    "import matplotlib.pyplot as plt\n",
    "import numpy as np\n",
    "from sklearn.linear_model import LogisticRegression\n",
    "from sklearn.metrics import classification_report, confusion_matrix"
   ]
  },
  {
   "cell_type": "code",
   "execution_count": 37,
   "metadata": {},
   "outputs": [
    {
     "name": "stdout",
     "output_type": "stream",
     "text": [
      "Collecting mca\n",
      "  Downloading mca-1.0.3.tar.gz (17 kB)\n",
      "Requirement already satisfied: scipy in /Users/cloclo/opt/anaconda3/lib/python3.7/site-packages (from mca) (1.4.1)\n",
      "Requirement already satisfied: numpy in /Users/cloclo/opt/anaconda3/lib/python3.7/site-packages (from mca) (1.18.1)\n",
      "Requirement already satisfied: pandas in /Users/cloclo/opt/anaconda3/lib/python3.7/site-packages (from mca) (1.0.1)\n",
      "Requirement already satisfied: python-dateutil>=2.6.1 in /Users/cloclo/opt/anaconda3/lib/python3.7/site-packages (from pandas->mca) (2.8.1)\n",
      "Requirement already satisfied: pytz>=2017.2 in /Users/cloclo/opt/anaconda3/lib/python3.7/site-packages (from pandas->mca) (2019.3)\n",
      "Requirement already satisfied: six>=1.5 in /Users/cloclo/opt/anaconda3/lib/python3.7/site-packages (from python-dateutil>=2.6.1->pandas->mca) (1.14.0)\n",
      "Building wheels for collected packages: mca\n",
      "  Building wheel for mca (setup.py) ... \u001b[?25ldone\n",
      "\u001b[?25h  Created wheel for mca: filename=mca-1.0.3-py2.py3-none-any.whl size=5996 sha256=cb5913d44ad7249d1b530e307343ad0a83130aa85ad26870385ed44ffe1a6a22\n",
      "  Stored in directory: /Users/cloclo/Library/Caches/pip/wheels/00/46/2a/acfca530ddd1e1d72271e07cb7517611d10cd6bcd05cd0cf34\n",
      "Successfully built mca\n",
      "Installing collected packages: mca\n",
      "Successfully installed mca-1.0.3\n",
      "Note: you may need to restart the kernel to use updated packages.\n"
     ]
    }
   ],
   "source": [
    "pip install mca"
   ]
  },
  {
   "cell_type": "markdown",
   "metadata": {},
   "source": [
    "Création d'indicatrices"
   ]
  },
  {
   "cell_type": "code",
   "execution_count": 14,
   "metadata": {},
   "outputs": [],
   "source": [
    "df2 = pd.get_dummies(df, columns=['grav2', 'sexe', 'catu', 'agglo'], drop_first=True)\n",
    "df2 = df2[[\"grav2_Indemne\", 'sexe_Homme', 'catu_Passager', 'catu_Pieton', 'agglo_Hors agglomeration']]"
   ]
  },
  {
   "cell_type": "code",
   "execution_count": 16,
   "metadata": {},
   "outputs": [
    {
     "data": {
      "text/plain": [
       "LogisticRegression(C=1.0, class_weight=None, dual=False, fit_intercept=True,\n",
       "                   intercept_scaling=1, l1_ratio=None, max_iter=100,\n",
       "                   multi_class='auto', n_jobs=None, penalty='none',\n",
       "                   random_state=None, solver='newton-cg', tol=0.0001, verbose=0,\n",
       "                   warm_start=False)"
      ]
     },
     "execution_count": 16,
     "metadata": {},
     "output_type": "execute_result"
    }
   ],
   "source": [
    "y = df2[\"grav2_Indemne\"]\n",
    "x = df2[[\"sexe_Homme\", \"catu_Passager\", 'catu_Pieton', 'agglo_Hors agglomeration']]\n",
    "modele_logit = LogisticRegression(penalty='none',solver='newton-cg')\n",
    "modele_logit.fit(x,y)"
   ]
  },
  {
   "cell_type": "code",
   "execution_count": 17,
   "metadata": {},
   "outputs": [
    {
     "name": "stderr",
     "output_type": "stream",
     "text": [
      "/Users/cloclo/opt/anaconda3/lib/python3.7/site-packages/statsmodels/discrete/discrete_model.py:1747: RuntimeWarning: overflow encountered in exp\n",
      "  return 1/(1+np.exp(-X))\n",
      "/Users/cloclo/opt/anaconda3/lib/python3.7/site-packages/statsmodels/discrete/discrete_model.py:1800: RuntimeWarning: divide by zero encountered in log\n",
      "  return np.sum(np.log(self.cdf(q*np.dot(X,params))))\n"
     ]
    },
    {
     "name": "stdout",
     "output_type": "stream",
     "text": [
      "Optimization terminated successfully.\n",
      "         Current function value: inf\n",
      "         Iterations 7\n"
     ]
    },
    {
     "name": "stderr",
     "output_type": "stream",
     "text": [
      "/Users/cloclo/opt/anaconda3/lib/python3.7/site-packages/statsmodels/base/model.py:548: HessianInversionWarning: Inverting hessian failed, no bse or cov_params available\n",
      "  'available', HessianInversionWarning)\n"
     ]
    },
    {
     "name": "stdout",
     "output_type": "stream",
     "text": [
      "                             Results: Logit\n",
      "=========================================================================\n",
      "Model:                  Logit                Pseudo R-squared:     inf   \n",
      "Dependent Variable:     grav2_Indemne        AIC:                  inf   \n",
      "Date:                   2021-11-30 14:30     BIC:                  inf   \n",
      "No. Observations:       132977               Log-Likelihood:       -inf  \n",
      "Df Model:               3                    LL-Null:              0.0000\n",
      "Df Residuals:           132973               LLR p-value:          1.0000\n",
      "Converged:              1.0000               Scale:                1.0000\n",
      "No. Iterations:         7.0000                                           \n",
      "-------------------------------------------------------------------------\n",
      "                          Coef.  Std.Err.    z     P>|z|   [0.025  0.975]\n",
      "-------------------------------------------------------------------------\n",
      "sexe_Homme                0.0920   0.0081  11.3126 0.0000  0.0760  0.1079\n",
      "catu_Passager            -0.3967   0.0144 -27.6184 0.0000 -0.4249 -0.3686\n",
      "catu_Pieton              -3.5458   0.0566 -62.6395 0.0000 -3.6568 -3.4349\n",
      "agglo_Hors agglomeration -0.4383   0.0112 -39.2181 0.0000 -0.4602 -0.4164\n",
      "=========================================================================\n",
      "\n"
     ]
    },
    {
     "name": "stderr",
     "output_type": "stream",
     "text": [
      "/Users/cloclo/opt/anaconda3/lib/python3.7/site-packages/statsmodels/base/model.py:548: HessianInversionWarning: Inverting hessian failed, no bse or cov_params available\n",
      "  'available', HessianInversionWarning)\n"
     ]
    }
   ],
   "source": [
    "import statsmodels.api as sm\n",
    "logit_model=sm.Logit(y,x)\n",
    "result=logit_model.fit()\n",
    "print(result.summary2())"
   ]
  },
  {
   "cell_type": "code",
   "execution_count": 24,
   "metadata": {},
   "outputs": [
    {
     "data": {
      "text/html": [
       "<div>\n",
       "<style scoped>\n",
       "    .dataframe tbody tr th:only-of-type {\n",
       "        vertical-align: middle;\n",
       "    }\n",
       "\n",
       "    .dataframe tbody tr th {\n",
       "        vertical-align: top;\n",
       "    }\n",
       "\n",
       "    .dataframe thead th {\n",
       "        text-align: right;\n",
       "    }\n",
       "</style>\n",
       "<table border=\"1\" class=\"dataframe\">\n",
       "  <thead>\n",
       "    <tr style=\"text-align: right;\">\n",
       "      <th></th>\n",
       "      <th>sexe</th>\n",
       "      <th>catu</th>\n",
       "    </tr>\n",
       "  </thead>\n",
       "  <tbody>\n",
       "    <tr>\n",
       "      <th>0</th>\n",
       "      <td>Femme</td>\n",
       "      <td>Passager</td>\n",
       "    </tr>\n",
       "    <tr>\n",
       "      <th>1</th>\n",
       "      <td>Femme</td>\n",
       "      <td>Conducteur</td>\n",
       "    </tr>\n",
       "    <tr>\n",
       "      <th>2</th>\n",
       "      <td>Homme</td>\n",
       "      <td>Conducteur</td>\n",
       "    </tr>\n",
       "    <tr>\n",
       "      <th>3</th>\n",
       "      <td>Femme</td>\n",
       "      <td>Conducteur</td>\n",
       "    </tr>\n",
       "    <tr>\n",
       "      <th>4</th>\n",
       "      <td>Homme</td>\n",
       "      <td>Conducteur</td>\n",
       "    </tr>\n",
       "    <tr>\n",
       "      <th>...</th>\n",
       "      <td>...</td>\n",
       "      <td>...</td>\n",
       "    </tr>\n",
       "    <tr>\n",
       "      <th>132972</th>\n",
       "      <td>Femme</td>\n",
       "      <td>Conducteur</td>\n",
       "    </tr>\n",
       "    <tr>\n",
       "      <th>132973</th>\n",
       "      <td>Homme</td>\n",
       "      <td>Conducteur</td>\n",
       "    </tr>\n",
       "    <tr>\n",
       "      <th>132974</th>\n",
       "      <td>Homme</td>\n",
       "      <td>Conducteur</td>\n",
       "    </tr>\n",
       "    <tr>\n",
       "      <th>132975</th>\n",
       "      <td>Homme</td>\n",
       "      <td>Conducteur</td>\n",
       "    </tr>\n",
       "    <tr>\n",
       "      <th>132976</th>\n",
       "      <td>Homme</td>\n",
       "      <td>Conducteur</td>\n",
       "    </tr>\n",
       "  </tbody>\n",
       "</table>\n",
       "<p>132977 rows × 2 columns</p>\n",
       "</div>"
      ],
      "text/plain": [
       "         sexe        catu\n",
       "0       Femme    Passager\n",
       "1       Femme  Conducteur\n",
       "2       Homme  Conducteur\n",
       "3       Femme  Conducteur\n",
       "4       Homme  Conducteur\n",
       "...       ...         ...\n",
       "132972  Femme  Conducteur\n",
       "132973  Homme  Conducteur\n",
       "132974  Homme  Conducteur\n",
       "132975  Homme  Conducteur\n",
       "132976  Homme  Conducteur\n",
       "\n",
       "[132977 rows x 2 columns]"
      ]
     },
     "execution_count": 24,
     "metadata": {},
     "output_type": "execute_result"
    }
   ],
   "source": [
    "#https://towardsdatascience.com/building-a-logistic-regression-in-python-step-by-step-becd4d56c9c8"
   ]
  },
  {
   "cell_type": "code",
   "execution_count": 18,
   "metadata": {},
   "outputs": [],
   "source": [
    "from sklearn.tree import DecisionTreeClassifier\n",
    "arbreFirst = DecisionTreeClassifier(min_samples_split=30,min_samples_leaf=10)"
   ]
  },
  {
   "cell_type": "code",
   "execution_count": 39,
   "metadata": {},
   "outputs": [],
   "source": [
    "df[\"sexe\"]=pd.Categorical(df[\"sexe\"], ordered=False)\n",
    "df[\"catu\"]=pd.Categorical(df[\"catu\"], ordered=False)\n",
    "df[\"agglo\"]=pd.Categorical(df[\"agglo\"], ordered=False)\n",
    "df[\"grav2\"]=pd.Categorical(df[\"grav2\"], ordered=False)\n",
    "#arbreFirst.fit(X = df[[\"sexe\", \"catu\", 'agglo']], y = df[\"grav2\"])"
   ]
  },
  {
   "cell_type": "code",
   "execution_count": 41,
   "metadata": {},
   "outputs": [
    {
     "ename": "TypeError",
     "evalue": "'module' object is not callable",
     "output_type": "error",
     "traceback": [
      "\u001b[0;31m---------------------------------------------------------------------------\u001b[0m",
      "\u001b[0;31mTypeError\u001b[0m                                 Traceback (most recent call last)",
      "\u001b[0;32m<ipython-input-41-0ebab2c8de9d>\u001b[0m in \u001b[0;36m<module>\u001b[0;34m\u001b[0m\n\u001b[1;32m      1\u001b[0m \u001b[0;32mimport\u001b[0m \u001b[0mmca\u001b[0m\u001b[0;34m\u001b[0m\u001b[0;34m\u001b[0m\u001b[0m\n\u001b[0;32m----> 2\u001b[0;31m \u001b[0mmca_df2\u001b[0m\u001b[0;34m=\u001b[0m\u001b[0mmca\u001b[0m\u001b[0;34m(\u001b[0m\u001b[0mdf2\u001b[0m\u001b[0;34m)\u001b[0m\u001b[0;34m\u001b[0m\u001b[0;34m\u001b[0m\u001b[0m\n\u001b[0m\u001b[1;32m      3\u001b[0m \u001b[0;31m# Valeurs singulières\u001b[0m\u001b[0;34m\u001b[0m\u001b[0;34m\u001b[0m\u001b[0;34m\u001b[0m\u001b[0m\n\u001b[1;32m      4\u001b[0m \u001b[0mprint\u001b[0m\u001b[0;34m(\u001b[0m\u001b[0mmca_df2\u001b[0m\u001b[0;34m.\u001b[0m\u001b[0mL\u001b[0m\u001b[0;34m)\u001b[0m\u001b[0;34m\u001b[0m\u001b[0;34m\u001b[0m\u001b[0m\n\u001b[1;32m      5\u001b[0m \u001b[0;31m# Composantes principales des colonnes (modalités) print(mca_df.fs_c())\u001b[0m\u001b[0;34m\u001b[0m\u001b[0;34m\u001b[0m\u001b[0;34m\u001b[0m\u001b[0m\n",
      "\u001b[0;31mTypeError\u001b[0m: 'module' object is not callable"
     ]
    }
   ],
   "source": [
    "import mca\n",
    "mca_df2=mca(df2)\n",
    "# Valeurs singulières\n",
    "print(mca_df2.L)\n",
    "# Composantes principales des colonnes (modalités) print(mca_df.fs_c())\n",
    "# Premier plan principal\n",
    "#col=[1,1,2,2,2,3,3,5,5,5,6,6,6,7,7,7]\n",
    "#plt.scatter(mca_df2.fs_c()[:, 0],\n",
    " #  mca_df2.fs_c()[:, 1],c=col)"
   ]
  },
  {
   "cell_type": "code",
   "execution_count": null,
   "metadata": {},
   "outputs": [],
   "source": []
  }
 ],
 "metadata": {
  "kernelspec": {
   "display_name": "Python 3",
   "language": "python",
   "name": "python3"
  },
  "language_info": {
   "codemirror_mode": {
    "name": "ipython",
    "version": 3
   },
   "file_extension": ".py",
   "mimetype": "text/x-python",
   "name": "python",
   "nbconvert_exporter": "python",
   "pygments_lexer": "ipython3",
   "version": "3.7.6"
  }
 },
 "nbformat": 4,
 "nbformat_minor": 4
}
